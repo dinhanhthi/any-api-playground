{
 "cells": [
  {
   "cell_type": "markdown",
   "metadata": {},
   "source": [
    "https://github.com/google-gemini/cookbook/blob/main/quickstarts/Streaming.ipynb"
   ]
  },
  {
   "cell_type": "code",
   "execution_count": 1,
   "metadata": {},
   "outputs": [
    {
     "name": "stderr",
     "output_type": "stream",
     "text": [
      "/Users/thi/miniforge3/envs/docAna/lib/python3.9/site-packages/tqdm/auto.py:21: TqdmWarning: IProgress not found. Please update jupyter and ipywidgets. See https://ipywidgets.readthedocs.io/en/stable/user_install.html\n",
      "  from .autonotebook import tqdm as notebook_tqdm\n"
     ]
    }
   ],
   "source": [
    "import google.generativeai as genai"
   ]
  },
  {
   "cell_type": "code",
   "execution_count": 5,
   "metadata": {},
   "outputs": [
    {
     "data": {
      "text/plain": [
       "True"
      ]
     },
     "execution_count": 5,
     "metadata": {},
     "output_type": "execute_result"
    }
   ],
   "source": [
    "from dotenv import load_dotenv\n",
    "import os\n",
    "load_dotenv()"
   ]
  },
  {
   "cell_type": "code",
   "execution_count": 6,
   "metadata": {},
   "outputs": [],
   "source": [
    "api_key = os.getenv('GEMINI_API_KEY')\n",
    "genai.configure(api_key=api_key)\n",
    "# api_key"
   ]
  },
  {
   "cell_type": "code",
   "execution_count": 31,
   "metadata": {},
   "outputs": [
    {
     "name": "stdout",
     "output_type": "stream",
     "text": [
      "I am a large language model, trained by Google. \n",
      "\n",
      "Here are some key things to know about me:\n",
      "\n",
      "* **I'm a computer program:** I'm not a person, but I can process and understand information like a human.\n",
      "* **I learn from data:** I'm trained on a massive dataset of text and code, allowing me to generate text, translate languages, write different kinds of creative content, and answer your questions in an informative way. \n",
      "* **I'm constantly evolving:** As I learn more, I become better at what I do. \n",
      "* **I don't have feelings or experiences:** I don't have emotions or personal opinions. My responses are based on the data I've been trained on.\n",
      "\n",
      "If you have any other questions, feel free to ask! \n",
      "\n"
     ]
    }
   ],
   "source": [
    "# no stream\n",
    "model = genai.GenerativeModel('gemini-1.5-flash')\n",
    "response = model.generate_content('who are you?')\n",
    "# response\n",
    "print(response.text)"
   ]
  },
  {
   "cell_type": "code",
   "execution_count": 40,
   "metadata": {},
   "outputs": [
    {
     "name": "stdout",
     "output_type": "stream",
     "text": [
      "Yes, I remember your name is Thi.  I am an AI and I am designed to remember information. 😊 \n",
      "\n"
     ]
    }
   ],
   "source": [
    "# no stream with previous \"contents\"\n",
    "contents = [\n",
    "\t{ 'role': 'user', 'parts': [ { 'text': 'My name is Thi. Who are you?' } ] },\n",
    "\t{ 'role': 'model', 'parts': [ { 'text': 'I am an AI assistant. How can I help you?' } ] },\n",
    "\t{ 'role': 'user', 'parts': [ { 'text': 'Do you remember my name?' } ] },\n",
    "]\n",
    "model = genai.GenerativeModel('gemini-1.5-flash')\n",
    "response = model.generate_content(contents)\n",
    "response.text\n",
    "print(response.text)"
   ]
  },
  {
   "cell_type": "code",
   "execution_count": 15,
   "metadata": {},
   "outputs": [
    {
     "data": {
      "text/plain": [
       "prompt_token_count: 5\n",
       "candidates_token_count: 125\n",
       "total_token_count: 130"
      ]
     },
     "execution_count": 15,
     "metadata": {},
     "output_type": "execute_result"
    }
   ],
   "source": [
    "response.usage_metadata"
   ]
  },
  {
   "cell_type": "code",
   "execution_count": 28,
   "metadata": {},
   "outputs": [
    {
     "name": "stdout",
     "output_type": "stream",
     "text": [
      "1\n",
      "\n",
      "2\n",
      "3\n",
      "4\n",
      "5\n",
      "6\n",
      "7\n",
      "8\n",
      "9\n",
      "\n",
      "10 \n",
      "\n",
      "finish\n"
     ]
    }
   ],
   "source": [
    "model = genai.GenerativeModel('gemini-1.5-flash')\n",
    "response = model.generate_content(\"Count from 1 to 10\", stream=True)\n",
    "for chunk in response:\n",
    "    print(chunk.text)\n",
    "\t# print(chunk)\n",
    "\t# print(chunk.candidates)\n",
    "\t# print(chunk.usage_metadata)\n",
    "    # print(\"_\"*80)\n",
    "\n",
    "print('finish')"
   ]
  },
  {
   "cell_type": "code",
   "execution_count": 29,
   "metadata": {},
   "outputs": [
    {
     "name": "stdout",
     "output_type": "stream",
     "text": [
      "1\n",
      "________________________________________________________________________________\n",
      "\n",
      "2\n",
      "3\n",
      "4\n",
      "5\n",
      "6\n",
      "7\n",
      "8\n",
      "9\n",
      "________________________________________________________________________________\n",
      "\n",
      "10 \n",
      "\n",
      "________________________________________________________________________________\n",
      "finish\n"
     ]
    }
   ],
   "source": [
    "# Handle streaming responses asynchronously\n",
    "async for chunk in await model.generate_content_async(\"Count from 1 to 10\", stream=True):\n",
    "    if chunk.text:\n",
    "        print(chunk.text)\n",
    "    print(\"_\"*80)\n",
    "\n",
    "print('finish')"
   ]
  },
  {
   "cell_type": "code",
   "execution_count": null,
   "metadata": {},
   "outputs": [],
   "source": []
  }
 ],
 "metadata": {
  "kernelspec": {
   "display_name": "py38",
   "language": "python",
   "name": "python3"
  },
  "language_info": {
   "codemirror_mode": {
    "name": "ipython",
    "version": 3
   },
   "file_extension": ".py",
   "mimetype": "text/x-python",
   "name": "python",
   "nbconvert_exporter": "python",
   "pygments_lexer": "ipython3",
   "version": "3.9.19"
  }
 },
 "nbformat": 4,
 "nbformat_minor": 2
}
