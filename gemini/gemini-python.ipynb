{
 "cells": [
  {
   "cell_type": "code",
   "execution_count": 1,
   "metadata": {},
   "outputs": [
    {
     "name": "stderr",
     "output_type": "stream",
     "text": [
      "/Users/thi/miniforge3/envs/docAna/lib/python3.9/site-packages/tqdm/auto.py:21: TqdmWarning: IProgress not found. Please update jupyter and ipywidgets. See https://ipywidgets.readthedocs.io/en/stable/user_install.html\n",
      "  from .autonotebook import tqdm as notebook_tqdm\n"
     ]
    }
   ],
   "source": [
    "import google.generativeai as genai"
   ]
  },
  {
   "cell_type": "code",
   "execution_count": 5,
   "metadata": {},
   "outputs": [
    {
     "data": {
      "text/plain": [
       "True"
      ]
     },
     "execution_count": 5,
     "metadata": {},
     "output_type": "execute_result"
    }
   ],
   "source": [
    "from dotenv import load_dotenv\n",
    "import os\n",
    "load_dotenv()"
   ]
  },
  {
   "cell_type": "code",
   "execution_count": null,
   "metadata": {},
   "outputs": [],
   "source": []
  },
  {
   "cell_type": "code",
   "execution_count": 6,
   "metadata": {},
   "outputs": [],
   "source": [
    "api_key = os.getenv('GEMINI_API_KEY')\n",
    "genai.configure(api_key=api_key)\n",
    "# api_key"
   ]
  },
  {
   "cell_type": "code",
   "execution_count": 7,
   "metadata": {},
   "outputs": [
    {
     "name": "stderr",
     "output_type": "stream",
     "text": [
      "WARNING: All log messages before absl::InitializeLog() is called are written to STDERR\n",
      "I0000 00:00:1723802826.620459 7634415 check_gcp_environment_no_op.cc:29] ALTS: Platforms other than Linux and Windows are not supported\n"
     ]
    },
    {
     "name": "stdout",
     "output_type": "stream",
     "text": [
      "Pen\n",
      "________________________________________________________________________________\n",
      "elope, a fluffy calico with eyes like golden buttons, had a secret. She\n",
      "________________________________________________________________________________\n",
      " wasn't just a house cat, she was a detective.  Every morning\n",
      "________________________________________________________________________________\n",
      ", she would perch on the windowsill, her tail twitching in anticipation, watching the world unfold.  Her partner-in-crime?  A mischievous\n",
      "________________________________________________________________________________\n",
      " ginger tabby named Jasper, who lived next door.\n",
      "\n",
      "One day, a peculiar case emerged. Mrs. Higgins, the kindly old lady down the street, had\n",
      "________________________________________________________________________________\n",
      " lost her precious knitting needles. \"They've gone missing,\" she lamented, her voice trembling with worry. \"My knitting group meeting is tomorrow, and I have nothing to knit with!\"\n",
      "\n",
      "Penelope, ever the compassionate feline, took\n",
      "________________________________________________________________________________\n",
      " the case. She and Jasper, with his keen sense of smell, began their investigation. First, they scoured the neighborhood, sniffing out clues.  Jasper, ever the showman, sniffed theatrically under bushes and even poked his\n",
      "________________________________________________________________________________\n",
      " head into a discarded shopping cart, much to Penelope's chagrin.\n",
      "\n",
      "Penelope, however, was more methodical. She meticulously examined Mrs. Higgins' garden, her golden eyes scanning every corner.  Suddenly, she spotted a glint of metal beneath a rose bush.  She nudged it with her paw,\n",
      "________________________________________________________________________________\n",
      " revealing… a single knitting needle! \n",
      "\n",
      "Jasper, hearing the commotion, raced over. He let out a triumphant meow and swiped the needle with his paw.  He was about to run off with his prize when Penelope, in a flash of calico fury, swatted him playfully. \n",
      "\n",
      "Together, they continued\n",
      "________________________________________________________________________________\n",
      " their search, following the trail of metal glint.  They found the second needle tucked under a loose paving stone.  They nudged it out with their noses, feeling a swell of pride at their detective work.\n",
      "\n",
      "They raced back to Mrs. Higgins, dropping the needles at her feet.  She gasped in\n",
      "________________________________________________________________________________\n",
      " delight, her wrinkled face crinkling with joy.  \"Oh, you wonderful creatures!  You found them!\"  She hugged them both, showering them with purrs and scratches. \n",
      "\n",
      "Penelope and Jasper purred contentedly, their hearts full. They were, after all, the best detectives a neighborhood could\n",
      "________________________________________________________________________________\n",
      " ask for.  And they knew, with every purr and playful swipe, that their adventures were just beginning. \n",
      "\n",
      "________________________________________________________________________________\n"
     ]
    }
   ],
   "source": [
    "model = genai.GenerativeModel('gemini-1.5-flash')\n",
    "response = model.generate_content(\"Write a cute story about cats.\", stream=True)\n",
    "for chunk in response:\n",
    "    print(chunk.text)\n",
    "    print(\"_\"*80)"
   ]
  },
  {
   "cell_type": "code",
   "execution_count": null,
   "metadata": {},
   "outputs": [],
   "source": []
  }
 ],
 "metadata": {
  "kernelspec": {
   "display_name": "py38",
   "language": "python",
   "name": "python3"
  },
  "language_info": {
   "codemirror_mode": {
    "name": "ipython",
    "version": 3
   },
   "file_extension": ".py",
   "mimetype": "text/x-python",
   "name": "python",
   "nbconvert_exporter": "python",
   "pygments_lexer": "ipython3",
   "version": "3.9.19"
  }
 },
 "nbformat": 4,
 "nbformat_minor": 2
}
