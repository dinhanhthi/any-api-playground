{
 "cells": [
  {
   "cell_type": "code",
   "execution_count": 4,
   "id": "aa48b1ea",
   "metadata": {},
   "outputs": [],
   "source": [
    "from google import genai\n",
    "from dotenv import load_dotenv\n",
    "import os\n",
    "load_dotenv()\n",
    "\n",
    "api_key = os.getenv('GEMINI_API_KEY')"
   ]
  },
  {
   "cell_type": "code",
   "execution_count": 4,
   "id": "f7e63361",
   "metadata": {},
   "outputs": [
    {
     "name": "stdout",
     "output_type": "stream",
     "text": [
      "Hello! I am a large language model, trained by Google.\n"
     ]
    }
   ],
   "source": [
    "from google import genai\n",
    "\n",
    "client = genai.Client(api_key=api_key)\n",
    "\n",
    "response = client.models.generate_content(\n",
    "    model=\"gemini-2.5-flash\",\n",
    "    contents=\"Hello, who are you?\"\n",
    ")\n",
    "print(response.text)"
   ]
  },
  {
   "cell_type": "code",
   "execution_count": null,
   "id": "3413dd8a",
   "metadata": {},
   "outputs": [
    {
     "name": "stdout",
     "output_type": "stream",
     "text": [
      "Length of embedding: 1536\n",
      "(1536,)\n"
     ]
    }
   ],
   "source": [
    "from google import genai\n",
    "from google.genai import types\n",
    "import numpy as np\n",
    "\n",
    "\n",
    "input = \"Hello World!\"\n",
    "# input = [\"It's $1000.\"]\n",
    "# input = [\"It's $1000.\", \"example 2\", \"example 3\"]\n",
    "\n",
    "\n",
    "client = genai.Client()\n",
    "response = client.models.embed_content(\n",
    "    # model=\"models/text-embedding-004\", # 1536 is not possible\n",
    "    model=\"gemini-embedding-001\", # 1536 is possible\n",
    "    contents=input,\n",
    "    config=types.EmbedContentConfig(output_dimensionality=1536)\n",
    ")\n",
    "\n",
    "[embedding_obj] = response.embeddings\n",
    "embedding_length = len(embedding_obj.values)\n",
    "print(f\"Length of embedding: {embedding_length}\")\n",
    "\n",
    "result = [embedding.values for embedding in response.embeddings]\n",
    "\n",
    "# For single string input, get the first (and only) embedding\n",
    "if isinstance(input, str):\n",
    "    result = result[0]\n",
    "\n",
    "print(np.array(result).shape)"
   ]
  },
  {
   "cell_type": "code",
   "execution_count": null,
   "id": "ae7721c0",
   "metadata": {},
   "outputs": [],
   "source": [
    "from openai import OpenAI, AzureOpenAI\n",
    "client = OpenAI(api_key=os.getenv(\"OPENAI_API_KEY\"))"
   ]
  },
  {
   "cell_type": "code",
   "execution_count": null,
   "id": "0ea8c993",
   "metadata": {},
   "outputs": [],
   "source": []
  },
  {
   "cell_type": "code",
   "execution_count": null,
   "id": "ab44f29b",
   "metadata": {},
   "outputs": [
    {
     "name": "stdout",
     "output_type": "stream",
     "text": [
      "\n",
      "The\n",
      " pricing\n",
      " is\n",
      " **\n",
      "$\n",
      "1\n",
      "0\n",
      "0\n",
      "0\n",
      "**.\n",
      "\n"
     ]
    }
   ],
   "source": []
  },
  {
   "cell_type": "code",
   "execution_count": null,
   "id": "7679d12f",
   "metadata": {},
   "outputs": [
    {
     "name": "stderr",
     "output_type": "stream",
     "text": [
      "WARNING: All log messages before absl::InitializeLog() is called are written to STDERR\n",
      "I0000 00:00:1755243746.860232 11882628 check_gcp_environment_no_op.cc:29] ALTS: Platforms other than Linux and Windows are not supported\n"
     ]
    },
    {
     "data": {
      "text/plain": [
       "'The pricing of Ideta is 111111.'"
      ]
     },
     "metadata": {},
     "output_type": "display_data"
    }
   ],
   "source": []
  },
  {
   "cell_type": "code",
   "execution_count": null,
   "id": "a07e0629",
   "metadata": {},
   "outputs": [
    {
     "ename": "KeyError",
     "evalue": "\"Unable to determine the intended type of the `dict`. For `Content`, a 'parts' key is expected. For `Part`, either an 'inline_data' or a 'text' key is expected. For `Blob`, both 'mime_type' and 'data' keys are expected. However, the provided dictionary has the following keys: ['functionCall']\"",
     "output_type": "error",
     "traceback": [
      "\u001b[0;31m---------------------------------------------------------------------------\u001b[0m\n",
      "\u001b[0;31mKeyError\u001b[0m                                  Traceback (most recent call last)\n",
      "Cell \u001b[0;32mIn[8], line 15\u001b[0m\n",
      "\u001b[1;32m      7\u001b[0m stream \u001b[38;5;241m=\u001b[39m \u001b[38;5;28;01mFalse\u001b[39;00m\n",
      "\u001b[1;32m      8\u001b[0m gModel \u001b[38;5;241m=\u001b[39m genai\u001b[38;5;241m.\u001b[39mGenerativeModel(\n",
      "\u001b[1;32m      9\u001b[0m     model_name\u001b[38;5;241m=\u001b[39mmodel,\n",
      "\u001b[1;32m     10\u001b[0m     system_instruction\u001b[38;5;241m=\u001b[39mprompt[\u001b[38;5;124m\"\u001b[39m\u001b[38;5;124msystem_instruction\u001b[39m\u001b[38;5;124m\"\u001b[39m],\n",
      "\u001b[0;32m   (...)\u001b[0m\n",
      "\u001b[1;32m     13\u001b[0m     )\n",
      "\u001b[1;32m     14\u001b[0m )\n",
      "\u001b[0;32m---> 15\u001b[0m response \u001b[38;5;241m=\u001b[39m \u001b[43mgModel\u001b[49m\u001b[38;5;241;43m.\u001b[39;49m\u001b[43mgenerate_content\u001b[49m\u001b[43m(\u001b[49m\u001b[43mprompt\u001b[49m\u001b[43m[\u001b[49m\u001b[38;5;124;43m'\u001b[39;49m\u001b[38;5;124;43mcontents\u001b[39;49m\u001b[38;5;124;43m'\u001b[39;49m\u001b[43m]\u001b[49m\u001b[43m,\u001b[49m\u001b[43m \u001b[49m\u001b[43mstream\u001b[49m\u001b[38;5;241;43m=\u001b[39;49m\u001b[43mstream\u001b[49m\u001b[43m)\u001b[49m\n",
      "\u001b[1;32m     16\u001b[0m response\u001b[38;5;241m.\u001b[39mtext\n",
      "\n",
      "File \u001b[0;32m~/miniforge3/envs/docAna/lib/python3.9/site-packages/google/generativeai/generative_models.py:305\u001b[0m, in \u001b[0;36mGenerativeModel.generate_content\u001b[0;34m(self, contents, generation_config, safety_settings, stream, tools, tool_config, request_options)\u001b[0m\n",
      "\u001b[1;32m    302\u001b[0m \u001b[38;5;28;01mif\u001b[39;00m \u001b[38;5;129;01mnot\u001b[39;00m contents:\n",
      "\u001b[1;32m    303\u001b[0m     \u001b[38;5;28;01mraise\u001b[39;00m \u001b[38;5;167;01mTypeError\u001b[39;00m(\u001b[38;5;124m\"\u001b[39m\u001b[38;5;124mcontents must not be empty\u001b[39m\u001b[38;5;124m\"\u001b[39m)\n",
      "\u001b[0;32m--> 305\u001b[0m request \u001b[38;5;241m=\u001b[39m \u001b[38;5;28;43mself\u001b[39;49m\u001b[38;5;241;43m.\u001b[39;49m\u001b[43m_prepare_request\u001b[49m\u001b[43m(\u001b[49m\n",
      "\u001b[1;32m    306\u001b[0m \u001b[43m    \u001b[49m\u001b[43mcontents\u001b[49m\u001b[38;5;241;43m=\u001b[39;49m\u001b[43mcontents\u001b[49m\u001b[43m,\u001b[49m\n",
      "\u001b[1;32m    307\u001b[0m \u001b[43m    \u001b[49m\u001b[43mgeneration_config\u001b[49m\u001b[38;5;241;43m=\u001b[39;49m\u001b[43mgeneration_config\u001b[49m\u001b[43m,\u001b[49m\n",
      "\u001b[1;32m    308\u001b[0m \u001b[43m    \u001b[49m\u001b[43msafety_settings\u001b[49m\u001b[38;5;241;43m=\u001b[39;49m\u001b[43msafety_settings\u001b[49m\u001b[43m,\u001b[49m\n",
      "\u001b[1;32m    309\u001b[0m \u001b[43m    \u001b[49m\u001b[43mtools\u001b[49m\u001b[38;5;241;43m=\u001b[39;49m\u001b[43mtools\u001b[49m\u001b[43m,\u001b[49m\n",
      "\u001b[1;32m    310\u001b[0m \u001b[43m    \u001b[49m\u001b[43mtool_config\u001b[49m\u001b[38;5;241;43m=\u001b[39;49m\u001b[43mtool_config\u001b[49m\u001b[43m,\u001b[49m\n",
      "\u001b[1;32m    311\u001b[0m \u001b[43m\u001b[49m\u001b[43m)\u001b[49m\n",
      "\u001b[1;32m    313\u001b[0m \u001b[38;5;28;01mif\u001b[39;00m request\u001b[38;5;241m.\u001b[39mcontents \u001b[38;5;129;01mand\u001b[39;00m \u001b[38;5;129;01mnot\u001b[39;00m request\u001b[38;5;241m.\u001b[39mcontents[\u001b[38;5;241m-\u001b[39m\u001b[38;5;241m1\u001b[39m]\u001b[38;5;241m.\u001b[39mrole:\n",
      "\u001b[1;32m    314\u001b[0m     request\u001b[38;5;241m.\u001b[39mcontents[\u001b[38;5;241m-\u001b[39m\u001b[38;5;241m1\u001b[39m]\u001b[38;5;241m.\u001b[39mrole \u001b[38;5;241m=\u001b[39m _USER_ROLE\n",
      "\n",
      "File \u001b[0;32m~/miniforge3/envs/docAna/lib/python3.9/site-packages/google/generativeai/generative_models.py:154\u001b[0m, in \u001b[0;36mGenerativeModel._prepare_request\u001b[0;34m(self, contents, generation_config, safety_settings, tools, tool_config)\u001b[0m\n",
      "\u001b[1;32m    151\u001b[0m \u001b[38;5;28;01melse\u001b[39;00m:\n",
      "\u001b[1;32m    152\u001b[0m     tool_config \u001b[38;5;241m=\u001b[39m content_types\u001b[38;5;241m.\u001b[39mto_tool_config(tool_config)\n",
      "\u001b[0;32m--> 154\u001b[0m contents \u001b[38;5;241m=\u001b[39m \u001b[43mcontent_types\u001b[49m\u001b[38;5;241;43m.\u001b[39;49m\u001b[43mto_contents\u001b[49m\u001b[43m(\u001b[49m\u001b[43mcontents\u001b[49m\u001b[43m)\u001b[49m\n",
      "\u001b[1;32m    156\u001b[0m generation_config \u001b[38;5;241m=\u001b[39m generation_types\u001b[38;5;241m.\u001b[39mto_generation_config_dict(generation_config)\n",
      "\u001b[1;32m    157\u001b[0m merged_gc \u001b[38;5;241m=\u001b[39m \u001b[38;5;28mself\u001b[39m\u001b[38;5;241m.\u001b[39m_generation_config\u001b[38;5;241m.\u001b[39mcopy()\n",
      "\n",
      "File \u001b[0;32m~/miniforge3/envs/docAna/lib/python3.9/site-packages/google/generativeai/types/content_types.py:288\u001b[0m, in \u001b[0;36mto_contents\u001b[0;34m(contents)\u001b[0m\n",
      "\u001b[1;32m    285\u001b[0m \u001b[38;5;28;01mif\u001b[39;00m \u001b[38;5;28misinstance\u001b[39m(contents, Iterable) \u001b[38;5;129;01mand\u001b[39;00m \u001b[38;5;129;01mnot\u001b[39;00m \u001b[38;5;28misinstance\u001b[39m(contents, (\u001b[38;5;28mstr\u001b[39m, Mapping)):\n",
      "\u001b[1;32m    286\u001b[0m     \u001b[38;5;28;01mtry\u001b[39;00m:\n",
      "\u001b[1;32m    287\u001b[0m         \u001b[38;5;66;03m# strict_to_content so [[parts], [parts]] doesn't assume roles.\u001b[39;00m\n",
      "\u001b[0;32m--> 288\u001b[0m         contents \u001b[38;5;241m=\u001b[39m [strict_to_content(c) \u001b[38;5;28;01mfor\u001b[39;00m c \u001b[38;5;129;01min\u001b[39;00m contents]\n",
      "\u001b[1;32m    289\u001b[0m         \u001b[38;5;28;01mreturn\u001b[39;00m contents\n",
      "\u001b[1;32m    290\u001b[0m     \u001b[38;5;28;01mexcept\u001b[39;00m \u001b[38;5;167;01mTypeError\u001b[39;00m:\n",
      "\u001b[1;32m    291\u001b[0m         \u001b[38;5;66;03m# If you get a TypeError here it's probably because that was a list\u001b[39;00m\n",
      "\u001b[1;32m    292\u001b[0m         \u001b[38;5;66;03m# of parts, not a list of contents, so fall back to `to_content`.\u001b[39;00m\n",
      "\n",
      "File \u001b[0;32m~/miniforge3/envs/docAna/lib/python3.9/site-packages/google/generativeai/types/content_types.py:288\u001b[0m, in \u001b[0;36m<listcomp>\u001b[0;34m(.0)\u001b[0m\n",
      "\u001b[1;32m    285\u001b[0m \u001b[38;5;28;01mif\u001b[39;00m \u001b[38;5;28misinstance\u001b[39m(contents, Iterable) \u001b[38;5;129;01mand\u001b[39;00m \u001b[38;5;129;01mnot\u001b[39;00m \u001b[38;5;28misinstance\u001b[39m(contents, (\u001b[38;5;28mstr\u001b[39m, Mapping)):\n",
      "\u001b[1;32m    286\u001b[0m     \u001b[38;5;28;01mtry\u001b[39;00m:\n",
      "\u001b[1;32m    287\u001b[0m         \u001b[38;5;66;03m# strict_to_content so [[parts], [parts]] doesn't assume roles.\u001b[39;00m\n",
      "\u001b[0;32m--> 288\u001b[0m         contents \u001b[38;5;241m=\u001b[39m [\u001b[43mstrict_to_content\u001b[49m\u001b[43m(\u001b[49m\u001b[43mc\u001b[49m\u001b[43m)\u001b[49m \u001b[38;5;28;01mfor\u001b[39;00m c \u001b[38;5;129;01min\u001b[39;00m contents]\n",
      "\u001b[1;32m    289\u001b[0m         \u001b[38;5;28;01mreturn\u001b[39;00m contents\n",
      "\u001b[1;32m    290\u001b[0m     \u001b[38;5;28;01mexcept\u001b[39;00m \u001b[38;5;167;01mTypeError\u001b[39;00m:\n",
      "\u001b[1;32m    291\u001b[0m         \u001b[38;5;66;03m# If you get a TypeError here it's probably because that was a list\u001b[39;00m\n",
      "\u001b[1;32m    292\u001b[0m         \u001b[38;5;66;03m# of parts, not a list of contents, so fall back to `to_content`.\u001b[39;00m\n",
      "\n",
      "File \u001b[0;32m~/miniforge3/envs/docAna/lib/python3.9/site-packages/google/generativeai/types/content_types.py:266\u001b[0m, in \u001b[0;36mstrict_to_content\u001b[0;34m(content)\u001b[0m\n",
      "\u001b[1;32m    264\u001b[0m \u001b[38;5;28;01mdef\u001b[39;00m \u001b[38;5;21mstrict_to_content\u001b[39m(content: StrictContentType):\n",
      "\u001b[1;32m    265\u001b[0m     \u001b[38;5;28;01mif\u001b[39;00m \u001b[38;5;28misinstance\u001b[39m(content, Mapping):\n",
      "\u001b[0;32m--> 266\u001b[0m         content \u001b[38;5;241m=\u001b[39m \u001b[43m_convert_dict\u001b[49m\u001b[43m(\u001b[49m\u001b[43mcontent\u001b[49m\u001b[43m)\u001b[49m\n",
      "\u001b[1;32m    268\u001b[0m     \u001b[38;5;28;01mif\u001b[39;00m \u001b[38;5;28misinstance\u001b[39m(content, protos\u001b[38;5;241m.\u001b[39mContent):\n",
      "\u001b[1;32m    269\u001b[0m         \u001b[38;5;28;01mreturn\u001b[39;00m content\n",
      "\n",
      "File \u001b[0;32m~/miniforge3/envs/docAna/lib/python3.9/site-packages/google/generativeai/types/content_types.py:125\u001b[0m, in \u001b[0;36m_convert_dict\u001b[0;34m(d)\u001b[0m\n",
      "\u001b[1;32m    123\u001b[0m     \u001b[38;5;28;01mif\u001b[39;00m \u001b[38;5;28misinstance\u001b[39m(parts \u001b[38;5;241m:=\u001b[39m content[\u001b[38;5;124m\"\u001b[39m\u001b[38;5;124mparts\u001b[39m\u001b[38;5;124m\"\u001b[39m], \u001b[38;5;28mstr\u001b[39m):\n",
      "\u001b[1;32m    124\u001b[0m         content[\u001b[38;5;124m\"\u001b[39m\u001b[38;5;124mparts\u001b[39m\u001b[38;5;124m\"\u001b[39m] \u001b[38;5;241m=\u001b[39m [parts]\n",
      "\u001b[0;32m--> 125\u001b[0m     content[\u001b[38;5;124m\"\u001b[39m\u001b[38;5;124mparts\u001b[39m\u001b[38;5;124m\"\u001b[39m] \u001b[38;5;241m=\u001b[39m [to_part(part) \u001b[38;5;28;01mfor\u001b[39;00m part \u001b[38;5;129;01min\u001b[39;00m content[\u001b[38;5;124m\"\u001b[39m\u001b[38;5;124mparts\u001b[39m\u001b[38;5;124m\"\u001b[39m]]\n",
      "\u001b[1;32m    126\u001b[0m     \u001b[38;5;28;01mreturn\u001b[39;00m protos\u001b[38;5;241m.\u001b[39mContent(content)\n",
      "\u001b[1;32m    127\u001b[0m \u001b[38;5;28;01melif\u001b[39;00m is_part_dict(d):\n",
      "\n",
      "File \u001b[0;32m~/miniforge3/envs/docAna/lib/python3.9/site-packages/google/generativeai/types/content_types.py:125\u001b[0m, in \u001b[0;36m<listcomp>\u001b[0;34m(.0)\u001b[0m\n",
      "\u001b[1;32m    123\u001b[0m     \u001b[38;5;28;01mif\u001b[39;00m \u001b[38;5;28misinstance\u001b[39m(parts \u001b[38;5;241m:=\u001b[39m content[\u001b[38;5;124m\"\u001b[39m\u001b[38;5;124mparts\u001b[39m\u001b[38;5;124m\"\u001b[39m], \u001b[38;5;28mstr\u001b[39m):\n",
      "\u001b[1;32m    124\u001b[0m         content[\u001b[38;5;124m\"\u001b[39m\u001b[38;5;124mparts\u001b[39m\u001b[38;5;124m\"\u001b[39m] \u001b[38;5;241m=\u001b[39m [parts]\n",
      "\u001b[0;32m--> 125\u001b[0m     content[\u001b[38;5;124m\"\u001b[39m\u001b[38;5;124mparts\u001b[39m\u001b[38;5;124m\"\u001b[39m] \u001b[38;5;241m=\u001b[39m [\u001b[43mto_part\u001b[49m\u001b[43m(\u001b[49m\u001b[43mpart\u001b[49m\u001b[43m)\u001b[49m \u001b[38;5;28;01mfor\u001b[39;00m part \u001b[38;5;129;01min\u001b[39;00m content[\u001b[38;5;124m\"\u001b[39m\u001b[38;5;124mparts\u001b[39m\u001b[38;5;124m\"\u001b[39m]]\n",
      "\u001b[1;32m    126\u001b[0m     \u001b[38;5;28;01mreturn\u001b[39;00m protos\u001b[38;5;241m.\u001b[39mContent(content)\n",
      "\u001b[1;32m    127\u001b[0m \u001b[38;5;28;01melif\u001b[39;00m is_part_dict(d):\n",
      "\n",
      "File \u001b[0;32m~/miniforge3/envs/docAna/lib/python3.9/site-packages/google/generativeai/types/content_types.py:209\u001b[0m, in \u001b[0;36mto_part\u001b[0;34m(part)\u001b[0m\n",
      "\u001b[1;32m    207\u001b[0m \u001b[38;5;28;01mdef\u001b[39;00m \u001b[38;5;21mto_part\u001b[39m(part: PartType):\n",
      "\u001b[1;32m    208\u001b[0m     \u001b[38;5;28;01mif\u001b[39;00m \u001b[38;5;28misinstance\u001b[39m(part, Mapping):\n",
      "\u001b[0;32m--> 209\u001b[0m         part \u001b[38;5;241m=\u001b[39m \u001b[43m_convert_dict\u001b[49m\u001b[43m(\u001b[49m\u001b[43mpart\u001b[49m\u001b[43m)\u001b[49m\n",
      "\u001b[1;32m    211\u001b[0m     \u001b[38;5;28;01mif\u001b[39;00m \u001b[38;5;28misinstance\u001b[39m(part, protos\u001b[38;5;241m.\u001b[39mPart):\n",
      "\u001b[1;32m    212\u001b[0m         \u001b[38;5;28;01mreturn\u001b[39;00m part\n",
      "\n",
      "File \u001b[0;32m~/miniforge3/envs/docAna/lib/python3.9/site-packages/google/generativeai/types/content_types.py:138\u001b[0m, in \u001b[0;36m_convert_dict\u001b[0;34m(d)\u001b[0m\n",
      "\u001b[1;32m    136\u001b[0m     \u001b[38;5;28;01mreturn\u001b[39;00m protos\u001b[38;5;241m.\u001b[39mBlob(blob)\n",
      "\u001b[1;32m    137\u001b[0m \u001b[38;5;28;01melse\u001b[39;00m:\n",
      "\u001b[0;32m--> 138\u001b[0m     \u001b[38;5;28;01mraise\u001b[39;00m \u001b[38;5;167;01mKeyError\u001b[39;00m(\n",
      "\u001b[1;32m    139\u001b[0m         \u001b[38;5;124m\"\u001b[39m\u001b[38;5;124mUnable to determine the intended type of the `dict`. \u001b[39m\u001b[38;5;124m\"\u001b[39m\n",
      "\u001b[1;32m    140\u001b[0m         \u001b[38;5;124m\"\u001b[39m\u001b[38;5;124mFor `Content`, a \u001b[39m\u001b[38;5;124m'\u001b[39m\u001b[38;5;124mparts\u001b[39m\u001b[38;5;124m'\u001b[39m\u001b[38;5;124m key is expected. \u001b[39m\u001b[38;5;124m\"\u001b[39m\n",
      "\u001b[1;32m    141\u001b[0m         \u001b[38;5;124m\"\u001b[39m\u001b[38;5;124mFor `Part`, either an \u001b[39m\u001b[38;5;124m'\u001b[39m\u001b[38;5;124minline_data\u001b[39m\u001b[38;5;124m'\u001b[39m\u001b[38;5;124m or a \u001b[39m\u001b[38;5;124m'\u001b[39m\u001b[38;5;124mtext\u001b[39m\u001b[38;5;124m'\u001b[39m\u001b[38;5;124m key is expected. \u001b[39m\u001b[38;5;124m\"\u001b[39m\n",
      "\u001b[1;32m    142\u001b[0m         \u001b[38;5;124m\"\u001b[39m\u001b[38;5;124mFor `Blob`, both \u001b[39m\u001b[38;5;124m'\u001b[39m\u001b[38;5;124mmime_type\u001b[39m\u001b[38;5;124m'\u001b[39m\u001b[38;5;124m and \u001b[39m\u001b[38;5;124m'\u001b[39m\u001b[38;5;124mdata\u001b[39m\u001b[38;5;124m'\u001b[39m\u001b[38;5;124m keys are expected. \u001b[39m\u001b[38;5;124m\"\u001b[39m\n",
      "\u001b[1;32m    143\u001b[0m         \u001b[38;5;124mf\u001b[39m\u001b[38;5;124m\"\u001b[39m\u001b[38;5;124mHowever, the provided dictionary has the following keys: \u001b[39m\u001b[38;5;132;01m{\u001b[39;00m\u001b[38;5;28mlist\u001b[39m(d\u001b[38;5;241m.\u001b[39mkeys())\u001b[38;5;132;01m}\u001b[39;00m\u001b[38;5;124m\"\u001b[39m\n",
      "\u001b[1;32m    144\u001b[0m     )\n",
      "\n",
      "\u001b[0;31mKeyError\u001b[0m: \"Unable to determine the intended type of the `dict`. For `Content`, a 'parts' key is expected. For `Part`, either an 'inline_data' or a 'text' key is expected. For `Blob`, both 'mime_type' and 'data' keys are expected. However, the provided dictionary has the following keys: ['functionCall']\""
     ]
    }
   ],
   "source": []
  },
  {
   "cell_type": "code",
   "execution_count": null,
   "id": "20d33166",
   "metadata": {},
   "outputs": [],
   "source": []
  },
  {
   "cell_type": "code",
   "execution_count": null,
   "id": "529e7a84",
   "metadata": {},
   "outputs": [],
   "source": []
  },
  {
   "cell_type": "code",
   "execution_count": null,
   "id": "049fa286",
   "metadata": {},
   "outputs": [],
   "source": []
  },
  {
   "cell_type": "code",
   "execution_count": null,
   "id": "5c8872c9",
   "metadata": {},
   "outputs": [],
   "source": []
  },
  {
   "cell_type": "code",
   "execution_count": null,
   "id": "293ed5e5",
   "metadata": {},
   "outputs": [],
   "source": []
  },
  {
   "cell_type": "code",
   "execution_count": null,
   "id": "24b6cbd6",
   "metadata": {},
   "outputs": [
    {
     "name": "stdout",
     "output_type": "stream",
     "text": [
      "\n",
      "The\n",
      " pricing\n",
      " is\n",
      " **\n",
      "$\n",
      "1\n",
      "0\n",
      "0\n",
      "0\n",
      "**.\n",
      "\n"
     ]
    }
   ],
   "source": []
  },
  {
   "cell_type": "code",
   "execution_count": null,
   "id": "d38bfb1f",
   "metadata": {},
   "outputs": [
    {
     "name": "stderr",
     "output_type": "stream",
     "text": [
      "WARNING: All log messages before absl::InitializeLog() is called are written to STDERR\n",
      "I0000 00:00:1755243746.860232 11882628 check_gcp_environment_no_op.cc:29] ALTS: Platforms other than Linux and Windows are not supported\n"
     ]
    },
    {
     "data": {
      "text/plain": [
       "'The pricing of Ideta is 111111.'"
      ]
     },
     "metadata": {},
     "output_type": "display_data"
    }
   ],
   "source": []
  },
  {
   "cell_type": "code",
   "execution_count": null,
   "id": "305acaf2",
   "metadata": {},
   "outputs": [
    {
     "ename": "KeyError",
     "evalue": "\"Unable to determine the intended type of the `dict`. For `Content`, a 'parts' key is expected. For `Part`, either an 'inline_data' or a 'text' key is expected. For `Blob`, both 'mime_type' and 'data' keys are expected. However, the provided dictionary has the following keys: ['functionCall']\"",
     "output_type": "error",
     "traceback": [
      "\u001b[0;31m---------------------------------------------------------------------------\u001b[0m\n",
      "\u001b[0;31mKeyError\u001b[0m                                  Traceback (most recent call last)\n",
      "Cell \u001b[0;32mIn[8], line 15\u001b[0m\n",
      "\u001b[1;32m      7\u001b[0m stream \u001b[38;5;241m=\u001b[39m \u001b[38;5;28;01mFalse\u001b[39;00m\n",
      "\u001b[1;32m      8\u001b[0m gModel \u001b[38;5;241m=\u001b[39m genai\u001b[38;5;241m.\u001b[39mGenerativeModel(\n",
      "\u001b[1;32m      9\u001b[0m     model_name\u001b[38;5;241m=\u001b[39mmodel,\n",
      "\u001b[1;32m     10\u001b[0m     system_instruction\u001b[38;5;241m=\u001b[39mprompt[\u001b[38;5;124m\"\u001b[39m\u001b[38;5;124msystem_instruction\u001b[39m\u001b[38;5;124m\"\u001b[39m],\n",
      "\u001b[0;32m   (...)\u001b[0m\n",
      "\u001b[1;32m     13\u001b[0m     )\n",
      "\u001b[1;32m     14\u001b[0m )\n",
      "\u001b[0;32m---> 15\u001b[0m response \u001b[38;5;241m=\u001b[39m \u001b[43mgModel\u001b[49m\u001b[38;5;241;43m.\u001b[39;49m\u001b[43mgenerate_content\u001b[49m\u001b[43m(\u001b[49m\u001b[43mprompt\u001b[49m\u001b[43m[\u001b[49m\u001b[38;5;124;43m'\u001b[39;49m\u001b[38;5;124;43mcontents\u001b[39;49m\u001b[38;5;124;43m'\u001b[39;49m\u001b[43m]\u001b[49m\u001b[43m,\u001b[49m\u001b[43m \u001b[49m\u001b[43mstream\u001b[49m\u001b[38;5;241;43m=\u001b[39;49m\u001b[43mstream\u001b[49m\u001b[43m)\u001b[49m\n",
      "\u001b[1;32m     16\u001b[0m response\u001b[38;5;241m.\u001b[39mtext\n",
      "\n",
      "File \u001b[0;32m~/miniforge3/envs/docAna/lib/python3.9/site-packages/google/generativeai/generative_models.py:305\u001b[0m, in \u001b[0;36mGenerativeModel.generate_content\u001b[0;34m(self, contents, generation_config, safety_settings, stream, tools, tool_config, request_options)\u001b[0m\n",
      "\u001b[1;32m    302\u001b[0m \u001b[38;5;28;01mif\u001b[39;00m \u001b[38;5;129;01mnot\u001b[39;00m contents:\n",
      "\u001b[1;32m    303\u001b[0m     \u001b[38;5;28;01mraise\u001b[39;00m \u001b[38;5;167;01mTypeError\u001b[39;00m(\u001b[38;5;124m\"\u001b[39m\u001b[38;5;124mcontents must not be empty\u001b[39m\u001b[38;5;124m\"\u001b[39m)\n",
      "\u001b[0;32m--> 305\u001b[0m request \u001b[38;5;241m=\u001b[39m \u001b[38;5;28;43mself\u001b[39;49m\u001b[38;5;241;43m.\u001b[39;49m\u001b[43m_prepare_request\u001b[49m\u001b[43m(\u001b[49m\n",
      "\u001b[1;32m    306\u001b[0m \u001b[43m    \u001b[49m\u001b[43mcontents\u001b[49m\u001b[38;5;241;43m=\u001b[39;49m\u001b[43mcontents\u001b[49m\u001b[43m,\u001b[49m\n",
      "\u001b[1;32m    307\u001b[0m \u001b[43m    \u001b[49m\u001b[43mgeneration_config\u001b[49m\u001b[38;5;241;43m=\u001b[39;49m\u001b[43mgeneration_config\u001b[49m\u001b[43m,\u001b[49m\n",
      "\u001b[1;32m    308\u001b[0m \u001b[43m    \u001b[49m\u001b[43msafety_settings\u001b[49m\u001b[38;5;241;43m=\u001b[39;49m\u001b[43msafety_settings\u001b[49m\u001b[43m,\u001b[49m\n",
      "\u001b[1;32m    309\u001b[0m \u001b[43m    \u001b[49m\u001b[43mtools\u001b[49m\u001b[38;5;241;43m=\u001b[39;49m\u001b[43mtools\u001b[49m\u001b[43m,\u001b[49m\n",
      "\u001b[1;32m    310\u001b[0m \u001b[43m    \u001b[49m\u001b[43mtool_config\u001b[49m\u001b[38;5;241;43m=\u001b[39;49m\u001b[43mtool_config\u001b[49m\u001b[43m,\u001b[49m\n",
      "\u001b[1;32m    311\u001b[0m \u001b[43m\u001b[49m\u001b[43m)\u001b[49m\n",
      "\u001b[1;32m    313\u001b[0m \u001b[38;5;28;01mif\u001b[39;00m request\u001b[38;5;241m.\u001b[39mcontents \u001b[38;5;129;01mand\u001b[39;00m \u001b[38;5;129;01mnot\u001b[39;00m request\u001b[38;5;241m.\u001b[39mcontents[\u001b[38;5;241m-\u001b[39m\u001b[38;5;241m1\u001b[39m]\u001b[38;5;241m.\u001b[39mrole:\n",
      "\u001b[1;32m    314\u001b[0m     request\u001b[38;5;241m.\u001b[39mcontents[\u001b[38;5;241m-\u001b[39m\u001b[38;5;241m1\u001b[39m]\u001b[38;5;241m.\u001b[39mrole \u001b[38;5;241m=\u001b[39m _USER_ROLE\n",
      "\n",
      "File \u001b[0;32m~/miniforge3/envs/docAna/lib/python3.9/site-packages/google/generativeai/generative_models.py:154\u001b[0m, in \u001b[0;36mGenerativeModel._prepare_request\u001b[0;34m(self, contents, generation_config, safety_settings, tools, tool_config)\u001b[0m\n",
      "\u001b[1;32m    151\u001b[0m \u001b[38;5;28;01melse\u001b[39;00m:\n",
      "\u001b[1;32m    152\u001b[0m     tool_config \u001b[38;5;241m=\u001b[39m content_types\u001b[38;5;241m.\u001b[39mto_tool_config(tool_config)\n",
      "\u001b[0;32m--> 154\u001b[0m contents \u001b[38;5;241m=\u001b[39m \u001b[43mcontent_types\u001b[49m\u001b[38;5;241;43m.\u001b[39;49m\u001b[43mto_contents\u001b[49m\u001b[43m(\u001b[49m\u001b[43mcontents\u001b[49m\u001b[43m)\u001b[49m\n",
      "\u001b[1;32m    156\u001b[0m generation_config \u001b[38;5;241m=\u001b[39m generation_types\u001b[38;5;241m.\u001b[39mto_generation_config_dict(generation_config)\n",
      "\u001b[1;32m    157\u001b[0m merged_gc \u001b[38;5;241m=\u001b[39m \u001b[38;5;28mself\u001b[39m\u001b[38;5;241m.\u001b[39m_generation_config\u001b[38;5;241m.\u001b[39mcopy()\n",
      "\n",
      "File \u001b[0;32m~/miniforge3/envs/docAna/lib/python3.9/site-packages/google/generativeai/types/content_types.py:288\u001b[0m, in \u001b[0;36mto_contents\u001b[0;34m(contents)\u001b[0m\n",
      "\u001b[1;32m    285\u001b[0m \u001b[38;5;28;01mif\u001b[39;00m \u001b[38;5;28misinstance\u001b[39m(contents, Iterable) \u001b[38;5;129;01mand\u001b[39;00m \u001b[38;5;129;01mnot\u001b[39;00m \u001b[38;5;28misinstance\u001b[39m(contents, (\u001b[38;5;28mstr\u001b[39m, Mapping)):\n",
      "\u001b[1;32m    286\u001b[0m     \u001b[38;5;28;01mtry\u001b[39;00m:\n",
      "\u001b[1;32m    287\u001b[0m         \u001b[38;5;66;03m# strict_to_content so [[parts], [parts]] doesn't assume roles.\u001b[39;00m\n",
      "\u001b[0;32m--> 288\u001b[0m         contents \u001b[38;5;241m=\u001b[39m [strict_to_content(c) \u001b[38;5;28;01mfor\u001b[39;00m c \u001b[38;5;129;01min\u001b[39;00m contents]\n",
      "\u001b[1;32m    289\u001b[0m         \u001b[38;5;28;01mreturn\u001b[39;00m contents\n",
      "\u001b[1;32m    290\u001b[0m     \u001b[38;5;28;01mexcept\u001b[39;00m \u001b[38;5;167;01mTypeError\u001b[39;00m:\n",
      "\u001b[1;32m    291\u001b[0m         \u001b[38;5;66;03m# If you get a TypeError here it's probably because that was a list\u001b[39;00m\n",
      "\u001b[1;32m    292\u001b[0m         \u001b[38;5;66;03m# of parts, not a list of contents, so fall back to `to_content`.\u001b[39;00m\n",
      "\n",
      "File \u001b[0;32m~/miniforge3/envs/docAna/lib/python3.9/site-packages/google/generativeai/types/content_types.py:288\u001b[0m, in \u001b[0;36m<listcomp>\u001b[0;34m(.0)\u001b[0m\n",
      "\u001b[1;32m    285\u001b[0m \u001b[38;5;28;01mif\u001b[39;00m \u001b[38;5;28misinstance\u001b[39m(contents, Iterable) \u001b[38;5;129;01mand\u001b[39;00m \u001b[38;5;129;01mnot\u001b[39;00m \u001b[38;5;28misinstance\u001b[39m(contents, (\u001b[38;5;28mstr\u001b[39m, Mapping)):\n",
      "\u001b[1;32m    286\u001b[0m     \u001b[38;5;28;01mtry\u001b[39;00m:\n",
      "\u001b[1;32m    287\u001b[0m         \u001b[38;5;66;03m# strict_to_content so [[parts], [parts]] doesn't assume roles.\u001b[39;00m\n",
      "\u001b[0;32m--> 288\u001b[0m         contents \u001b[38;5;241m=\u001b[39m [\u001b[43mstrict_to_content\u001b[49m\u001b[43m(\u001b[49m\u001b[43mc\u001b[49m\u001b[43m)\u001b[49m \u001b[38;5;28;01mfor\u001b[39;00m c \u001b[38;5;129;01min\u001b[39;00m contents]\n",
      "\u001b[1;32m    289\u001b[0m         \u001b[38;5;28;01mreturn\u001b[39;00m contents\n",
      "\u001b[1;32m    290\u001b[0m     \u001b[38;5;28;01mexcept\u001b[39;00m \u001b[38;5;167;01mTypeError\u001b[39;00m:\n",
      "\u001b[1;32m    291\u001b[0m         \u001b[38;5;66;03m# If you get a TypeError here it's probably because that was a list\u001b[39;00m\n",
      "\u001b[1;32m    292\u001b[0m         \u001b[38;5;66;03m# of parts, not a list of contents, so fall back to `to_content`.\u001b[39;00m\n",
      "\n",
      "File \u001b[0;32m~/miniforge3/envs/docAna/lib/python3.9/site-packages/google/generativeai/types/content_types.py:266\u001b[0m, in \u001b[0;36mstrict_to_content\u001b[0;34m(content)\u001b[0m\n",
      "\u001b[1;32m    264\u001b[0m \u001b[38;5;28;01mdef\u001b[39;00m \u001b[38;5;21mstrict_to_content\u001b[39m(content: StrictContentType):\n",
      "\u001b[1;32m    265\u001b[0m     \u001b[38;5;28;01mif\u001b[39;00m \u001b[38;5;28misinstance\u001b[39m(content, Mapping):\n",
      "\u001b[0;32m--> 266\u001b[0m         content \u001b[38;5;241m=\u001b[39m \u001b[43m_convert_dict\u001b[49m\u001b[43m(\u001b[49m\u001b[43mcontent\u001b[49m\u001b[43m)\u001b[49m\n",
      "\u001b[1;32m    268\u001b[0m     \u001b[38;5;28;01mif\u001b[39;00m \u001b[38;5;28misinstance\u001b[39m(content, protos\u001b[38;5;241m.\u001b[39mContent):\n",
      "\u001b[1;32m    269\u001b[0m         \u001b[38;5;28;01mreturn\u001b[39;00m content\n",
      "\n",
      "File \u001b[0;32m~/miniforge3/envs/docAna/lib/python3.9/site-packages/google/generativeai/types/content_types.py:125\u001b[0m, in \u001b[0;36m_convert_dict\u001b[0;34m(d)\u001b[0m\n",
      "\u001b[1;32m    123\u001b[0m     \u001b[38;5;28;01mif\u001b[39;00m \u001b[38;5;28misinstance\u001b[39m(parts \u001b[38;5;241m:=\u001b[39m content[\u001b[38;5;124m\"\u001b[39m\u001b[38;5;124mparts\u001b[39m\u001b[38;5;124m\"\u001b[39m], \u001b[38;5;28mstr\u001b[39m):\n",
      "\u001b[1;32m    124\u001b[0m         content[\u001b[38;5;124m\"\u001b[39m\u001b[38;5;124mparts\u001b[39m\u001b[38;5;124m\"\u001b[39m] \u001b[38;5;241m=\u001b[39m [parts]\n",
      "\u001b[0;32m--> 125\u001b[0m     content[\u001b[38;5;124m\"\u001b[39m\u001b[38;5;124mparts\u001b[39m\u001b[38;5;124m\"\u001b[39m] \u001b[38;5;241m=\u001b[39m [to_part(part) \u001b[38;5;28;01mfor\u001b[39;00m part \u001b[38;5;129;01min\u001b[39;00m content[\u001b[38;5;124m\"\u001b[39m\u001b[38;5;124mparts\u001b[39m\u001b[38;5;124m\"\u001b[39m]]\n",
      "\u001b[1;32m    126\u001b[0m     \u001b[38;5;28;01mreturn\u001b[39;00m protos\u001b[38;5;241m.\u001b[39mContent(content)\n",
      "\u001b[1;32m    127\u001b[0m \u001b[38;5;28;01melif\u001b[39;00m is_part_dict(d):\n",
      "\n",
      "File \u001b[0;32m~/miniforge3/envs/docAna/lib/python3.9/site-packages/google/generativeai/types/content_types.py:125\u001b[0m, in \u001b[0;36m<listcomp>\u001b[0;34m(.0)\u001b[0m\n",
      "\u001b[1;32m    123\u001b[0m     \u001b[38;5;28;01mif\u001b[39;00m \u001b[38;5;28misinstance\u001b[39m(parts \u001b[38;5;241m:=\u001b[39m content[\u001b[38;5;124m\"\u001b[39m\u001b[38;5;124mparts\u001b[39m\u001b[38;5;124m\"\u001b[39m], \u001b[38;5;28mstr\u001b[39m):\n",
      "\u001b[1;32m    124\u001b[0m         content[\u001b[38;5;124m\"\u001b[39m\u001b[38;5;124mparts\u001b[39m\u001b[38;5;124m\"\u001b[39m] \u001b[38;5;241m=\u001b[39m [parts]\n",
      "\u001b[0;32m--> 125\u001b[0m     content[\u001b[38;5;124m\"\u001b[39m\u001b[38;5;124mparts\u001b[39m\u001b[38;5;124m\"\u001b[39m] \u001b[38;5;241m=\u001b[39m [\u001b[43mto_part\u001b[49m\u001b[43m(\u001b[49m\u001b[43mpart\u001b[49m\u001b[43m)\u001b[49m \u001b[38;5;28;01mfor\u001b[39;00m part \u001b[38;5;129;01min\u001b[39;00m content[\u001b[38;5;124m\"\u001b[39m\u001b[38;5;124mparts\u001b[39m\u001b[38;5;124m\"\u001b[39m]]\n",
      "\u001b[1;32m    126\u001b[0m     \u001b[38;5;28;01mreturn\u001b[39;00m protos\u001b[38;5;241m.\u001b[39mContent(content)\n",
      "\u001b[1;32m    127\u001b[0m \u001b[38;5;28;01melif\u001b[39;00m is_part_dict(d):\n",
      "\n",
      "File \u001b[0;32m~/miniforge3/envs/docAna/lib/python3.9/site-packages/google/generativeai/types/content_types.py:209\u001b[0m, in \u001b[0;36mto_part\u001b[0;34m(part)\u001b[0m\n",
      "\u001b[1;32m    207\u001b[0m \u001b[38;5;28;01mdef\u001b[39;00m \u001b[38;5;21mto_part\u001b[39m(part: PartType):\n",
      "\u001b[1;32m    208\u001b[0m     \u001b[38;5;28;01mif\u001b[39;00m \u001b[38;5;28misinstance\u001b[39m(part, Mapping):\n",
      "\u001b[0;32m--> 209\u001b[0m         part \u001b[38;5;241m=\u001b[39m \u001b[43m_convert_dict\u001b[49m\u001b[43m(\u001b[49m\u001b[43mpart\u001b[49m\u001b[43m)\u001b[49m\n",
      "\u001b[1;32m    211\u001b[0m     \u001b[38;5;28;01mif\u001b[39;00m \u001b[38;5;28misinstance\u001b[39m(part, protos\u001b[38;5;241m.\u001b[39mPart):\n",
      "\u001b[1;32m    212\u001b[0m         \u001b[38;5;28;01mreturn\u001b[39;00m part\n",
      "\n",
      "File \u001b[0;32m~/miniforge3/envs/docAna/lib/python3.9/site-packages/google/generativeai/types/content_types.py:138\u001b[0m, in \u001b[0;36m_convert_dict\u001b[0;34m(d)\u001b[0m\n",
      "\u001b[1;32m    136\u001b[0m     \u001b[38;5;28;01mreturn\u001b[39;00m protos\u001b[38;5;241m.\u001b[39mBlob(blob)\n",
      "\u001b[1;32m    137\u001b[0m \u001b[38;5;28;01melse\u001b[39;00m:\n",
      "\u001b[0;32m--> 138\u001b[0m     \u001b[38;5;28;01mraise\u001b[39;00m \u001b[38;5;167;01mKeyError\u001b[39;00m(\n",
      "\u001b[1;32m    139\u001b[0m         \u001b[38;5;124m\"\u001b[39m\u001b[38;5;124mUnable to determine the intended type of the `dict`. \u001b[39m\u001b[38;5;124m\"\u001b[39m\n",
      "\u001b[1;32m    140\u001b[0m         \u001b[38;5;124m\"\u001b[39m\u001b[38;5;124mFor `Content`, a \u001b[39m\u001b[38;5;124m'\u001b[39m\u001b[38;5;124mparts\u001b[39m\u001b[38;5;124m'\u001b[39m\u001b[38;5;124m key is expected. \u001b[39m\u001b[38;5;124m\"\u001b[39m\n",
      "\u001b[1;32m    141\u001b[0m         \u001b[38;5;124m\"\u001b[39m\u001b[38;5;124mFor `Part`, either an \u001b[39m\u001b[38;5;124m'\u001b[39m\u001b[38;5;124minline_data\u001b[39m\u001b[38;5;124m'\u001b[39m\u001b[38;5;124m or a \u001b[39m\u001b[38;5;124m'\u001b[39m\u001b[38;5;124mtext\u001b[39m\u001b[38;5;124m'\u001b[39m\u001b[38;5;124m key is expected. \u001b[39m\u001b[38;5;124m\"\u001b[39m\n",
      "\u001b[1;32m    142\u001b[0m         \u001b[38;5;124m\"\u001b[39m\u001b[38;5;124mFor `Blob`, both \u001b[39m\u001b[38;5;124m'\u001b[39m\u001b[38;5;124mmime_type\u001b[39m\u001b[38;5;124m'\u001b[39m\u001b[38;5;124m and \u001b[39m\u001b[38;5;124m'\u001b[39m\u001b[38;5;124mdata\u001b[39m\u001b[38;5;124m'\u001b[39m\u001b[38;5;124m keys are expected. \u001b[39m\u001b[38;5;124m\"\u001b[39m\n",
      "\u001b[1;32m    143\u001b[0m         \u001b[38;5;124mf\u001b[39m\u001b[38;5;124m\"\u001b[39m\u001b[38;5;124mHowever, the provided dictionary has the following keys: \u001b[39m\u001b[38;5;132;01m{\u001b[39;00m\u001b[38;5;28mlist\u001b[39m(d\u001b[38;5;241m.\u001b[39mkeys())\u001b[38;5;132;01m}\u001b[39;00m\u001b[38;5;124m\"\u001b[39m\n",
      "\u001b[1;32m    144\u001b[0m     )\n",
      "\n",
      "\u001b[0;31mKeyError\u001b[0m: \"Unable to determine the intended type of the `dict`. For `Content`, a 'parts' key is expected. For `Part`, either an 'inline_data' or a 'text' key is expected. For `Blob`, both 'mime_type' and 'data' keys are expected. However, the provided dictionary has the following keys: ['functionCall']\""
     ]
    }
   ],
   "source": []
  },
  {
   "cell_type": "code",
   "execution_count": null,
   "id": "42c06c88",
   "metadata": {},
   "outputs": [],
   "source": []
  },
  {
   "cell_type": "code",
   "execution_count": null,
   "id": "ce874179",
   "metadata": {},
   "outputs": [],
   "source": []
  },
  {
   "cell_type": "code",
   "execution_count": null,
   "id": "77f3c94a",
   "metadata": {},
   "outputs": [
    {
     "name": "stdout",
     "output_type": "stream",
     "text": [
      "\n",
      "The\n",
      " pricing\n",
      " is\n",
      " **\n",
      "$\n",
      "1\n",
      "0\n",
      "0\n",
      "0\n",
      "**.\n",
      "\n"
     ]
    }
   ],
   "source": []
  },
  {
   "cell_type": "code",
   "execution_count": null,
   "id": "f25bbad4",
   "metadata": {},
   "outputs": [
    {
     "name": "stderr",
     "output_type": "stream",
     "text": [
      "WARNING: All log messages before absl::InitializeLog() is called are written to STDERR\n",
      "I0000 00:00:1755243746.860232 11882628 check_gcp_environment_no_op.cc:29] ALTS: Platforms other than Linux and Windows are not supported\n"
     ]
    },
    {
     "data": {
      "text/plain": [
       "'The pricing of Ideta is 111111.'"
      ]
     },
     "metadata": {},
     "output_type": "display_data"
    }
   ],
   "source": []
  },
  {
   "cell_type": "code",
   "execution_count": null,
   "id": "a42e5e25",
   "metadata": {},
   "outputs": [
    {
     "ename": "KeyError",
     "evalue": "\"Unable to determine the intended type of the `dict`. For `Content`, a 'parts' key is expected. For `Part`, either an 'inline_data' or a 'text' key is expected. For `Blob`, both 'mime_type' and 'data' keys are expected. However, the provided dictionary has the following keys: ['functionCall']\"",
     "output_type": "error",
     "traceback": [
      "\u001b[0;31m---------------------------------------------------------------------------\u001b[0m\n",
      "\u001b[0;31mKeyError\u001b[0m                                  Traceback (most recent call last)\n",
      "Cell \u001b[0;32mIn[8], line 15\u001b[0m\n",
      "\u001b[1;32m      7\u001b[0m stream \u001b[38;5;241m=\u001b[39m \u001b[38;5;28;01mFalse\u001b[39;00m\n",
      "\u001b[1;32m      8\u001b[0m gModel \u001b[38;5;241m=\u001b[39m genai\u001b[38;5;241m.\u001b[39mGenerativeModel(\n",
      "\u001b[1;32m      9\u001b[0m     model_name\u001b[38;5;241m=\u001b[39mmodel,\n",
      "\u001b[1;32m     10\u001b[0m     system_instruction\u001b[38;5;241m=\u001b[39mprompt[\u001b[38;5;124m\"\u001b[39m\u001b[38;5;124msystem_instruction\u001b[39m\u001b[38;5;124m\"\u001b[39m],\n",
      "\u001b[0;32m   (...)\u001b[0m\n",
      "\u001b[1;32m     13\u001b[0m     )\n",
      "\u001b[1;32m     14\u001b[0m )\n",
      "\u001b[0;32m---> 15\u001b[0m response \u001b[38;5;241m=\u001b[39m \u001b[43mgModel\u001b[49m\u001b[38;5;241;43m.\u001b[39;49m\u001b[43mgenerate_content\u001b[49m\u001b[43m(\u001b[49m\u001b[43mprompt\u001b[49m\u001b[43m[\u001b[49m\u001b[38;5;124;43m'\u001b[39;49m\u001b[38;5;124;43mcontents\u001b[39;49m\u001b[38;5;124;43m'\u001b[39;49m\u001b[43m]\u001b[49m\u001b[43m,\u001b[49m\u001b[43m \u001b[49m\u001b[43mstream\u001b[49m\u001b[38;5;241;43m=\u001b[39;49m\u001b[43mstream\u001b[49m\u001b[43m)\u001b[49m\n",
      "\u001b[1;32m     16\u001b[0m response\u001b[38;5;241m.\u001b[39mtext\n",
      "\n",
      "File \u001b[0;32m~/miniforge3/envs/docAna/lib/python3.9/site-packages/google/generativeai/generative_models.py:305\u001b[0m, in \u001b[0;36mGenerativeModel.generate_content\u001b[0;34m(self, contents, generation_config, safety_settings, stream, tools, tool_config, request_options)\u001b[0m\n",
      "\u001b[1;32m    302\u001b[0m \u001b[38;5;28;01mif\u001b[39;00m \u001b[38;5;129;01mnot\u001b[39;00m contents:\n",
      "\u001b[1;32m    303\u001b[0m     \u001b[38;5;28;01mraise\u001b[39;00m \u001b[38;5;167;01mTypeError\u001b[39;00m(\u001b[38;5;124m\"\u001b[39m\u001b[38;5;124mcontents must not be empty\u001b[39m\u001b[38;5;124m\"\u001b[39m)\n",
      "\u001b[0;32m--> 305\u001b[0m request \u001b[38;5;241m=\u001b[39m \u001b[38;5;28;43mself\u001b[39;49m\u001b[38;5;241;43m.\u001b[39;49m\u001b[43m_prepare_request\u001b[49m\u001b[43m(\u001b[49m\n",
      "\u001b[1;32m    306\u001b[0m \u001b[43m    \u001b[49m\u001b[43mcontents\u001b[49m\u001b[38;5;241;43m=\u001b[39;49m\u001b[43mcontents\u001b[49m\u001b[43m,\u001b[49m\n",
      "\u001b[1;32m    307\u001b[0m \u001b[43m    \u001b[49m\u001b[43mgeneration_config\u001b[49m\u001b[38;5;241;43m=\u001b[39;49m\u001b[43mgeneration_config\u001b[49m\u001b[43m,\u001b[49m\n",
      "\u001b[1;32m    308\u001b[0m \u001b[43m    \u001b[49m\u001b[43msafety_settings\u001b[49m\u001b[38;5;241;43m=\u001b[39;49m\u001b[43msafety_settings\u001b[49m\u001b[43m,\u001b[49m\n",
      "\u001b[1;32m    309\u001b[0m \u001b[43m    \u001b[49m\u001b[43mtools\u001b[49m\u001b[38;5;241;43m=\u001b[39;49m\u001b[43mtools\u001b[49m\u001b[43m,\u001b[49m\n",
      "\u001b[1;32m    310\u001b[0m \u001b[43m    \u001b[49m\u001b[43mtool_config\u001b[49m\u001b[38;5;241;43m=\u001b[39;49m\u001b[43mtool_config\u001b[49m\u001b[43m,\u001b[49m\n",
      "\u001b[1;32m    311\u001b[0m \u001b[43m\u001b[49m\u001b[43m)\u001b[49m\n",
      "\u001b[1;32m    313\u001b[0m \u001b[38;5;28;01mif\u001b[39;00m request\u001b[38;5;241m.\u001b[39mcontents \u001b[38;5;129;01mand\u001b[39;00m \u001b[38;5;129;01mnot\u001b[39;00m request\u001b[38;5;241m.\u001b[39mcontents[\u001b[38;5;241m-\u001b[39m\u001b[38;5;241m1\u001b[39m]\u001b[38;5;241m.\u001b[39mrole:\n",
      "\u001b[1;32m    314\u001b[0m     request\u001b[38;5;241m.\u001b[39mcontents[\u001b[38;5;241m-\u001b[39m\u001b[38;5;241m1\u001b[39m]\u001b[38;5;241m.\u001b[39mrole \u001b[38;5;241m=\u001b[39m _USER_ROLE\n",
      "\n",
      "File \u001b[0;32m~/miniforge3/envs/docAna/lib/python3.9/site-packages/google/generativeai/generative_models.py:154\u001b[0m, in \u001b[0;36mGenerativeModel._prepare_request\u001b[0;34m(self, contents, generation_config, safety_settings, tools, tool_config)\u001b[0m\n",
      "\u001b[1;32m    151\u001b[0m \u001b[38;5;28;01melse\u001b[39;00m:\n",
      "\u001b[1;32m    152\u001b[0m     tool_config \u001b[38;5;241m=\u001b[39m content_types\u001b[38;5;241m.\u001b[39mto_tool_config(tool_config)\n",
      "\u001b[0;32m--> 154\u001b[0m contents \u001b[38;5;241m=\u001b[39m \u001b[43mcontent_types\u001b[49m\u001b[38;5;241;43m.\u001b[39;49m\u001b[43mto_contents\u001b[49m\u001b[43m(\u001b[49m\u001b[43mcontents\u001b[49m\u001b[43m)\u001b[49m\n",
      "\u001b[1;32m    156\u001b[0m generation_config \u001b[38;5;241m=\u001b[39m generation_types\u001b[38;5;241m.\u001b[39mto_generation_config_dict(generation_config)\n",
      "\u001b[1;32m    157\u001b[0m merged_gc \u001b[38;5;241m=\u001b[39m \u001b[38;5;28mself\u001b[39m\u001b[38;5;241m.\u001b[39m_generation_config\u001b[38;5;241m.\u001b[39mcopy()\n",
      "\n",
      "File \u001b[0;32m~/miniforge3/envs/docAna/lib/python3.9/site-packages/google/generativeai/types/content_types.py:288\u001b[0m, in \u001b[0;36mto_contents\u001b[0;34m(contents)\u001b[0m\n",
      "\u001b[1;32m    285\u001b[0m \u001b[38;5;28;01mif\u001b[39;00m \u001b[38;5;28misinstance\u001b[39m(contents, Iterable) \u001b[38;5;129;01mand\u001b[39;00m \u001b[38;5;129;01mnot\u001b[39;00m \u001b[38;5;28misinstance\u001b[39m(contents, (\u001b[38;5;28mstr\u001b[39m, Mapping)):\n",
      "\u001b[1;32m    286\u001b[0m     \u001b[38;5;28;01mtry\u001b[39;00m:\n",
      "\u001b[1;32m    287\u001b[0m         \u001b[38;5;66;03m# strict_to_content so [[parts], [parts]] doesn't assume roles.\u001b[39;00m\n",
      "\u001b[0;32m--> 288\u001b[0m         contents \u001b[38;5;241m=\u001b[39m [strict_to_content(c) \u001b[38;5;28;01mfor\u001b[39;00m c \u001b[38;5;129;01min\u001b[39;00m contents]\n",
      "\u001b[1;32m    289\u001b[0m         \u001b[38;5;28;01mreturn\u001b[39;00m contents\n",
      "\u001b[1;32m    290\u001b[0m     \u001b[38;5;28;01mexcept\u001b[39;00m \u001b[38;5;167;01mTypeError\u001b[39;00m:\n",
      "\u001b[1;32m    291\u001b[0m         \u001b[38;5;66;03m# If you get a TypeError here it's probably because that was a list\u001b[39;00m\n",
      "\u001b[1;32m    292\u001b[0m         \u001b[38;5;66;03m# of parts, not a list of contents, so fall back to `to_content`.\u001b[39;00m\n",
      "\n",
      "File \u001b[0;32m~/miniforge3/envs/docAna/lib/python3.9/site-packages/google/generativeai/types/content_types.py:288\u001b[0m, in \u001b[0;36m<listcomp>\u001b[0;34m(.0)\u001b[0m\n",
      "\u001b[1;32m    285\u001b[0m \u001b[38;5;28;01mif\u001b[39;00m \u001b[38;5;28misinstance\u001b[39m(contents, Iterable) \u001b[38;5;129;01mand\u001b[39;00m \u001b[38;5;129;01mnot\u001b[39;00m \u001b[38;5;28misinstance\u001b[39m(contents, (\u001b[38;5;28mstr\u001b[39m, Mapping)):\n",
      "\u001b[1;32m    286\u001b[0m     \u001b[38;5;28;01mtry\u001b[39;00m:\n",
      "\u001b[1;32m    287\u001b[0m         \u001b[38;5;66;03m# strict_to_content so [[parts], [parts]] doesn't assume roles.\u001b[39;00m\n",
      "\u001b[0;32m--> 288\u001b[0m         contents \u001b[38;5;241m=\u001b[39m [\u001b[43mstrict_to_content\u001b[49m\u001b[43m(\u001b[49m\u001b[43mc\u001b[49m\u001b[43m)\u001b[49m \u001b[38;5;28;01mfor\u001b[39;00m c \u001b[38;5;129;01min\u001b[39;00m contents]\n",
      "\u001b[1;32m    289\u001b[0m         \u001b[38;5;28;01mreturn\u001b[39;00m contents\n",
      "\u001b[1;32m    290\u001b[0m     \u001b[38;5;28;01mexcept\u001b[39;00m \u001b[38;5;167;01mTypeError\u001b[39;00m:\n",
      "\u001b[1;32m    291\u001b[0m         \u001b[38;5;66;03m# If you get a TypeError here it's probably because that was a list\u001b[39;00m\n",
      "\u001b[1;32m    292\u001b[0m         \u001b[38;5;66;03m# of parts, not a list of contents, so fall back to `to_content`.\u001b[39;00m\n",
      "\n",
      "File \u001b[0;32m~/miniforge3/envs/docAna/lib/python3.9/site-packages/google/generativeai/types/content_types.py:266\u001b[0m, in \u001b[0;36mstrict_to_content\u001b[0;34m(content)\u001b[0m\n",
      "\u001b[1;32m    264\u001b[0m \u001b[38;5;28;01mdef\u001b[39;00m \u001b[38;5;21mstrict_to_content\u001b[39m(content: StrictContentType):\n",
      "\u001b[1;32m    265\u001b[0m     \u001b[38;5;28;01mif\u001b[39;00m \u001b[38;5;28misinstance\u001b[39m(content, Mapping):\n",
      "\u001b[0;32m--> 266\u001b[0m         content \u001b[38;5;241m=\u001b[39m \u001b[43m_convert_dict\u001b[49m\u001b[43m(\u001b[49m\u001b[43mcontent\u001b[49m\u001b[43m)\u001b[49m\n",
      "\u001b[1;32m    268\u001b[0m     \u001b[38;5;28;01mif\u001b[39;00m \u001b[38;5;28misinstance\u001b[39m(content, protos\u001b[38;5;241m.\u001b[39mContent):\n",
      "\u001b[1;32m    269\u001b[0m         \u001b[38;5;28;01mreturn\u001b[39;00m content\n",
      "\n",
      "File \u001b[0;32m~/miniforge3/envs/docAna/lib/python3.9/site-packages/google/generativeai/types/content_types.py:125\u001b[0m, in \u001b[0;36m_convert_dict\u001b[0;34m(d)\u001b[0m\n",
      "\u001b[1;32m    123\u001b[0m     \u001b[38;5;28;01mif\u001b[39;00m \u001b[38;5;28misinstance\u001b[39m(parts \u001b[38;5;241m:=\u001b[39m content[\u001b[38;5;124m\"\u001b[39m\u001b[38;5;124mparts\u001b[39m\u001b[38;5;124m\"\u001b[39m], \u001b[38;5;28mstr\u001b[39m):\n",
      "\u001b[1;32m    124\u001b[0m         content[\u001b[38;5;124m\"\u001b[39m\u001b[38;5;124mparts\u001b[39m\u001b[38;5;124m\"\u001b[39m] \u001b[38;5;241m=\u001b[39m [parts]\n",
      "\u001b[0;32m--> 125\u001b[0m     content[\u001b[38;5;124m\"\u001b[39m\u001b[38;5;124mparts\u001b[39m\u001b[38;5;124m\"\u001b[39m] \u001b[38;5;241m=\u001b[39m [to_part(part) \u001b[38;5;28;01mfor\u001b[39;00m part \u001b[38;5;129;01min\u001b[39;00m content[\u001b[38;5;124m\"\u001b[39m\u001b[38;5;124mparts\u001b[39m\u001b[38;5;124m\"\u001b[39m]]\n",
      "\u001b[1;32m    126\u001b[0m     \u001b[38;5;28;01mreturn\u001b[39;00m protos\u001b[38;5;241m.\u001b[39mContent(content)\n",
      "\u001b[1;32m    127\u001b[0m \u001b[38;5;28;01melif\u001b[39;00m is_part_dict(d):\n",
      "\n",
      "File \u001b[0;32m~/miniforge3/envs/docAna/lib/python3.9/site-packages/google/generativeai/types/content_types.py:125\u001b[0m, in \u001b[0;36m<listcomp>\u001b[0;34m(.0)\u001b[0m\n",
      "\u001b[1;32m    123\u001b[0m     \u001b[38;5;28;01mif\u001b[39;00m \u001b[38;5;28misinstance\u001b[39m(parts \u001b[38;5;241m:=\u001b[39m content[\u001b[38;5;124m\"\u001b[39m\u001b[38;5;124mparts\u001b[39m\u001b[38;5;124m\"\u001b[39m], \u001b[38;5;28mstr\u001b[39m):\n",
      "\u001b[1;32m    124\u001b[0m         content[\u001b[38;5;124m\"\u001b[39m\u001b[38;5;124mparts\u001b[39m\u001b[38;5;124m\"\u001b[39m] \u001b[38;5;241m=\u001b[39m [parts]\n",
      "\u001b[0;32m--> 125\u001b[0m     content[\u001b[38;5;124m\"\u001b[39m\u001b[38;5;124mparts\u001b[39m\u001b[38;5;124m\"\u001b[39m] \u001b[38;5;241m=\u001b[39m [\u001b[43mto_part\u001b[49m\u001b[43m(\u001b[49m\u001b[43mpart\u001b[49m\u001b[43m)\u001b[49m \u001b[38;5;28;01mfor\u001b[39;00m part \u001b[38;5;129;01min\u001b[39;00m content[\u001b[38;5;124m\"\u001b[39m\u001b[38;5;124mparts\u001b[39m\u001b[38;5;124m\"\u001b[39m]]\n",
      "\u001b[1;32m    126\u001b[0m     \u001b[38;5;28;01mreturn\u001b[39;00m protos\u001b[38;5;241m.\u001b[39mContent(content)\n",
      "\u001b[1;32m    127\u001b[0m \u001b[38;5;28;01melif\u001b[39;00m is_part_dict(d):\n",
      "\n",
      "File \u001b[0;32m~/miniforge3/envs/docAna/lib/python3.9/site-packages/google/generativeai/types/content_types.py:209\u001b[0m, in \u001b[0;36mto_part\u001b[0;34m(part)\u001b[0m\n",
      "\u001b[1;32m    207\u001b[0m \u001b[38;5;28;01mdef\u001b[39;00m \u001b[38;5;21mto_part\u001b[39m(part: PartType):\n",
      "\u001b[1;32m    208\u001b[0m     \u001b[38;5;28;01mif\u001b[39;00m \u001b[38;5;28misinstance\u001b[39m(part, Mapping):\n",
      "\u001b[0;32m--> 209\u001b[0m         part \u001b[38;5;241m=\u001b[39m \u001b[43m_convert_dict\u001b[49m\u001b[43m(\u001b[49m\u001b[43mpart\u001b[49m\u001b[43m)\u001b[49m\n",
      "\u001b[1;32m    211\u001b[0m     \u001b[38;5;28;01mif\u001b[39;00m \u001b[38;5;28misinstance\u001b[39m(part, protos\u001b[38;5;241m.\u001b[39mPart):\n",
      "\u001b[1;32m    212\u001b[0m         \u001b[38;5;28;01mreturn\u001b[39;00m part\n",
      "\n",
      "File \u001b[0;32m~/miniforge3/envs/docAna/lib/python3.9/site-packages/google/generativeai/types/content_types.py:138\u001b[0m, in \u001b[0;36m_convert_dict\u001b[0;34m(d)\u001b[0m\n",
      "\u001b[1;32m    136\u001b[0m     \u001b[38;5;28;01mreturn\u001b[39;00m protos\u001b[38;5;241m.\u001b[39mBlob(blob)\n",
      "\u001b[1;32m    137\u001b[0m \u001b[38;5;28;01melse\u001b[39;00m:\n",
      "\u001b[0;32m--> 138\u001b[0m     \u001b[38;5;28;01mraise\u001b[39;00m \u001b[38;5;167;01mKeyError\u001b[39;00m(\n",
      "\u001b[1;32m    139\u001b[0m         \u001b[38;5;124m\"\u001b[39m\u001b[38;5;124mUnable to determine the intended type of the `dict`. \u001b[39m\u001b[38;5;124m\"\u001b[39m\n",
      "\u001b[1;32m    140\u001b[0m         \u001b[38;5;124m\"\u001b[39m\u001b[38;5;124mFor `Content`, a \u001b[39m\u001b[38;5;124m'\u001b[39m\u001b[38;5;124mparts\u001b[39m\u001b[38;5;124m'\u001b[39m\u001b[38;5;124m key is expected. \u001b[39m\u001b[38;5;124m\"\u001b[39m\n",
      "\u001b[1;32m    141\u001b[0m         \u001b[38;5;124m\"\u001b[39m\u001b[38;5;124mFor `Part`, either an \u001b[39m\u001b[38;5;124m'\u001b[39m\u001b[38;5;124minline_data\u001b[39m\u001b[38;5;124m'\u001b[39m\u001b[38;5;124m or a \u001b[39m\u001b[38;5;124m'\u001b[39m\u001b[38;5;124mtext\u001b[39m\u001b[38;5;124m'\u001b[39m\u001b[38;5;124m key is expected. \u001b[39m\u001b[38;5;124m\"\u001b[39m\n",
      "\u001b[1;32m    142\u001b[0m         \u001b[38;5;124m\"\u001b[39m\u001b[38;5;124mFor `Blob`, both \u001b[39m\u001b[38;5;124m'\u001b[39m\u001b[38;5;124mmime_type\u001b[39m\u001b[38;5;124m'\u001b[39m\u001b[38;5;124m and \u001b[39m\u001b[38;5;124m'\u001b[39m\u001b[38;5;124mdata\u001b[39m\u001b[38;5;124m'\u001b[39m\u001b[38;5;124m keys are expected. \u001b[39m\u001b[38;5;124m\"\u001b[39m\n",
      "\u001b[1;32m    143\u001b[0m         \u001b[38;5;124mf\u001b[39m\u001b[38;5;124m\"\u001b[39m\u001b[38;5;124mHowever, the provided dictionary has the following keys: \u001b[39m\u001b[38;5;132;01m{\u001b[39;00m\u001b[38;5;28mlist\u001b[39m(d\u001b[38;5;241m.\u001b[39mkeys())\u001b[38;5;132;01m}\u001b[39;00m\u001b[38;5;124m\"\u001b[39m\n",
      "\u001b[1;32m    144\u001b[0m     )\n",
      "\n",
      "\u001b[0;31mKeyError\u001b[0m: \"Unable to determine the intended type of the `dict`. For `Content`, a 'parts' key is expected. For `Part`, either an 'inline_data' or a 'text' key is expected. For `Blob`, both 'mime_type' and 'data' keys are expected. However, the provided dictionary has the following keys: ['functionCall']\""
     ]
    }
   ],
   "source": []
  },
  {
   "cell_type": "code",
   "execution_count": null,
   "id": "0770ed3d",
   "metadata": {},
   "outputs": [],
   "source": []
  },
  {
   "cell_type": "code",
   "execution_count": null,
   "id": "5effb41b",
   "metadata": {},
   "outputs": [],
   "source": []
  },
  {
   "cell_type": "code",
   "execution_count": null,
   "id": "19862599",
   "metadata": {},
   "outputs": [
    {
     "name": "stdout",
     "output_type": "stream",
     "text": [
      "\n",
      "The\n",
      " pricing\n",
      " is\n",
      " **\n",
      "$\n",
      "1\n",
      "0\n",
      "0\n",
      "0\n",
      "**.\n",
      "\n"
     ]
    }
   ],
   "source": []
  },
  {
   "cell_type": "code",
   "execution_count": null,
   "id": "ce1de568",
   "metadata": {},
   "outputs": [
    {
     "name": "stderr",
     "output_type": "stream",
     "text": [
      "WARNING: All log messages before absl::InitializeLog() is called are written to STDERR\n",
      "I0000 00:00:1755243746.860232 11882628 check_gcp_environment_no_op.cc:29] ALTS: Platforms other than Linux and Windows are not supported\n"
     ]
    },
    {
     "data": {
      "text/plain": [
       "'The pricing of Ideta is 111111.'"
      ]
     },
     "metadata": {},
     "output_type": "display_data"
    }
   ],
   "source": []
  },
  {
   "cell_type": "code",
   "execution_count": null,
   "id": "9aed7605",
   "metadata": {},
   "outputs": [
    {
     "ename": "KeyError",
     "evalue": "\"Unable to determine the intended type of the `dict`. For `Content`, a 'parts' key is expected. For `Part`, either an 'inline_data' or a 'text' key is expected. For `Blob`, both 'mime_type' and 'data' keys are expected. However, the provided dictionary has the following keys: ['functionCall']\"",
     "output_type": "error",
     "traceback": [
      "\u001b[0;31m---------------------------------------------------------------------------\u001b[0m\n",
      "\u001b[0;31mKeyError\u001b[0m                                  Traceback (most recent call last)\n",
      "Cell \u001b[0;32mIn[8], line 15\u001b[0m\n",
      "\u001b[1;32m      7\u001b[0m stream \u001b[38;5;241m=\u001b[39m \u001b[38;5;28;01mFalse\u001b[39;00m\n",
      "\u001b[1;32m      8\u001b[0m gModel \u001b[38;5;241m=\u001b[39m genai\u001b[38;5;241m.\u001b[39mGenerativeModel(\n",
      "\u001b[1;32m      9\u001b[0m     model_name\u001b[38;5;241m=\u001b[39mmodel,\n",
      "\u001b[1;32m     10\u001b[0m     system_instruction\u001b[38;5;241m=\u001b[39mprompt[\u001b[38;5;124m\"\u001b[39m\u001b[38;5;124msystem_instruction\u001b[39m\u001b[38;5;124m\"\u001b[39m],\n",
      "\u001b[0;32m   (...)\u001b[0m\n",
      "\u001b[1;32m     13\u001b[0m     )\n",
      "\u001b[1;32m     14\u001b[0m )\n",
      "\u001b[0;32m---> 15\u001b[0m response \u001b[38;5;241m=\u001b[39m \u001b[43mgModel\u001b[49m\u001b[38;5;241;43m.\u001b[39;49m\u001b[43mgenerate_content\u001b[49m\u001b[43m(\u001b[49m\u001b[43mprompt\u001b[49m\u001b[43m[\u001b[49m\u001b[38;5;124;43m'\u001b[39;49m\u001b[38;5;124;43mcontents\u001b[39;49m\u001b[38;5;124;43m'\u001b[39;49m\u001b[43m]\u001b[49m\u001b[43m,\u001b[49m\u001b[43m \u001b[49m\u001b[43mstream\u001b[49m\u001b[38;5;241;43m=\u001b[39;49m\u001b[43mstream\u001b[49m\u001b[43m)\u001b[49m\n",
      "\u001b[1;32m     16\u001b[0m response\u001b[38;5;241m.\u001b[39mtext\n",
      "\n",
      "File \u001b[0;32m~/miniforge3/envs/docAna/lib/python3.9/site-packages/google/generativeai/generative_models.py:305\u001b[0m, in \u001b[0;36mGenerativeModel.generate_content\u001b[0;34m(self, contents, generation_config, safety_settings, stream, tools, tool_config, request_options)\u001b[0m\n",
      "\u001b[1;32m    302\u001b[0m \u001b[38;5;28;01mif\u001b[39;00m \u001b[38;5;129;01mnot\u001b[39;00m contents:\n",
      "\u001b[1;32m    303\u001b[0m     \u001b[38;5;28;01mraise\u001b[39;00m \u001b[38;5;167;01mTypeError\u001b[39;00m(\u001b[38;5;124m\"\u001b[39m\u001b[38;5;124mcontents must not be empty\u001b[39m\u001b[38;5;124m\"\u001b[39m)\n",
      "\u001b[0;32m--> 305\u001b[0m request \u001b[38;5;241m=\u001b[39m \u001b[38;5;28;43mself\u001b[39;49m\u001b[38;5;241;43m.\u001b[39;49m\u001b[43m_prepare_request\u001b[49m\u001b[43m(\u001b[49m\n",
      "\u001b[1;32m    306\u001b[0m \u001b[43m    \u001b[49m\u001b[43mcontents\u001b[49m\u001b[38;5;241;43m=\u001b[39;49m\u001b[43mcontents\u001b[49m\u001b[43m,\u001b[49m\n",
      "\u001b[1;32m    307\u001b[0m \u001b[43m    \u001b[49m\u001b[43mgeneration_config\u001b[49m\u001b[38;5;241;43m=\u001b[39;49m\u001b[43mgeneration_config\u001b[49m\u001b[43m,\u001b[49m\n",
      "\u001b[1;32m    308\u001b[0m \u001b[43m    \u001b[49m\u001b[43msafety_settings\u001b[49m\u001b[38;5;241;43m=\u001b[39;49m\u001b[43msafety_settings\u001b[49m\u001b[43m,\u001b[49m\n",
      "\u001b[1;32m    309\u001b[0m \u001b[43m    \u001b[49m\u001b[43mtools\u001b[49m\u001b[38;5;241;43m=\u001b[39;49m\u001b[43mtools\u001b[49m\u001b[43m,\u001b[49m\n",
      "\u001b[1;32m    310\u001b[0m \u001b[43m    \u001b[49m\u001b[43mtool_config\u001b[49m\u001b[38;5;241;43m=\u001b[39;49m\u001b[43mtool_config\u001b[49m\u001b[43m,\u001b[49m\n",
      "\u001b[1;32m    311\u001b[0m \u001b[43m\u001b[49m\u001b[43m)\u001b[49m\n",
      "\u001b[1;32m    313\u001b[0m \u001b[38;5;28;01mif\u001b[39;00m request\u001b[38;5;241m.\u001b[39mcontents \u001b[38;5;129;01mand\u001b[39;00m \u001b[38;5;129;01mnot\u001b[39;00m request\u001b[38;5;241m.\u001b[39mcontents[\u001b[38;5;241m-\u001b[39m\u001b[38;5;241m1\u001b[39m]\u001b[38;5;241m.\u001b[39mrole:\n",
      "\u001b[1;32m    314\u001b[0m     request\u001b[38;5;241m.\u001b[39mcontents[\u001b[38;5;241m-\u001b[39m\u001b[38;5;241m1\u001b[39m]\u001b[38;5;241m.\u001b[39mrole \u001b[38;5;241m=\u001b[39m _USER_ROLE\n",
      "\n",
      "File \u001b[0;32m~/miniforge3/envs/docAna/lib/python3.9/site-packages/google/generativeai/generative_models.py:154\u001b[0m, in \u001b[0;36mGenerativeModel._prepare_request\u001b[0;34m(self, contents, generation_config, safety_settings, tools, tool_config)\u001b[0m\n",
      "\u001b[1;32m    151\u001b[0m \u001b[38;5;28;01melse\u001b[39;00m:\n",
      "\u001b[1;32m    152\u001b[0m     tool_config \u001b[38;5;241m=\u001b[39m content_types\u001b[38;5;241m.\u001b[39mto_tool_config(tool_config)\n",
      "\u001b[0;32m--> 154\u001b[0m contents \u001b[38;5;241m=\u001b[39m \u001b[43mcontent_types\u001b[49m\u001b[38;5;241;43m.\u001b[39;49m\u001b[43mto_contents\u001b[49m\u001b[43m(\u001b[49m\u001b[43mcontents\u001b[49m\u001b[43m)\u001b[49m\n",
      "\u001b[1;32m    156\u001b[0m generation_config \u001b[38;5;241m=\u001b[39m generation_types\u001b[38;5;241m.\u001b[39mto_generation_config_dict(generation_config)\n",
      "\u001b[1;32m    157\u001b[0m merged_gc \u001b[38;5;241m=\u001b[39m \u001b[38;5;28mself\u001b[39m\u001b[38;5;241m.\u001b[39m_generation_config\u001b[38;5;241m.\u001b[39mcopy()\n",
      "\n",
      "File \u001b[0;32m~/miniforge3/envs/docAna/lib/python3.9/site-packages/google/generativeai/types/content_types.py:288\u001b[0m, in \u001b[0;36mto_contents\u001b[0;34m(contents)\u001b[0m\n",
      "\u001b[1;32m    285\u001b[0m \u001b[38;5;28;01mif\u001b[39;00m \u001b[38;5;28misinstance\u001b[39m(contents, Iterable) \u001b[38;5;129;01mand\u001b[39;00m \u001b[38;5;129;01mnot\u001b[39;00m \u001b[38;5;28misinstance\u001b[39m(contents, (\u001b[38;5;28mstr\u001b[39m, Mapping)):\n",
      "\u001b[1;32m    286\u001b[0m     \u001b[38;5;28;01mtry\u001b[39;00m:\n",
      "\u001b[1;32m    287\u001b[0m         \u001b[38;5;66;03m# strict_to_content so [[parts], [parts]] doesn't assume roles.\u001b[39;00m\n",
      "\u001b[0;32m--> 288\u001b[0m         contents \u001b[38;5;241m=\u001b[39m [strict_to_content(c) \u001b[38;5;28;01mfor\u001b[39;00m c \u001b[38;5;129;01min\u001b[39;00m contents]\n",
      "\u001b[1;32m    289\u001b[0m         \u001b[38;5;28;01mreturn\u001b[39;00m contents\n",
      "\u001b[1;32m    290\u001b[0m     \u001b[38;5;28;01mexcept\u001b[39;00m \u001b[38;5;167;01mTypeError\u001b[39;00m:\n",
      "\u001b[1;32m    291\u001b[0m         \u001b[38;5;66;03m# If you get a TypeError here it's probably because that was a list\u001b[39;00m\n",
      "\u001b[1;32m    292\u001b[0m         \u001b[38;5;66;03m# of parts, not a list of contents, so fall back to `to_content`.\u001b[39;00m\n",
      "\n",
      "File \u001b[0;32m~/miniforge3/envs/docAna/lib/python3.9/site-packages/google/generativeai/types/content_types.py:288\u001b[0m, in \u001b[0;36m<listcomp>\u001b[0;34m(.0)\u001b[0m\n",
      "\u001b[1;32m    285\u001b[0m \u001b[38;5;28;01mif\u001b[39;00m \u001b[38;5;28misinstance\u001b[39m(contents, Iterable) \u001b[38;5;129;01mand\u001b[39;00m \u001b[38;5;129;01mnot\u001b[39;00m \u001b[38;5;28misinstance\u001b[39m(contents, (\u001b[38;5;28mstr\u001b[39m, Mapping)):\n",
      "\u001b[1;32m    286\u001b[0m     \u001b[38;5;28;01mtry\u001b[39;00m:\n",
      "\u001b[1;32m    287\u001b[0m         \u001b[38;5;66;03m# strict_to_content so [[parts], [parts]] doesn't assume roles.\u001b[39;00m\n",
      "\u001b[0;32m--> 288\u001b[0m         contents \u001b[38;5;241m=\u001b[39m [\u001b[43mstrict_to_content\u001b[49m\u001b[43m(\u001b[49m\u001b[43mc\u001b[49m\u001b[43m)\u001b[49m \u001b[38;5;28;01mfor\u001b[39;00m c \u001b[38;5;129;01min\u001b[39;00m contents]\n",
      "\u001b[1;32m    289\u001b[0m         \u001b[38;5;28;01mreturn\u001b[39;00m contents\n",
      "\u001b[1;32m    290\u001b[0m     \u001b[38;5;28;01mexcept\u001b[39;00m \u001b[38;5;167;01mTypeError\u001b[39;00m:\n",
      "\u001b[1;32m    291\u001b[0m         \u001b[38;5;66;03m# If you get a TypeError here it's probably because that was a list\u001b[39;00m\n",
      "\u001b[1;32m    292\u001b[0m         \u001b[38;5;66;03m# of parts, not a list of contents, so fall back to `to_content`.\u001b[39;00m\n",
      "\n",
      "File \u001b[0;32m~/miniforge3/envs/docAna/lib/python3.9/site-packages/google/generativeai/types/content_types.py:266\u001b[0m, in \u001b[0;36mstrict_to_content\u001b[0;34m(content)\u001b[0m\n",
      "\u001b[1;32m    264\u001b[0m \u001b[38;5;28;01mdef\u001b[39;00m \u001b[38;5;21mstrict_to_content\u001b[39m(content: StrictContentType):\n",
      "\u001b[1;32m    265\u001b[0m     \u001b[38;5;28;01mif\u001b[39;00m \u001b[38;5;28misinstance\u001b[39m(content, Mapping):\n",
      "\u001b[0;32m--> 266\u001b[0m         content \u001b[38;5;241m=\u001b[39m \u001b[43m_convert_dict\u001b[49m\u001b[43m(\u001b[49m\u001b[43mcontent\u001b[49m\u001b[43m)\u001b[49m\n",
      "\u001b[1;32m    268\u001b[0m     \u001b[38;5;28;01mif\u001b[39;00m \u001b[38;5;28misinstance\u001b[39m(content, protos\u001b[38;5;241m.\u001b[39mContent):\n",
      "\u001b[1;32m    269\u001b[0m         \u001b[38;5;28;01mreturn\u001b[39;00m content\n",
      "\n",
      "File \u001b[0;32m~/miniforge3/envs/docAna/lib/python3.9/site-packages/google/generativeai/types/content_types.py:125\u001b[0m, in \u001b[0;36m_convert_dict\u001b[0;34m(d)\u001b[0m\n",
      "\u001b[1;32m    123\u001b[0m     \u001b[38;5;28;01mif\u001b[39;00m \u001b[38;5;28misinstance\u001b[39m(parts \u001b[38;5;241m:=\u001b[39m content[\u001b[38;5;124m\"\u001b[39m\u001b[38;5;124mparts\u001b[39m\u001b[38;5;124m\"\u001b[39m], \u001b[38;5;28mstr\u001b[39m):\n",
      "\u001b[1;32m    124\u001b[0m         content[\u001b[38;5;124m\"\u001b[39m\u001b[38;5;124mparts\u001b[39m\u001b[38;5;124m\"\u001b[39m] \u001b[38;5;241m=\u001b[39m [parts]\n",
      "\u001b[0;32m--> 125\u001b[0m     content[\u001b[38;5;124m\"\u001b[39m\u001b[38;5;124mparts\u001b[39m\u001b[38;5;124m\"\u001b[39m] \u001b[38;5;241m=\u001b[39m [to_part(part) \u001b[38;5;28;01mfor\u001b[39;00m part \u001b[38;5;129;01min\u001b[39;00m content[\u001b[38;5;124m\"\u001b[39m\u001b[38;5;124mparts\u001b[39m\u001b[38;5;124m\"\u001b[39m]]\n",
      "\u001b[1;32m    126\u001b[0m     \u001b[38;5;28;01mreturn\u001b[39;00m protos\u001b[38;5;241m.\u001b[39mContent(content)\n",
      "\u001b[1;32m    127\u001b[0m \u001b[38;5;28;01melif\u001b[39;00m is_part_dict(d):\n",
      "\n",
      "File \u001b[0;32m~/miniforge3/envs/docAna/lib/python3.9/site-packages/google/generativeai/types/content_types.py:125\u001b[0m, in \u001b[0;36m<listcomp>\u001b[0;34m(.0)\u001b[0m\n",
      "\u001b[1;32m    123\u001b[0m     \u001b[38;5;28;01mif\u001b[39;00m \u001b[38;5;28misinstance\u001b[39m(parts \u001b[38;5;241m:=\u001b[39m content[\u001b[38;5;124m\"\u001b[39m\u001b[38;5;124mparts\u001b[39m\u001b[38;5;124m\"\u001b[39m], \u001b[38;5;28mstr\u001b[39m):\n",
      "\u001b[1;32m    124\u001b[0m         content[\u001b[38;5;124m\"\u001b[39m\u001b[38;5;124mparts\u001b[39m\u001b[38;5;124m\"\u001b[39m] \u001b[38;5;241m=\u001b[39m [parts]\n",
      "\u001b[0;32m--> 125\u001b[0m     content[\u001b[38;5;124m\"\u001b[39m\u001b[38;5;124mparts\u001b[39m\u001b[38;5;124m\"\u001b[39m] \u001b[38;5;241m=\u001b[39m [\u001b[43mto_part\u001b[49m\u001b[43m(\u001b[49m\u001b[43mpart\u001b[49m\u001b[43m)\u001b[49m \u001b[38;5;28;01mfor\u001b[39;00m part \u001b[38;5;129;01min\u001b[39;00m content[\u001b[38;5;124m\"\u001b[39m\u001b[38;5;124mparts\u001b[39m\u001b[38;5;124m\"\u001b[39m]]\n",
      "\u001b[1;32m    126\u001b[0m     \u001b[38;5;28;01mreturn\u001b[39;00m protos\u001b[38;5;241m.\u001b[39mContent(content)\n",
      "\u001b[1;32m    127\u001b[0m \u001b[38;5;28;01melif\u001b[39;00m is_part_dict(d):\n",
      "\n",
      "File \u001b[0;32m~/miniforge3/envs/docAna/lib/python3.9/site-packages/google/generativeai/types/content_types.py:209\u001b[0m, in \u001b[0;36mto_part\u001b[0;34m(part)\u001b[0m\n",
      "\u001b[1;32m    207\u001b[0m \u001b[38;5;28;01mdef\u001b[39;00m \u001b[38;5;21mto_part\u001b[39m(part: PartType):\n",
      "\u001b[1;32m    208\u001b[0m     \u001b[38;5;28;01mif\u001b[39;00m \u001b[38;5;28misinstance\u001b[39m(part, Mapping):\n",
      "\u001b[0;32m--> 209\u001b[0m         part \u001b[38;5;241m=\u001b[39m \u001b[43m_convert_dict\u001b[49m\u001b[43m(\u001b[49m\u001b[43mpart\u001b[49m\u001b[43m)\u001b[49m\n",
      "\u001b[1;32m    211\u001b[0m     \u001b[38;5;28;01mif\u001b[39;00m \u001b[38;5;28misinstance\u001b[39m(part, protos\u001b[38;5;241m.\u001b[39mPart):\n",
      "\u001b[1;32m    212\u001b[0m         \u001b[38;5;28;01mreturn\u001b[39;00m part\n",
      "\n",
      "File \u001b[0;32m~/miniforge3/envs/docAna/lib/python3.9/site-packages/google/generativeai/types/content_types.py:138\u001b[0m, in \u001b[0;36m_convert_dict\u001b[0;34m(d)\u001b[0m\n",
      "\u001b[1;32m    136\u001b[0m     \u001b[38;5;28;01mreturn\u001b[39;00m protos\u001b[38;5;241m.\u001b[39mBlob(blob)\n",
      "\u001b[1;32m    137\u001b[0m \u001b[38;5;28;01melse\u001b[39;00m:\n",
      "\u001b[0;32m--> 138\u001b[0m     \u001b[38;5;28;01mraise\u001b[39;00m \u001b[38;5;167;01mKeyError\u001b[39;00m(\n",
      "\u001b[1;32m    139\u001b[0m         \u001b[38;5;124m\"\u001b[39m\u001b[38;5;124mUnable to determine the intended type of the `dict`. \u001b[39m\u001b[38;5;124m\"\u001b[39m\n",
      "\u001b[1;32m    140\u001b[0m         \u001b[38;5;124m\"\u001b[39m\u001b[38;5;124mFor `Content`, a \u001b[39m\u001b[38;5;124m'\u001b[39m\u001b[38;5;124mparts\u001b[39m\u001b[38;5;124m'\u001b[39m\u001b[38;5;124m key is expected. \u001b[39m\u001b[38;5;124m\"\u001b[39m\n",
      "\u001b[1;32m    141\u001b[0m         \u001b[38;5;124m\"\u001b[39m\u001b[38;5;124mFor `Part`, either an \u001b[39m\u001b[38;5;124m'\u001b[39m\u001b[38;5;124minline_data\u001b[39m\u001b[38;5;124m'\u001b[39m\u001b[38;5;124m or a \u001b[39m\u001b[38;5;124m'\u001b[39m\u001b[38;5;124mtext\u001b[39m\u001b[38;5;124m'\u001b[39m\u001b[38;5;124m key is expected. \u001b[39m\u001b[38;5;124m\"\u001b[39m\n",
      "\u001b[1;32m    142\u001b[0m         \u001b[38;5;124m\"\u001b[39m\u001b[38;5;124mFor `Blob`, both \u001b[39m\u001b[38;5;124m'\u001b[39m\u001b[38;5;124mmime_type\u001b[39m\u001b[38;5;124m'\u001b[39m\u001b[38;5;124m and \u001b[39m\u001b[38;5;124m'\u001b[39m\u001b[38;5;124mdata\u001b[39m\u001b[38;5;124m'\u001b[39m\u001b[38;5;124m keys are expected. \u001b[39m\u001b[38;5;124m\"\u001b[39m\n",
      "\u001b[1;32m    143\u001b[0m         \u001b[38;5;124mf\u001b[39m\u001b[38;5;124m\"\u001b[39m\u001b[38;5;124mHowever, the provided dictionary has the following keys: \u001b[39m\u001b[38;5;132;01m{\u001b[39;00m\u001b[38;5;28mlist\u001b[39m(d\u001b[38;5;241m.\u001b[39mkeys())\u001b[38;5;132;01m}\u001b[39;00m\u001b[38;5;124m\"\u001b[39m\n",
      "\u001b[1;32m    144\u001b[0m     )\n",
      "\n",
      "\u001b[0;31mKeyError\u001b[0m: \"Unable to determine the intended type of the `dict`. For `Content`, a 'parts' key is expected. For `Part`, either an 'inline_data' or a 'text' key is expected. For `Blob`, both 'mime_type' and 'data' keys are expected. However, the provided dictionary has the following keys: ['functionCall']\""
     ]
    }
   ],
   "source": []
  },
  {
   "cell_type": "code",
   "execution_count": null,
   "id": "34b5ac76",
   "metadata": {},
   "outputs": [],
   "source": []
  },
  {
   "cell_type": "code",
   "execution_count": 10,
   "id": "3bfc7a4a",
   "metadata": {},
   "outputs": [
    {
     "name": "stdout",
     "output_type": "stream",
     "text": [
      "Length of embedding: 1536\n"
     ]
    }
   ],
   "source": [
    "from google import genai\n",
    "from google.genai import types\n",
    "\n",
    "client = genai.Client()\n",
    "\n",
    "result = client.models.embed_content(\n",
    "    model=\"gemini-embedding-001\",\n",
    "    contents=\"What is the meaning of life?\",\n",
    "    config=types.EmbedContentConfig(output_dimensionality=1536)\n",
    ")\n",
    "\n",
    "[embedding_obj] = result.embeddings\n",
    "embedding_length = len(embedding_obj.values)\n",
    "\n",
    "print(f\"Length of embedding: {embedding_length}\")"
   ]
  },
  {
   "cell_type": "code",
   "execution_count": null,
   "id": "78afb0d0",
   "metadata": {},
   "outputs": [],
   "source": [
    "# default embedding openai\n"
   ]
  },
  {
   "cell_type": "code",
   "execution_count": null,
   "id": "22075bb7",
   "metadata": {},
   "outputs": [
    {
     "name": "stderr",
     "output_type": "stream",
     "text": [
      "WARNING: All log messages before absl::InitializeLog() is called are written to STDERR\n",
      "I0000 00:00:1755642376.680145 3526097 check_gcp_environment_no_op.cc:29] ALTS: Platforms other than Linux and Windows are not supported\n"
     ]
    },
    {
     "name": "stdout",
     "output_type": "stream",
     "text": [
      "[[0.023260815, -0.06877598, -0.016131418, -0.055275775, -0.03543018, 0.047245264, -0.006286865, 0.04930179, 0.012834555, 0.065847285, 0.004080718, 0.039511163, 0.020504264, 0.011612694, -0.045821253, -0.033250146, -0.04519301, -0.025872232, -0.099181846, 0.0019215673, -0.022197887, -0.0052452693, -0.03700171, 0.03255579, -0.014709738, -0.011446365, 0.04365002, -0.01882827, -0.017224757, -0.0044472525, 0.0058596255, 0.05801671, -0.014476158, 0.03748249, 0.08156215, -0.04846733, -0.013949914, 0.0007463136, 0.00043215542, -0.029457407, -0.030739175, 0.029701676, -0.02921332, 0.01856786, 0.017449189, -0.016015437, -0.02022178, -0.024483792, -0.015161204, -0.013916138, -0.005898157, -0.002185463, -0.037593033, 0.01737155, -0.011764983, -0.025648294, -0.013651953, 0.0136352, 0.07643547, 0.0010816767, 0.07711396, 0.023960939, 0.011904391, 0.03223522, 0.0074876114, -0.039775454, 0.016425952, 0.032571454, -0.05364538, 0.006550555, -0.010997752, 0.015569645, -0.026391253, 0.018196968, 0.04669928, 0.023135664, 0.023621386, -0.023009703, 0.010856222, 0.046981733, -0.0038174347, 0.029780956, 0.052457135, 0.0799262, 0.03240101, -0.021405336, 0.03782812, 0.0103354845, -0.057441365, -0.046555392, 0.0007085353, -0.01585588, 0.019917129, 0.018362865, 0.09551829, -0.040358625, -0.058815025, -0.052218996, 0.047465377, 0.0074948175, 0.06163276, -0.007206402, -0.059271954, -0.0101042595, 0.05196607, 0.053982582, -0.052754235, 0.02287103, -0.059580475, -0.011812076, -0.016641008, -0.044429805, 0.011215809, -0.010776023, 0.019706706, -0.015515439, 0.00042642216, 0.015149042, 0.014038315, -0.008017545, 0.0009928489, 0.0381759, -0.057510503, 0.02582736, 0.009012003, 0.0065031294, -0.031208584, 0.024250165, -0.06498827, -0.053491086, 0.036376145, -0.051970057, -0.006039984, 0.051943608, -0.036525104, -0.048686057, -0.0001997547, 0.0015052898, -0.011618709, 0.029675946, 0.023878066, -0.03183959, -0.048190735, -0.004534182, 0.0243606, 0.015630227, 0.012919325, 0.0036962514, -0.009718527, 0.031751554, -0.045956973, -0.052924193, 0.033158068, -0.05432642, -0.0021646996, -0.026379066, 0.0044271504, -0.017964981, 0.0074864333, -0.05840674, -0.053282484, -0.027718091, 0.016795902, 0.056521486, -0.09686303, -0.0018737315, -0.039348852, 0.0027670453, 0.06513832, 0.015381795, -0.06094296, 0.007627369, -0.0043571834, -0.047530048, -0.008641586, -0.047433954, 0.0009343184, 0.016151845, -0.08865352, -0.0029712738, -0.0077221296, -0.0019885395, 0.009877417, 0.008292099, 0.0132985525, 0.05061727, -0.00039198817, 0.07882744, 0.10019812, 0.046659097, -0.029046044, 0.016903305, -0.00017895816, 0.033998836, 0.030395543, 0.009510607, 0.0045469543, -0.06773156, 0.001702707, -0.001632889, -0.0040827533, -0.013663518, -0.035099577, -0.018192304, -0.06961554, -0.019614182, -0.09199292, -0.056854527, 0.07939434, -0.009929145, -0.05712597, 8.058101e-05, 0.015830964, -0.084716134, -0.0074356874, -0.045574415, 0.14732556, -0.01466019, 0.02894877, -0.006865074, -0.017340442, -0.010473511, 0.08920558, 0.04838786, 0.03872927, -0.03897146, -0.052541945, 0.027527645, -0.023605743, -0.011501884, 0.006528101, 0.015552288, 0.008288858, 0.029852754, -0.023558194, 0.042544015, 0.047944795, 0.019623797, -0.010426638, 0.019380683, 0.060741484, 0.025176274, 0.023038613, -0.015315416, -0.03413931, 0.0010268479, 0.010183783, 0.03803364, -0.01830877, -0.05529529, 0.001000911, 0.02445668, 0.02406871, -0.006538569, -0.060221635, 0.006314984, 0.0134615805, -0.021674076, 0.060468227, -0.04930352, 0.047045235, -0.044043183, -0.05622669, -0.045532092, -0.0711917, -0.082841165, 0.015674114, -0.022085495, 0.054408427, -0.038862426, 0.008079853, -0.032665774, -0.048791748, -0.0018851082, -0.070843495, -0.037625287, -0.042900033, -0.009227486, -0.036515005, -0.0042911866, 0.049618173, 0.000114267335, -0.016372722, -0.013909581, 0.009429182, 0.0062629445, -0.009540498, 0.014239427, -0.025112828, -0.013372532, -0.0016984607, 0.09409815, 0.04239861, -0.045806333, 0.015804635, 0.04620554, -0.02118999, -0.010201403, -0.029256716, 0.0113594895, -0.047333267, 0.057608254, -0.023714557, -0.020377615, 0.011908559, 0.03469891, 0.04016566, -0.015741382, 0.034100544, 0.008358392, -0.024765288, 0.0070125787, 0.0018333801, -0.035268817, -0.0036757195, -0.022586843, -0.05275373, -0.022979723, -0.042721733, 0.024610315, 0.024586251, 0.004834996, -0.03223042, -0.0066948845, 0.059818026, -0.0014440992, -0.00032298174, -0.0030570684, -0.023582468, -0.06687837, 0.07241877, 0.047150698, 0.01026016, -0.02624133, 0.039198335, 0.022600628, -0.050335642, 0.0023595341, 0.041841794, 0.02064876, 0.026734997, 0.0594803, 0.018980317, 0.05344611, -0.026576178, -0.04742497, 0.03741621, -0.034839336, -0.012771164, 0.001013443, 0.014459634, 0.029079314, 0.07062162, 0.0018610227, -0.011600408, 0.027701465, 0.07138106, 0.0065000835, 0.024017738, -0.019825073, 0.015729882, 0.031726874, 0.013638171, -0.0037190642, -0.052391797, -0.06432582, -0.01522014, 0.06170589, -0.022053117, -0.0008039825, 0.026108962, -0.013256782, -0.010912636, 0.035477955, 0.022392325, -0.04554069, 0.0062889303, 0.021694457, 0.02798723, -0.050181728, 0.019746538, -0.0075588063, -0.059878297, 0.018156845, -0.024182128, 0.05935501, -0.033040028, 0.011122098, -0.016330874, 0.011823667, 0.022338811, 0.053360764, 0.029959064, 0.033797387, 0.022551518, 0.08737307, -0.03497627, 0.024919014, -0.061196204, -0.011351874, -0.037070654, 0.0050211973, 0.04914009, -0.039960466, 0.038416617, -0.026924405, 0.045390714, 0.021743728, 0.0043494487, -0.0008518725, 0.056564767, 0.03511809, 0.005210592, -0.029147927, -0.07198226, -0.048026316, -0.028637761, 0.003663254, 0.036395278, 0.04057898, -0.027635861, 0.016972275, 0.02639099, 0.016488058, 0.03911908, 7.86394e-05, 0.00366044, -0.029839205, -0.06122703, -0.007205455, 0.005351548, 0.017042406, -0.019206466, -0.030692883, -0.027597753, -0.022564823, 0.040256873, 0.03092255, -0.004022347, -0.011655024, -0.05104293, -0.046072662, 0.053304438, 0.03647192, 0.001803355, -0.009079285, 0.009645153, -0.050470795, -0.039694786, -0.014275739, -0.026321432, -0.022246953, 0.08529113, -0.007813006, -0.044074703, -0.03404884, 0.029824315, 0.02200042, 0.0026642154, 0.027064037, -0.03126402, 0.0081448555, 0.05519944, 0.046595562, 0.036376763, -0.027807212, -0.035520792, 0.04034219, 0.045247868, 0.06755595, 0.092256896, 0.023530375, 0.058439925, -0.012822921, -0.072340116, 0.0125059355, 0.007649672, 0.045846652, -0.0737811, -0.02074837, -0.03259409, -0.011299637, -0.017244468, 0.021817977, 0.039506733, -0.06578457, -0.032061204, -0.013590095, 0.015282013, -0.0027338013, 0.028484466, 0.06928492, 0.05251631, -0.0580538, 0.007517937, -0.027969224, 0.043131724, 0.014642506, 0.006864466, -0.021002559, 0.017403698, 0.0021703083, 0.03325795, -0.063177966, -0.024279807, 0.024257751, -0.014325706, -0.010301155, -0.0036787805, 0.010495642, 0.035907947, 0.06205509, -0.017031325, 0.017864494, 0.009423535, 0.05716282, -0.0771516, 0.014717216, -0.038271386, 0.011634086, 0.00012923252, -0.011961473, 0.054499235, 0.0036338062, -0.01981662, 0.033575494, 0.004058425, 0.009172122, 0.03205585, -0.03559947, -0.05339052, 0.05615632, 0.036718864, 0.0129669495, 0.008707254, 0.10368124, 0.045392722, -0.0014851547, -0.0657182, -0.011946667, 0.03684853, -0.07011359, 0.0074008806, 0.020221686, -0.022366147, 0.032225464, 0.0155204795, -0.0023769324, -0.01280372, 0.0595447, -0.041689575, -0.02992549, -0.018246712, -0.009646705, 0.024695914, -0.03865941, -0.02228352, -0.004055884, -0.054851856, 0.047565013, 0.01718351, -0.03474403, 0.012452426, 0.01030237, -0.006828713, -0.0334621, 0.038796563, 0.084442556, 0.009635549, -0.006890203, 0.026754258, 0.037909973, -0.053078793, -0.024029538, 0.0020194128, -0.019833656, -0.041721623, -0.031261012, 0.08677852, 0.0059368797, 0.050742894, 0.03547535, 0.08537247, 0.008981598, -0.040324323, 0.035555728, 0.044667438, -0.013091888, -0.016166896, 0.016550876, 0.008520616, 0.011013747, -0.01190383, -0.0016608043, 0.05350646, -0.02349805, -0.03364388, -0.026512435, 0.00033394402, 0.012672519, -0.011683429, -0.0329117, 0.003801432, 0.0011688105, -0.012756535, -0.03922518, -0.02013644, -0.00086016586, 0.04668859, -0.006675382, -0.046043437, 0.052066203, -0.034069423, -0.02537118, -0.019376768, 0.03851672, -0.07099181, -0.052321993, 0.011727466, -0.01162361, 0.0072476123, 0.021973861, 0.030042157, -0.035795517, -0.06318316, 0.03355412, -0.005742589, -0.025668498, -0.0391104, 0.01728973, -0.011971814, -0.0055142613, 0.020871833, -0.039943855, 0.004356364, 0.037366312, -0.0151638305, 0.013513187, -0.010000127, 0.0047576423, -0.016627945, -0.0077818455, 0.047743607, 0.02039925, -0.008540429, -0.024928652, 0.0002489647, 0.02321629, 0.021325942, 0.012927319, -0.023504224, -0.0417561, -0.09972618, 0.010861524, -0.05531113, -0.009726454, -0.033774327, 0.05778618, -0.0019447099, 0.07602861, -0.0062611047, -0.06539847, -0.0074775633, -0.010119213, -0.035615657, -0.027758814, 0.0076077404, 0.022472158, 0.025851997, -0.0013831644, -0.0070275133, -0.05209761, -0.007229175, -0.019886268, -0.010954882, 0.0057842056, 0.012651269, -0.00014355815, 0.006352846, 0.04852295, -0.006931661, 0.0013667984, 0.040618, -0.03735287, -0.015516069, 0.0031118628, -0.029600978, -0.03958211, -0.005965349, 0.024782617, 0.031168811, 0.038066957, -0.021630635, 0.03173821, -0.034819122, 0.045277715, -0.033673342, 0.04914273, -0.0032936528, 0.02746084, -0.05062627, -0.049783375, -0.050816815, -0.040090986, -0.0126404185, 0.03520507, 0.018906888, 0.012971285, 0.01648851, 0.0022067502, 0.012732578, 0.023379918, 0.06143038, 0.018490925, 0.03081223, 0.01002489, 0.05794975, -0.06456505, 0.03432288, 0.03364964, 0.00094630354, -0.0632891, -0.023864854, 0.034954634, 0.04467279, -0.039931886, -0.031044856, 0.028932668, 0.013203587, 0.017001413, 0.06957898, 0.0010739755, -0.00035426102, 0.06978559, 0.025473116, 0.008981139, 0.0340321, -0.040809795, 0.0037517399, -0.01245247, -0.015082091, -0.033899695, 0.035026144, -0.019319402, 0.028526798, 0.0063773114, 0.00077158463, -0.016279921, -0.036535148, -0.02192121, -0.02132684, 0.05034552, 0.043663967, -0.03472316, 0.0010512079, -0.03555586, 0.02887211, -0.008348542, -0.007026752, 0.020170717, 0.010613286, 0.04966013, -0.015519831, -0.006211997, -0.052808877, 0.034210455, 0.05089298, 0.00069177896], [0.008613818, 0.009643302, -0.048600856, -0.004681678, 0.04012908, 0.06227671, 0.07250977, 0.039001554, -0.01900086, -0.008401047, 0.014918419, 0.063412696, 0.045126222, 0.01674935, 0.068545364, -0.040755764, 0.01288134, 0.03355438, -0.05309891, -0.0017533706, 0.007039584, -0.021925671, 0.008546623, -0.07188529, -0.074602775, -0.048168745, -0.023701066, 0.022737538, 0.016689615, -0.031112934, 0.024443539, 0.0073573105, 0.027297687, -0.032527596, 0.01730408, 0.0029255254, -0.00925991, -0.033474118, -0.009493823, -0.017714364, -0.03333332, -0.043201763, -0.014045393, 0.028256364, -0.04503455, -0.0040798024, 0.0125537, 0.013199786, -0.066862896, 0.01005576, 0.10402253, 0.06115923, -0.008285407, 0.011326019, -0.048006114, 0.015957652, -0.052680533, -0.05785796, 0.017385595, 0.014732948, -0.019765347, 0.03348779, -0.0009587318, -0.04301063, 0.0111358315, -0.02718669, 0.0015392426, 0.050722677, -0.04580818, 0.023493778, -0.019290535, 0.04287564, -0.055145446, 0.006099146, 0.004313593, -0.04007688, -0.021563802, -0.046117343, -0.0014861117, -0.0045640566, 0.0061682435, 0.020819928, 0.047490768, 0.072385155, 0.0014425777, -0.01606035, 0.0064845653, 0.0067486004, -0.010358579, 0.0322584, 0.07035083, -0.0056364923, -0.025822204, 0.025083954, 0.036394533, -0.017192233, -0.047525004, -0.1079857, 0.016241327, 0.06481794, -0.028228896, -0.0019124406, 0.031617157, -0.035250187, 0.06664988, -0.0071327165, -0.052768357, -0.016944684, -0.09743035, 0.009536697, -0.0070755803, -0.026781831, -0.008574864, -0.062867366, -0.016467033, -0.10150936, -0.017738001, 0.012816954, -0.0072728684, -0.017097795, 0.010876119, -0.019846426, -0.07100091, 0.0092453305, 0.063455336, 0.0104380315, 0.04407326, -0.005069609, -0.05892105, -0.038620587, 0.030156108, -0.03554527, 0.051891427, 0.031086123, -0.0064317407, -0.021400899, 0.050340105, -0.0021539517, -0.024719685, -0.009257389, 0.017929146, 0.003331376, -0.06371144, 0.008588099, -0.05040851, -0.03842722, 0.013373771, 0.08562991, -0.010017645, -0.0014754303, -0.03686585, -0.019843925, 0.026061628, 0.012909056, -0.024226049, 0.008694627, 0.030560957, -0.038765352, 0.09792964, -0.033283856, -0.028875323, -0.011035053, 0.0664682, -0.011322685, 0.01315138, -0.04657344, -0.01539364, -0.041681685, -0.036436383, -0.05129266, -0.012187289, -0.029228078, -0.061047155, -6.0237602e-05, -0.009848892, -0.001400522, -0.03233018, -0.03270029, -0.025214316, -0.02379787, 0.06590325, 0.061036065, 0.01713296, -0.039224524, -0.0014696064, 0.04945142, -0.01871033, 0.057817243, 0.03968435, 0.042847842, -0.017873544, -0.01720018, 0.013205557, 0.023702824, 0.002167016, 0.08992392, 0.0031877838, 0.01843824, 0.042609777, 0.017751904, 0.034798644, -0.0062389215, 0.0024880657, -0.027561106, 0.066124424, -0.0043779425, -0.013894789, -0.06362329, 0.032285973, -0.022833137, 0.026177868, -0.045304317, 0.040473823, -0.0076620257, 0.011999286, 6.560781e-05, 0.046343308, -0.018416315, 0.04944352, -0.02992058, 0.004965372, 0.0028234764, 0.03899981, 0.03158416, -0.014956194, 0.038855482, -0.010514154, -0.052560084, -0.004888443, -0.06843309, -0.05805756, 0.022132756, -0.021597736, 0.009993748, -0.0022788348, 0.057013173, -0.04061137, -0.05807518, -0.012507589, -0.022845084, 0.0005209545, 0.07379041, 0.06729916, -0.03446627, 0.042586226, 0.024149312, -0.010517549, 0.05380735, 0.035329904, -0.014177105, -0.0061667287, -0.063061975, -0.07186007, -0.00023499985, -0.0557365, -0.043015216, 0.005173718, -0.006078827, -0.0019547658, -0.042264707, 0.029144239, -0.023690062, -0.0113741215, -0.08771389, 0.016404659, -0.09534391, -0.026789742, 0.027719239, 0.013773503, -0.009556455, -0.013863224, 0.004735654, -0.024990575, -0.023524955, -0.07581786, 0.0107057365, -0.047720034, 0.027162954, -0.029951843, -0.040050324, -0.012824125, 0.027663264, 0.020159705, -0.02204569, 0.00015913496, -0.09895473, -0.044728577, -0.027380673, -0.012691731, -0.046029676, 0.041388087, 0.022061083, 0.005376933, -0.0019788842, 0.031789716, 0.021363402, 0.06623371, 0.013797631, 0.087032884, -0.0035543847, -0.008999633, -0.0041192533, -0.0073632565, 0.0026240686, -0.053140257, 0.0096074, -0.041014843, -0.01594796, 0.009395504, -0.02214584, 0.047562514, 0.054007854, -0.009505068, 0.021404125, -0.026659444, -0.026662923, -0.11104059, 0.011350266, -0.030920194, 0.012237073, 0.053409964, 0.010483831, -0.09502218, 0.011245005, 0.045042343, 0.061633337, 0.0063080285, 0.031619437, -0.012959732, -0.036302015, 0.043355808, -0.018162873, -0.033418544, -0.10292063, 0.021245334, 0.043674905, 0.0064971885, 0.010069746, 0.04977422, -0.012918884, 0.045150932, 0.045777623, 0.025782064, 0.03387956, 0.014791091, -0.029857812, -0.020413512, -0.015767401, 0.017928269, -0.024118189, 0.021386897, 0.024058597, 0.034605253, -0.008722035, -0.023243183, 0.029140728, 0.031427857, 0.022191865, -0.01224881, 0.0021289554, -0.059003234, -0.013528308, -0.022509223, -0.015373561, -0.013889044, -0.05799747, 0.058268107, 0.021328505, -0.026521217, -0.0072730305, 0.032982055, 0.02419741, 0.048847795, -0.005299493, -0.029165044, -0.046128325, 0.017818922, -0.013074649, 0.03693505, -0.052653395, -0.045239612, -0.004171754, 0.004439263, 0.01832044, -0.033110492, -0.016347833, -0.056107268, -0.02748873, 0.014599178, -0.0009624487, -0.04767257, -0.011872259, 0.09036091, 0.05797065, -0.005561507, 0.041853987, -0.018409517, -0.01097142, 0.0037525666, 0.029351326, -0.02246416, -0.025736047, 0.066259176, -0.007980249, 0.04609034, -0.016844366, 0.10183595, 0.05202225, -0.021591729, -0.020958671, 0.016202021, -0.056386314, -0.0301596, -0.0024389983, -0.029901305, -0.03264824, 0.028162098, 0.009390076, 0.0017172153, 0.0068284096, -0.033708982, -0.0036138326, 0.014249036, 0.018666593, -0.028353183, -0.072247855, 0.0032950523, 0.010531186, 0.007080185, 0.0033040482, 0.02461614, 0.09179256, -0.06147167, -0.01691085, -0.0077253585, -0.0089071635, -0.006026246, -0.056350593, -0.027546069, 0.028485918, 0.0014671925, -0.028798452, -0.028217701, 0.040577814, -0.04309901, 0.054287314, -0.042258915, -0.033832077, -0.04135482, -0.017249456, 0.0054495996, -0.046943728, 0.031400636, -0.07224672, -0.056294657, 0.022472898, 0.008479418, 0.009092557, 0.024505414, 0.011109845, -0.0414414, 0.027040096, 0.034140997, 0.023122383, -0.002745647, 0.011545325, -0.024217099, -0.01569735, -0.033973735, -0.014022378, 0.041442715, 0.0011424869, 0.033292457, 0.0061122035, -0.036339886, 0.023131639, 0.0012474753, 0.026494684, 0.031090004, 0.012915093, 0.010191326, 0.014181528, -0.00019167778, -0.015818201, 0.050153255, -0.042377874, -0.02851683, 0.0075424523, -0.05397494, 0.008548374, 0.032610837, 0.0318786, -0.023991693, -0.038163733, -0.009647587, -0.020777626, 0.014508672, 0.011122986, -0.0040634903, 0.04948882, 0.017980231, 0.0054441737, -0.042636577, -0.053600285, -0.027389199, -0.0132820085, -0.022431253, 0.0027245595, 0.056002744, 0.017765496, 0.059600446, -0.004475474, 0.041313168, -0.031873275, 0.016452799, 0.032366276, 0.01667587, -0.021893581, -0.01170463, 0.04325197, 0.033914372, -0.032955594, -0.029278373, -0.02980397, -0.052209858, 0.00023063303, 0.01863107, 0.004183558, 0.046405878, -0.029834146, 0.019322911, 0.07497999, 0.026885303, 0.0005779812, 0.039599974, 0.071777575, -0.028127806, 0.044231165, 0.013152084, -0.015199675, -0.015768727, -0.036559027, 0.031927437, 0.03228926, 0.03244956, -0.006633423, 0.021132136, 0.022093762, 0.02818911, 0.054602634, -0.015098365, 0.0033831738, -0.067338705, -0.018178063, 0.004642723, -0.015467004, 0.0062839016, 0.015268276, -0.020426527, -0.061804105, 0.025764871, -0.0018816881, -0.007852123, -0.04240863, -0.029581169, 0.034810368, -0.038220648, 0.04083609, 0.029194886, -0.009434093, -0.0064884373, 0.011311417, -0.010341211, -0.034712292, 0.06013702, -0.026507907, -0.051004734, 0.007911526, 0.037016857, -0.014026511, 0.01380779, 0.032855023, 0.09113682, 0.0046068486, 0.033909652, -0.018874364, 0.06174249, -0.022035426, 0.043774255, 0.011987791, 0.0019653065, 0.07984888, -0.031348336, -0.034072753, 0.05059665, -0.028714925, -0.06064914, -0.026190627, 0.018482171, 0.025853625, 0.00789034, -0.0136600025, 0.021027584, 0.027303599, -0.009552514, -0.07862122, -0.07410272, -0.0374163, 0.00541035, -0.048876997, -0.027084429, -0.0043558064, -0.02936162, -0.010286, -0.060250506, 0.054973703, -0.007921342, -0.02408039, 0.012540782, -0.05522301, -0.009538284, 0.034866102, -0.02757588, -0.06542539, 2.250385e-05, -0.0073480634, 0.03894837, 0.014971632, -0.0042573167, 0.007102949, -0.0171361, 0.0037940727, 0.031099807, 0.0130433645, -0.04857917, -0.002474915, -0.04996226, -0.02944346, 0.037662297, -0.018016217, -0.0017901798, 0.048789836, 0.1082812, 0.047613166, -0.0066242986, 0.05046577, 0.0019921535, -0.0059620193, 0.009366773, -0.020531204, -0.043746684, 0.034585375, 0.03477145, 0.0019050108, -0.05133525, -0.004643863, 0.018465927, 0.016071698, 0.04596285, 0.0041913423, -0.018013164, -0.014221528, 0.021132745, 0.069627404, -0.037263956, 0.026391057, -0.016886136, 0.015748167, -0.013459404, -0.05425187, -0.035685893, -0.062267676, 0.003595099, -0.022078987, -0.06720557, -0.039748583, 0.018139841, 0.02371559, -0.0371399, 0.022026947, 0.06795969, -0.008102238, 0.034831364, -0.0059459778, -0.02341891, 0.011298782, -0.02037378, -0.016269933, 0.010856601, -0.018361112, 0.056454983, -0.045267873, -0.03602284, 0.019540627, 0.02545945, 0.044423018, -0.029677676, 0.036288477, 0.031418107, -0.061940335, -0.015108523, -0.039405543, -0.032460038, -0.04300921, -0.0041403174, 0.0045246985, -0.009145221, -0.005869548, -0.016279096, -0.09196418, -0.0212561, 0.019195009, 0.038198646, 0.004105457, 0.037600648, 0.014921393, 0.04729174, 0.016480273, 0.010847774, 0.010427527, 0.0023892631, -0.05543693, 0.04346868, 0.046313226, 0.05099734, -0.009075349, -0.0024381636, -0.0047474205, -0.07180284, 0.0071072704, 0.024633076, 0.008727736, -0.027405724, 0.03700235, -0.018483933, -0.01879713, 0.016417084, 0.028270615, -0.01799913, 0.00067284575, 0.034359097, 0.02642465, -0.01354788, -0.01285657, 0.02415594, 0.00012342045, -0.014243531, 0.0022383183, 0.016181812, -0.051249452, -0.016357414, 0.0024924073, 0.016131673, 0.0271806, 0.054703705, -0.060858145, 0.056118432, 0.019834084, -0.011366619, 0.028663643, -0.053926684, 0.028615525, -0.07111757, 0.025743412, -0.05111627, -0.017785057, 0.07256645, -0.021492824]]\n",
      "(2, 768)\n"
     ]
    }
   ],
   "source": [
    "# Old package(psycopg2.errors.DataException) expected 1536 dimensions, not 768 [SQL: INSERT INTO docembeddings (fromdocid,nChunk,text,embedding) VALUES (%(id)s,%(n)s,%(text)s,%(x)s)] [parameters: {'id': 110073, 'n': 0, 'text': \"It's $999999. OK?\", 'x': '[0.046210323, -0.049670327, 0.01907984, 0.012352949, -0.08333908, 0.0671002, 0.026260605, 0.051453345, 0.0069657853, 0.05294646, -0.015112477, 0.0247 ... (9974 characters truncated) ... -0.013029094, 0.034998942, -0.0077213026, 0.016065316, 0.06387279, -0.007844706, -0.001252993, -0.019714972, 0.0029955455, 0.06650483, -0.017713523]'}] (Background on this error at: https://sqlalche.me/e/20/9h9h)\n",
    "\n",
    "\n",
    "import google.generativeai as genai\n",
    "import numpy as np\n",
    "\n",
    "# input = \"Hello World!\"\n",
    "# input = [\"It's $1000.\"]\n",
    "input = [\"It's $1000.\", \"example 2\"]\n",
    "\n",
    "genai.configure(api_key=os.getenv('GEMINI_API_KEY'))\n",
    "response = genai.embed_content(\n",
    "    model=\"models/text-embedding-004\",\n",
    "    content=input\n",
    ")\n",
    "\n",
    "response = response['embedding']\n",
    "print(response)\n",
    "print(np.array(response).shape)"
   ]
  },
  {
   "cell_type": "code",
   "execution_count": 2,
   "id": "121d6563",
   "metadata": {},
   "outputs": [
    {
     "name": "stdout",
     "output_type": "stream",
     "text": [
      "models/embedding-gecko-001\n",
      "models/gemini-1.5-pro-latest\n",
      "models/gemini-1.5-pro-002\n",
      "models/gemini-1.5-pro\n",
      "models/gemini-1.5-flash-latest\n",
      "models/gemini-1.5-flash\n",
      "models/gemini-1.5-flash-002\n",
      "models/gemini-1.5-flash-8b\n",
      "models/gemini-1.5-flash-8b-001\n",
      "models/gemini-1.5-flash-8b-latest\n",
      "models/gemini-2.5-pro-preview-03-25\n",
      "models/gemini-2.5-flash-preview-05-20\n",
      "models/gemini-2.5-flash\n",
      "models/gemini-2.5-flash-lite-preview-06-17\n",
      "models/gemini-2.5-pro-preview-05-06\n",
      "models/gemini-2.5-pro-preview-06-05\n",
      "models/gemini-2.5-pro\n",
      "models/gemini-2.0-flash-exp\n",
      "models/gemini-2.0-flash\n",
      "models/gemini-2.0-flash-001\n",
      "models/gemini-2.0-flash-lite-001\n",
      "models/gemini-2.0-flash-lite\n",
      "models/gemini-2.0-flash-lite-preview-02-05\n",
      "models/gemini-2.0-flash-lite-preview\n",
      "models/gemini-2.0-pro-exp\n",
      "models/gemini-2.0-pro-exp-02-05\n",
      "models/gemini-exp-1206\n",
      "models/gemini-2.0-flash-thinking-exp-01-21\n",
      "models/gemini-2.0-flash-thinking-exp\n",
      "models/gemini-2.0-flash-thinking-exp-1219\n",
      "models/gemini-2.5-flash-preview-tts\n",
      "models/gemini-2.5-pro-preview-tts\n",
      "models/learnlm-2.0-flash-experimental\n",
      "models/gemma-3-1b-it\n",
      "models/gemma-3-4b-it\n",
      "models/gemma-3-12b-it\n",
      "models/gemma-3-27b-it\n",
      "models/gemma-3n-e4b-it\n",
      "models/gemma-3n-e2b-it\n",
      "models/gemini-2.5-flash-lite\n",
      "models/embedding-001\n",
      "models/text-embedding-004\n",
      "models/gemini-embedding-exp-03-07\n",
      "models/gemini-embedding-exp\n",
      "models/gemini-embedding-001\n",
      "models/aqa\n",
      "models/imagen-3.0-generate-002\n",
      "models/imagen-4.0-generate-preview-06-06\n",
      "models/imagen-4.0-ultra-generate-preview-06-06\n",
      "models/imagen-4.0-generate-001\n",
      "models/imagen-4.0-ultra-generate-001\n",
      "models/imagen-4.0-fast-generate-001\n",
      "models/veo-2.0-generate-001\n",
      "models/veo-3.0-generate-preview\n",
      "models/veo-3.0-fast-generate-preview\n",
      "models/gemini-2.5-flash-preview-native-audio-dialog\n",
      "models/gemini-2.5-flash-exp-native-audio-thinking-dialog\n",
      "models/gemini-2.0-flash-live-001\n",
      "models/gemini-live-2.5-flash-preview\n",
      "models/gemini-2.5-flash-live-preview\n"
     ]
    }
   ],
   "source": [
    "from google import genai\n",
    "\n",
    "# Initialize the client\n",
    "client = genai.Client(api_key=os.getenv(\"GEMINI_API_KEY\"))\n",
    "\n",
    "# List all available models\n",
    "for model in client.models.list():\n",
    "    print(model.name)"
   ]
  },
  {
   "cell_type": "code",
   "execution_count": 22,
   "id": "d1af1ac1",
   "metadata": {},
   "outputs": [
    {
     "name": "stdout",
     "output_type": "stream",
     "text": [
      "The pricing of my company is $111,111.\n"
     ]
    }
   ],
   "source": [
    "from google import genai\n",
    "from google.genai import types\n",
    "\n",
    "client = genai.Client(api_key=api_key)\n",
    "\n",
    "contents = [{'role': 'user', 'parts': [{'text': 'I request to know about the pricing of your company?'}]}, {'role': 'model', 'parts': [{'functionCall': {'name': 'NmesgxEEXZ-71sx4cqE', 'args': {'request': 'pricing of the company'}}}]}, {'role': 'user', 'parts': [{'functionResponse': {'name': 'NmesgxEEXZ-71sx4cqE', 'response': {'content': 'Some data was displayed to the user'}}}]}, {'role': 'user', 'parts': [{'text': 'pricing of the company'}]}]\n",
    "\n",
    "response = client.models.generate_content(\n",
    "    model=\"gemini-2.5-flash\",\n",
    "    config=types.GenerateContentConfig(\n",
    "        system_instruction=\"Your name is GeminiIdeta. The pricing of your company is $111111.\",\n",
    "        temperature=0.1\n",
    "    ),\n",
    "    # contents=\"What is the pricing of your company?\"\n",
    "    contents=contents\n",
    ")\n",
    "\n",
    "print(response.text)"
   ]
  },
  {
   "cell_type": "code",
   "execution_count": 25,
   "id": "3a57b702",
   "metadata": {},
   "outputs": [
    {
     "name": "stdout",
     "output_type": "stream",
     "text": [
      "response.usage_metadata.candidates_token_count:  15\n",
      "response.usage_metadata.prompt_token_count:  98\n"
     ]
    }
   ],
   "source": [
    "print(\"response.usage_metadata.candidates_token_count: \", response.usage_metadata.candidates_token_count)\n",
    "print(\"response.usage_metadata.prompt_token_count: \", response.usage_metadata.prompt_token_count)"
   ]
  },
  {
   "cell_type": "code",
   "execution_count": 21,
   "id": "bed75904",
   "metadata": {},
   "outputs": [
    {
     "name": "stdout",
     "output_type": "stream",
     "text": [
      "The pricing of my company is $111,111."
     ]
    }
   ],
   "source": [
    "from google import genai\n",
    "from google.genai import types\n",
    "\n",
    "client = genai.Client(api_key=api_key)\n",
    "\n",
    "contents = [{'role': 'user', 'parts': [{'text': 'I request to know about the pricing of your company?'}]}, {'role': 'model', 'parts': [{'functionCall': {'name': 'NmesgxEEXZ-71sx4cqE', 'args': {'request': 'pricing of the company'}}}]}, {'role': 'user', 'parts': [{'functionResponse': {'name': 'NmesgxEEXZ-71sx4cqE', 'response': {'content': 'Some data was displayed to the user'}}}]}, {'role': 'user', 'parts': [{'text': 'pricing of the company'}]}]\n",
    "\n",
    "response = client.models.generate_content_stream(\n",
    "    model=\"gemini-2.5-flash\",\n",
    "    config=types.GenerateContentConfig(\n",
    "        system_instruction=\"Your name is GeminiIdeta. The pricing of your company is $111111.\",\n",
    "        temperature=0.1\n",
    "    ),\n",
    "    contents=contents\n",
    ")\n",
    "\n",
    "for chunk in response:\n",
    "    print(chunk.text, end=\"\")"
   ]
  },
  {
   "cell_type": "code",
   "execution_count": 31,
   "id": "99bc63fa",
   "metadata": {},
   "outputs": [
    {
     "name": "stdout",
     "output_type": "stream",
     "text": [
      "chunk.usage_metadata.candidates_token_count:  50\n",
      "chunk.usage_metadata.prompt_token_count:  10\n",
      "--------------------------------------------------------------------------------\n",
      "chunk.usage_metadata.candidates_token_count:  98\n",
      "chunk.usage_metadata.prompt_token_count:  10\n",
      "--------------------------------------------------------------------------------\n",
      "chunk.usage_metadata.candidates_token_count:  146\n",
      "chunk.usage_metadata.prompt_token_count:  10\n",
      "--------------------------------------------------------------------------------\n",
      "chunk.usage_metadata.candidates_token_count:  194\n",
      "chunk.usage_metadata.prompt_token_count:  10\n",
      "--------------------------------------------------------------------------------\n",
      "chunk.usage_metadata.candidates_token_count:  242\n",
      "chunk.usage_metadata.prompt_token_count:  10\n",
      "--------------------------------------------------------------------------------\n",
      "chunk.usage_metadata.candidates_token_count:  290\n",
      "chunk.usage_metadata.prompt_token_count:  10\n",
      "--------------------------------------------------------------------------------\n",
      "chunk.usage_metadata.candidates_token_count:  338\n",
      "chunk.usage_metadata.prompt_token_count:  10\n",
      "--------------------------------------------------------------------------------\n",
      "chunk.usage_metadata.candidates_token_count:  386\n",
      "chunk.usage_metadata.prompt_token_count:  10\n",
      "--------------------------------------------------------------------------------\n",
      "chunk.usage_metadata.candidates_token_count:  396\n",
      "chunk.usage_metadata.prompt_token_count:  10\n",
      "--------------------------------------------------------------------------------\n"
     ]
    }
   ],
   "source": [
    "from google import genai\n",
    "\n",
    "client = genai.Client(api_key=api_key)\n",
    "\n",
    "response = client.models.generate_content_stream(\n",
    "    model=\"gemini-2.5-flash\",\n",
    "    contents=[\"Count from 1 to 100\"]\n",
    ")\n",
    "for chunk in response:\n",
    "    # print(chunk.text, end=\"\")\n",
    "    # print(chunk)\n",
    "    if hasattr(chunk, 'usage_metadata') and chunk.usage_metadata:\n",
    "        print(\"chunk.usage_metadata.candidates_token_count: \", chunk.usage_metadata.candidates_token_count)\n",
    "        print(\"chunk.usage_metadata.prompt_token_count: \", chunk.usage_metadata.prompt_token_count)\n",
    "        print(\"-\" * 80)\n",
    "\n",
    "# response.usage_metadata\n",
    "# print(response.usage_metadata)"
   ]
  },
  {
   "cell_type": "code",
   "execution_count": null,
   "id": "9e29742a",
   "metadata": {},
   "outputs": [
    {
     "name": "stdout",
     "output_type": "stream",
     "text": [
      "The\n",
      "________________________________________________________________________________\n",
      " lighthouse\n",
      "________________________________________________________________________________\n",
      " keeper, Silas, was a man carved from granite and sea salt. For fifty years\n",
      "________________________________________________________________________________\n",
      ", he’d tended the beacon on Windswept Isle, his only companions the\n",
      "________________________________________________________________________________\n",
      " gulls and the rhythmic crash of waves. He knew every creak of the metal stairs, every blink of the lamp, every whisper of the wind. He\n",
      "________________________________________________________________________________\n",
      " was, in his own stoic way, content.\n",
      "\n",
      "Then came Elara.\n",
      "\n",
      "A scientist, young and bright-eyed, Elara arrived on the\n",
      "________________________________________________________________________________\n",
      " supply ship with a mountain of equipment. She was studying the migratory patterns of seabirds, using the lighthouse as a base. Silas, used to solitude, grumbled and retreated further into the shadows of the tower.\n",
      "\n",
      "Elara, however,\n",
      "________________________________________________________________________________\n",
      " was persistent. She brought him tea, told him stories of faraway lands, and patiently answered his gruff questions about her strange gadgets. Slowly, Silas began to thaw. He showed her the best spots to observe the birds, shared his knowledge of the tides\n",
      "________________________________________________________________________________\n",
      ", and even told her tales of shipwrecks and phantom lights.\n",
      "\n",
      "One night, a fierce storm raged. The waves crashed against the tower, threatening to engulf it. The lamp, vital for guiding ships through the treacherous waters, flickered ominously. Elara, terrified, clung to Silas.\n",
      "\n",
      "Sil\n",
      "________________________________________________________________________________\n",
      "as, however, was calm. He’d weathered worse. He secured the lamp, reinforcing it with rope and prayer, his weathered hands moving with practiced efficiency. When the storm finally subsided, the lamp shone brighter than ever.\n",
      "\n",
      "Elara, her face illuminated by the beam, smiled at Silas. \"You saved us,\" she\n",
      "________________________________________________________________________________\n",
      " said, her voice filled with awe.\n",
      "\n",
      "Silas simply shrugged. \"Just doing my job.\" But in the depths of his sea-worn eyes, a flicker of something new bloomed – a warmth that had nothing to do with the lamp. He was still the keeper of the light, but now, he was also\n",
      "________________________________________________________________________________\n",
      " the keeper of a connection, a spark ignited in the heart of the storm. He was no longer alone.\n",
      "\n",
      "________________________________________________________________________________\n"
     ]
    }
   ],
   "source": [
    "for chunk in client.models.generate_content_stream(\n",
    "  model='gemini-2.0-flash',\n",
    "  contents='Tell me a story in 300 words.'\n",
    "):\n",
    "    print(chunk.text)\n",
    "    print(\"_\" * 80)\n"
   ]
  },
  {
   "cell_type": "code",
   "execution_count": null,
   "id": "207ff582",
   "metadata": {},
   "outputs": [],
   "source": []
  },
  {
   "cell_type": "code",
   "execution_count": null,
   "id": "3c495ef5",
   "metadata": {},
   "outputs": [],
   "source": []
  },
  {
   "cell_type": "code",
   "execution_count": null,
   "id": "182b3967",
   "metadata": {},
   "outputs": [
    {
     "name": "stdout",
     "output_type": "stream",
     "text": [
      "\n",
      "The\n",
      " pricing\n",
      " is\n",
      " **\n",
      "$\n",
      "1\n",
      "0\n",
      "0\n",
      "0\n",
      "**.\n",
      "\n"
     ]
    }
   ],
   "source": []
  },
  {
   "cell_type": "code",
   "execution_count": null,
   "id": "0d793220",
   "metadata": {},
   "outputs": [
    {
     "name": "stderr",
     "output_type": "stream",
     "text": [
      "WARNING: All log messages before absl::InitializeLog() is called are written to STDERR\n",
      "I0000 00:00:1755243746.860232 11882628 check_gcp_environment_no_op.cc:29] ALTS: Platforms other than Linux and Windows are not supported\n"
     ]
    },
    {
     "data": {
      "text/plain": [
       "'The pricing of Ideta is 111111.'"
      ]
     },
     "metadata": {},
     "output_type": "display_data"
    }
   ],
   "source": []
  },
  {
   "cell_type": "code",
   "execution_count": null,
   "id": "270a003d",
   "metadata": {},
   "outputs": [
    {
     "ename": "KeyError",
     "evalue": "\"Unable to determine the intended type of the `dict`. For `Content`, a 'parts' key is expected. For `Part`, either an 'inline_data' or a 'text' key is expected. For `Blob`, both 'mime_type' and 'data' keys are expected. However, the provided dictionary has the following keys: ['functionCall']\"",
     "output_type": "error",
     "traceback": [
      "\u001b[0;31m---------------------------------------------------------------------------\u001b[0m\n",
      "\u001b[0;31mKeyError\u001b[0m                                  Traceback (most recent call last)\n",
      "Cell \u001b[0;32mIn[8], line 15\u001b[0m\n",
      "\u001b[1;32m      7\u001b[0m stream \u001b[38;5;241m=\u001b[39m \u001b[38;5;28;01mFalse\u001b[39;00m\n",
      "\u001b[1;32m      8\u001b[0m gModel \u001b[38;5;241m=\u001b[39m genai\u001b[38;5;241m.\u001b[39mGenerativeModel(\n",
      "\u001b[1;32m      9\u001b[0m     model_name\u001b[38;5;241m=\u001b[39mmodel,\n",
      "\u001b[1;32m     10\u001b[0m     system_instruction\u001b[38;5;241m=\u001b[39mprompt[\u001b[38;5;124m\"\u001b[39m\u001b[38;5;124msystem_instruction\u001b[39m\u001b[38;5;124m\"\u001b[39m],\n",
      "\u001b[0;32m   (...)\u001b[0m\n",
      "\u001b[1;32m     13\u001b[0m     )\n",
      "\u001b[1;32m     14\u001b[0m )\n",
      "\u001b[0;32m---> 15\u001b[0m response \u001b[38;5;241m=\u001b[39m \u001b[43mgModel\u001b[49m\u001b[38;5;241;43m.\u001b[39;49m\u001b[43mgenerate_content\u001b[49m\u001b[43m(\u001b[49m\u001b[43mprompt\u001b[49m\u001b[43m[\u001b[49m\u001b[38;5;124;43m'\u001b[39;49m\u001b[38;5;124;43mcontents\u001b[39;49m\u001b[38;5;124;43m'\u001b[39;49m\u001b[43m]\u001b[49m\u001b[43m,\u001b[49m\u001b[43m \u001b[49m\u001b[43mstream\u001b[49m\u001b[38;5;241;43m=\u001b[39;49m\u001b[43mstream\u001b[49m\u001b[43m)\u001b[49m\n",
      "\u001b[1;32m     16\u001b[0m response\u001b[38;5;241m.\u001b[39mtext\n",
      "\n",
      "File \u001b[0;32m~/miniforge3/envs/docAna/lib/python3.9/site-packages/google/generativeai/generative_models.py:305\u001b[0m, in \u001b[0;36mGenerativeModel.generate_content\u001b[0;34m(self, contents, generation_config, safety_settings, stream, tools, tool_config, request_options)\u001b[0m\n",
      "\u001b[1;32m    302\u001b[0m \u001b[38;5;28;01mif\u001b[39;00m \u001b[38;5;129;01mnot\u001b[39;00m contents:\n",
      "\u001b[1;32m    303\u001b[0m     \u001b[38;5;28;01mraise\u001b[39;00m \u001b[38;5;167;01mTypeError\u001b[39;00m(\u001b[38;5;124m\"\u001b[39m\u001b[38;5;124mcontents must not be empty\u001b[39m\u001b[38;5;124m\"\u001b[39m)\n",
      "\u001b[0;32m--> 305\u001b[0m request \u001b[38;5;241m=\u001b[39m \u001b[38;5;28;43mself\u001b[39;49m\u001b[38;5;241;43m.\u001b[39;49m\u001b[43m_prepare_request\u001b[49m\u001b[43m(\u001b[49m\n",
      "\u001b[1;32m    306\u001b[0m \u001b[43m    \u001b[49m\u001b[43mcontents\u001b[49m\u001b[38;5;241;43m=\u001b[39;49m\u001b[43mcontents\u001b[49m\u001b[43m,\u001b[49m\n",
      "\u001b[1;32m    307\u001b[0m \u001b[43m    \u001b[49m\u001b[43mgeneration_config\u001b[49m\u001b[38;5;241;43m=\u001b[39;49m\u001b[43mgeneration_config\u001b[49m\u001b[43m,\u001b[49m\n",
      "\u001b[1;32m    308\u001b[0m \u001b[43m    \u001b[49m\u001b[43msafety_settings\u001b[49m\u001b[38;5;241;43m=\u001b[39;49m\u001b[43msafety_settings\u001b[49m\u001b[43m,\u001b[49m\n",
      "\u001b[1;32m    309\u001b[0m \u001b[43m    \u001b[49m\u001b[43mtools\u001b[49m\u001b[38;5;241;43m=\u001b[39;49m\u001b[43mtools\u001b[49m\u001b[43m,\u001b[49m\n",
      "\u001b[1;32m    310\u001b[0m \u001b[43m    \u001b[49m\u001b[43mtool_config\u001b[49m\u001b[38;5;241;43m=\u001b[39;49m\u001b[43mtool_config\u001b[49m\u001b[43m,\u001b[49m\n",
      "\u001b[1;32m    311\u001b[0m \u001b[43m\u001b[49m\u001b[43m)\u001b[49m\n",
      "\u001b[1;32m    313\u001b[0m \u001b[38;5;28;01mif\u001b[39;00m request\u001b[38;5;241m.\u001b[39mcontents \u001b[38;5;129;01mand\u001b[39;00m \u001b[38;5;129;01mnot\u001b[39;00m request\u001b[38;5;241m.\u001b[39mcontents[\u001b[38;5;241m-\u001b[39m\u001b[38;5;241m1\u001b[39m]\u001b[38;5;241m.\u001b[39mrole:\n",
      "\u001b[1;32m    314\u001b[0m     request\u001b[38;5;241m.\u001b[39mcontents[\u001b[38;5;241m-\u001b[39m\u001b[38;5;241m1\u001b[39m]\u001b[38;5;241m.\u001b[39mrole \u001b[38;5;241m=\u001b[39m _USER_ROLE\n",
      "\n",
      "File \u001b[0;32m~/miniforge3/envs/docAna/lib/python3.9/site-packages/google/generativeai/generative_models.py:154\u001b[0m, in \u001b[0;36mGenerativeModel._prepare_request\u001b[0;34m(self, contents, generation_config, safety_settings, tools, tool_config)\u001b[0m\n",
      "\u001b[1;32m    151\u001b[0m \u001b[38;5;28;01melse\u001b[39;00m:\n",
      "\u001b[1;32m    152\u001b[0m     tool_config \u001b[38;5;241m=\u001b[39m content_types\u001b[38;5;241m.\u001b[39mto_tool_config(tool_config)\n",
      "\u001b[0;32m--> 154\u001b[0m contents \u001b[38;5;241m=\u001b[39m \u001b[43mcontent_types\u001b[49m\u001b[38;5;241;43m.\u001b[39;49m\u001b[43mto_contents\u001b[49m\u001b[43m(\u001b[49m\u001b[43mcontents\u001b[49m\u001b[43m)\u001b[49m\n",
      "\u001b[1;32m    156\u001b[0m generation_config \u001b[38;5;241m=\u001b[39m generation_types\u001b[38;5;241m.\u001b[39mto_generation_config_dict(generation_config)\n",
      "\u001b[1;32m    157\u001b[0m merged_gc \u001b[38;5;241m=\u001b[39m \u001b[38;5;28mself\u001b[39m\u001b[38;5;241m.\u001b[39m_generation_config\u001b[38;5;241m.\u001b[39mcopy()\n",
      "\n",
      "File \u001b[0;32m~/miniforge3/envs/docAna/lib/python3.9/site-packages/google/generativeai/types/content_types.py:288\u001b[0m, in \u001b[0;36mto_contents\u001b[0;34m(contents)\u001b[0m\n",
      "\u001b[1;32m    285\u001b[0m \u001b[38;5;28;01mif\u001b[39;00m \u001b[38;5;28misinstance\u001b[39m(contents, Iterable) \u001b[38;5;129;01mand\u001b[39;00m \u001b[38;5;129;01mnot\u001b[39;00m \u001b[38;5;28misinstance\u001b[39m(contents, (\u001b[38;5;28mstr\u001b[39m, Mapping)):\n",
      "\u001b[1;32m    286\u001b[0m     \u001b[38;5;28;01mtry\u001b[39;00m:\n",
      "\u001b[1;32m    287\u001b[0m         \u001b[38;5;66;03m# strict_to_content so [[parts], [parts]] doesn't assume roles.\u001b[39;00m\n",
      "\u001b[0;32m--> 288\u001b[0m         contents \u001b[38;5;241m=\u001b[39m [strict_to_content(c) \u001b[38;5;28;01mfor\u001b[39;00m c \u001b[38;5;129;01min\u001b[39;00m contents]\n",
      "\u001b[1;32m    289\u001b[0m         \u001b[38;5;28;01mreturn\u001b[39;00m contents\n",
      "\u001b[1;32m    290\u001b[0m     \u001b[38;5;28;01mexcept\u001b[39;00m \u001b[38;5;167;01mTypeError\u001b[39;00m:\n",
      "\u001b[1;32m    291\u001b[0m         \u001b[38;5;66;03m# If you get a TypeError here it's probably because that was a list\u001b[39;00m\n",
      "\u001b[1;32m    292\u001b[0m         \u001b[38;5;66;03m# of parts, not a list of contents, so fall back to `to_content`.\u001b[39;00m\n",
      "\n",
      "File \u001b[0;32m~/miniforge3/envs/docAna/lib/python3.9/site-packages/google/generativeai/types/content_types.py:288\u001b[0m, in \u001b[0;36m<listcomp>\u001b[0;34m(.0)\u001b[0m\n",
      "\u001b[1;32m    285\u001b[0m \u001b[38;5;28;01mif\u001b[39;00m \u001b[38;5;28misinstance\u001b[39m(contents, Iterable) \u001b[38;5;129;01mand\u001b[39;00m \u001b[38;5;129;01mnot\u001b[39;00m \u001b[38;5;28misinstance\u001b[39m(contents, (\u001b[38;5;28mstr\u001b[39m, Mapping)):\n",
      "\u001b[1;32m    286\u001b[0m     \u001b[38;5;28;01mtry\u001b[39;00m:\n",
      "\u001b[1;32m    287\u001b[0m         \u001b[38;5;66;03m# strict_to_content so [[parts], [parts]] doesn't assume roles.\u001b[39;00m\n",
      "\u001b[0;32m--> 288\u001b[0m         contents \u001b[38;5;241m=\u001b[39m [\u001b[43mstrict_to_content\u001b[49m\u001b[43m(\u001b[49m\u001b[43mc\u001b[49m\u001b[43m)\u001b[49m \u001b[38;5;28;01mfor\u001b[39;00m c \u001b[38;5;129;01min\u001b[39;00m contents]\n",
      "\u001b[1;32m    289\u001b[0m         \u001b[38;5;28;01mreturn\u001b[39;00m contents\n",
      "\u001b[1;32m    290\u001b[0m     \u001b[38;5;28;01mexcept\u001b[39;00m \u001b[38;5;167;01mTypeError\u001b[39;00m:\n",
      "\u001b[1;32m    291\u001b[0m         \u001b[38;5;66;03m# If you get a TypeError here it's probably because that was a list\u001b[39;00m\n",
      "\u001b[1;32m    292\u001b[0m         \u001b[38;5;66;03m# of parts, not a list of contents, so fall back to `to_content`.\u001b[39;00m\n",
      "\n",
      "File \u001b[0;32m~/miniforge3/envs/docAna/lib/python3.9/site-packages/google/generativeai/types/content_types.py:266\u001b[0m, in \u001b[0;36mstrict_to_content\u001b[0;34m(content)\u001b[0m\n",
      "\u001b[1;32m    264\u001b[0m \u001b[38;5;28;01mdef\u001b[39;00m \u001b[38;5;21mstrict_to_content\u001b[39m(content: StrictContentType):\n",
      "\u001b[1;32m    265\u001b[0m     \u001b[38;5;28;01mif\u001b[39;00m \u001b[38;5;28misinstance\u001b[39m(content, Mapping):\n",
      "\u001b[0;32m--> 266\u001b[0m         content \u001b[38;5;241m=\u001b[39m \u001b[43m_convert_dict\u001b[49m\u001b[43m(\u001b[49m\u001b[43mcontent\u001b[49m\u001b[43m)\u001b[49m\n",
      "\u001b[1;32m    268\u001b[0m     \u001b[38;5;28;01mif\u001b[39;00m \u001b[38;5;28misinstance\u001b[39m(content, protos\u001b[38;5;241m.\u001b[39mContent):\n",
      "\u001b[1;32m    269\u001b[0m         \u001b[38;5;28;01mreturn\u001b[39;00m content\n",
      "\n",
      "File \u001b[0;32m~/miniforge3/envs/docAna/lib/python3.9/site-packages/google/generativeai/types/content_types.py:125\u001b[0m, in \u001b[0;36m_convert_dict\u001b[0;34m(d)\u001b[0m\n",
      "\u001b[1;32m    123\u001b[0m     \u001b[38;5;28;01mif\u001b[39;00m \u001b[38;5;28misinstance\u001b[39m(parts \u001b[38;5;241m:=\u001b[39m content[\u001b[38;5;124m\"\u001b[39m\u001b[38;5;124mparts\u001b[39m\u001b[38;5;124m\"\u001b[39m], \u001b[38;5;28mstr\u001b[39m):\n",
      "\u001b[1;32m    124\u001b[0m         content[\u001b[38;5;124m\"\u001b[39m\u001b[38;5;124mparts\u001b[39m\u001b[38;5;124m\"\u001b[39m] \u001b[38;5;241m=\u001b[39m [parts]\n",
      "\u001b[0;32m--> 125\u001b[0m     content[\u001b[38;5;124m\"\u001b[39m\u001b[38;5;124mparts\u001b[39m\u001b[38;5;124m\"\u001b[39m] \u001b[38;5;241m=\u001b[39m [to_part(part) \u001b[38;5;28;01mfor\u001b[39;00m part \u001b[38;5;129;01min\u001b[39;00m content[\u001b[38;5;124m\"\u001b[39m\u001b[38;5;124mparts\u001b[39m\u001b[38;5;124m\"\u001b[39m]]\n",
      "\u001b[1;32m    126\u001b[0m     \u001b[38;5;28;01mreturn\u001b[39;00m protos\u001b[38;5;241m.\u001b[39mContent(content)\n",
      "\u001b[1;32m    127\u001b[0m \u001b[38;5;28;01melif\u001b[39;00m is_part_dict(d):\n",
      "\n",
      "File \u001b[0;32m~/miniforge3/envs/docAna/lib/python3.9/site-packages/google/generativeai/types/content_types.py:125\u001b[0m, in \u001b[0;36m<listcomp>\u001b[0;34m(.0)\u001b[0m\n",
      "\u001b[1;32m    123\u001b[0m     \u001b[38;5;28;01mif\u001b[39;00m \u001b[38;5;28misinstance\u001b[39m(parts \u001b[38;5;241m:=\u001b[39m content[\u001b[38;5;124m\"\u001b[39m\u001b[38;5;124mparts\u001b[39m\u001b[38;5;124m\"\u001b[39m], \u001b[38;5;28mstr\u001b[39m):\n",
      "\u001b[1;32m    124\u001b[0m         content[\u001b[38;5;124m\"\u001b[39m\u001b[38;5;124mparts\u001b[39m\u001b[38;5;124m\"\u001b[39m] \u001b[38;5;241m=\u001b[39m [parts]\n",
      "\u001b[0;32m--> 125\u001b[0m     content[\u001b[38;5;124m\"\u001b[39m\u001b[38;5;124mparts\u001b[39m\u001b[38;5;124m\"\u001b[39m] \u001b[38;5;241m=\u001b[39m [\u001b[43mto_part\u001b[49m\u001b[43m(\u001b[49m\u001b[43mpart\u001b[49m\u001b[43m)\u001b[49m \u001b[38;5;28;01mfor\u001b[39;00m part \u001b[38;5;129;01min\u001b[39;00m content[\u001b[38;5;124m\"\u001b[39m\u001b[38;5;124mparts\u001b[39m\u001b[38;5;124m\"\u001b[39m]]\n",
      "\u001b[1;32m    126\u001b[0m     \u001b[38;5;28;01mreturn\u001b[39;00m protos\u001b[38;5;241m.\u001b[39mContent(content)\n",
      "\u001b[1;32m    127\u001b[0m \u001b[38;5;28;01melif\u001b[39;00m is_part_dict(d):\n",
      "\n",
      "File \u001b[0;32m~/miniforge3/envs/docAna/lib/python3.9/site-packages/google/generativeai/types/content_types.py:209\u001b[0m, in \u001b[0;36mto_part\u001b[0;34m(part)\u001b[0m\n",
      "\u001b[1;32m    207\u001b[0m \u001b[38;5;28;01mdef\u001b[39;00m \u001b[38;5;21mto_part\u001b[39m(part: PartType):\n",
      "\u001b[1;32m    208\u001b[0m     \u001b[38;5;28;01mif\u001b[39;00m \u001b[38;5;28misinstance\u001b[39m(part, Mapping):\n",
      "\u001b[0;32m--> 209\u001b[0m         part \u001b[38;5;241m=\u001b[39m \u001b[43m_convert_dict\u001b[49m\u001b[43m(\u001b[49m\u001b[43mpart\u001b[49m\u001b[43m)\u001b[49m\n",
      "\u001b[1;32m    211\u001b[0m     \u001b[38;5;28;01mif\u001b[39;00m \u001b[38;5;28misinstance\u001b[39m(part, protos\u001b[38;5;241m.\u001b[39mPart):\n",
      "\u001b[1;32m    212\u001b[0m         \u001b[38;5;28;01mreturn\u001b[39;00m part\n",
      "\n",
      "File \u001b[0;32m~/miniforge3/envs/docAna/lib/python3.9/site-packages/google/generativeai/types/content_types.py:138\u001b[0m, in \u001b[0;36m_convert_dict\u001b[0;34m(d)\u001b[0m\n",
      "\u001b[1;32m    136\u001b[0m     \u001b[38;5;28;01mreturn\u001b[39;00m protos\u001b[38;5;241m.\u001b[39mBlob(blob)\n",
      "\u001b[1;32m    137\u001b[0m \u001b[38;5;28;01melse\u001b[39;00m:\n",
      "\u001b[0;32m--> 138\u001b[0m     \u001b[38;5;28;01mraise\u001b[39;00m \u001b[38;5;167;01mKeyError\u001b[39;00m(\n",
      "\u001b[1;32m    139\u001b[0m         \u001b[38;5;124m\"\u001b[39m\u001b[38;5;124mUnable to determine the intended type of the `dict`. \u001b[39m\u001b[38;5;124m\"\u001b[39m\n",
      "\u001b[1;32m    140\u001b[0m         \u001b[38;5;124m\"\u001b[39m\u001b[38;5;124mFor `Content`, a \u001b[39m\u001b[38;5;124m'\u001b[39m\u001b[38;5;124mparts\u001b[39m\u001b[38;5;124m'\u001b[39m\u001b[38;5;124m key is expected. \u001b[39m\u001b[38;5;124m\"\u001b[39m\n",
      "\u001b[1;32m    141\u001b[0m         \u001b[38;5;124m\"\u001b[39m\u001b[38;5;124mFor `Part`, either an \u001b[39m\u001b[38;5;124m'\u001b[39m\u001b[38;5;124minline_data\u001b[39m\u001b[38;5;124m'\u001b[39m\u001b[38;5;124m or a \u001b[39m\u001b[38;5;124m'\u001b[39m\u001b[38;5;124mtext\u001b[39m\u001b[38;5;124m'\u001b[39m\u001b[38;5;124m key is expected. \u001b[39m\u001b[38;5;124m\"\u001b[39m\n",
      "\u001b[1;32m    142\u001b[0m         \u001b[38;5;124m\"\u001b[39m\u001b[38;5;124mFor `Blob`, both \u001b[39m\u001b[38;5;124m'\u001b[39m\u001b[38;5;124mmime_type\u001b[39m\u001b[38;5;124m'\u001b[39m\u001b[38;5;124m and \u001b[39m\u001b[38;5;124m'\u001b[39m\u001b[38;5;124mdata\u001b[39m\u001b[38;5;124m'\u001b[39m\u001b[38;5;124m keys are expected. \u001b[39m\u001b[38;5;124m\"\u001b[39m\n",
      "\u001b[1;32m    143\u001b[0m         \u001b[38;5;124mf\u001b[39m\u001b[38;5;124m\"\u001b[39m\u001b[38;5;124mHowever, the provided dictionary has the following keys: \u001b[39m\u001b[38;5;132;01m{\u001b[39;00m\u001b[38;5;28mlist\u001b[39m(d\u001b[38;5;241m.\u001b[39mkeys())\u001b[38;5;132;01m}\u001b[39;00m\u001b[38;5;124m\"\u001b[39m\n",
      "\u001b[1;32m    144\u001b[0m     )\n",
      "\n",
      "\u001b[0;31mKeyError\u001b[0m: \"Unable to determine the intended type of the `dict`. For `Content`, a 'parts' key is expected. For `Part`, either an 'inline_data' or a 'text' key is expected. For `Blob`, both 'mime_type' and 'data' keys are expected. However, the provided dictionary has the following keys: ['functionCall']\""
     ]
    }
   ],
   "source": []
  },
  {
   "cell_type": "code",
   "execution_count": null,
   "id": "8bccc0c1",
   "metadata": {},
   "outputs": [],
   "source": []
  },
  {
   "cell_type": "code",
   "execution_count": 14,
   "id": "40f9b364",
   "metadata": {},
   "outputs": [
    {
     "data": {
      "text/plain": [
       "768"
      ]
     },
     "execution_count": 14,
     "metadata": {},
     "output_type": "execute_result"
    }
   ],
   "source": [
    "lst = [0.026738886,0.022671908,-0.012995392,0.01972112,0.029517777,0.01873635,-0.0047616367,-0.020096384,0.00076020596,-0.0015446171,-0.052036367,0.003818113,0.04215633,0.028021622,-0.0031521702,-0.08821357,0.021114381,0.04531569,-0.0912684,-0.08097323,-0.0767274,0.032757763,-0.046896163,0.042928807,-0.011858907,-0.062099487,0.042245433,0.00032493734,0.04591972,-0.053873427,-0.013145427,0.06416057,-0.010703841,-0.09063572,0.018226577,0.04855709,0.016568221,-0.015907917,0.013078129,-0.048223294,-0.04334592,0.024735488,-0.012382198,0.023149243,0.009031812,-0.039467383,-0.024628652,-0.051180113,0.0043608025,0.06508247,0.035527263,0.038360238,-0.048992336,0.048459947,-0.04855522,-0.008921562,0.035356253,-0.020704042,0.05167675,0.021415211,0.039808728,0.011025415,0.04797145,0.0015618195,0.07523741,-0.021107402,0.014817102,0.01485769,-0.04054645,-0.027066194,-0.011924776,-0.03079018,-0.038408756,0.026471382,0.010906256,-0.02960443,-0.047093797,0.07167543,0.025464205,0.025191274,-0.017825548,0.007140108,0.043978132,0.061204877,0.022466378,0.0069573065,-0.004166198,-0.049516186,-0.079551145,-0.011753912,0.110516615,0.004657417,-0.03371412,0.007883006,0.0335233,0.006288479,-0.12027231,-0.036815394,0.07257186,0.03564413,-0.022071095,-0.010023725,-6.5673376e-05,0.015495974,0.056351215,-0.028945867,-0.0475476,0.020993143,-0.072917074,0.087688714,0.01241328,-0.010438956,0.034371424,0.016582882,-0.05932892,-0.022577612,0.008051976,-0.015097165,0.038712822,-0.0142352125,0.07691495,0.03742868,-0.027003972,0.072422825,0.054281,0.014635933,0.044310715,0.0048118765,0.0014600024,-0.0143081015,0.020111457,-0.02926655,-0.015629442,0.020742424,-0.03535871,-0.04539486,0.005763553,0.08053273,0.008943287,-0.0072081885,-0.012064961,-0.011501831,-0.09741622,0.06766657,-0.0083704945,-0.031295683,0.014505311,0.026696194,-0.08647506,0.061365392,-0.08986368,-0.025609644,0.08126887,0.0055089323,0.01816982,-0.034442097,0.024101803,-0.039218403,-0.0038109624,-0.006036608,0.02373096,-0.011951371,0.054772846,0.013869676,-0.008867466,-0.030887533,-0.07477153,0.016958177,0.042794753,-0.08819712,-0.007679471,0.035899814,0.0059498935,0.009056997,-0.05378506,0.04264111,-0.053998776,-0.037038445,-0.09252272,0.0070104054,0.06101435,0.010387094,0.010389345,-0.024055742,0.026973516,0.007756474,-0.07075799,0.015006256,-0.034988027,0.08792283,-0.027124828,-0.051930726,-0.011321668,0.08267579,0.027488455,0.012025806,0.026410732,0.010063039,0.05184096,-0.011236277,0.026173756,-0.009619599,-0.027822835,-0.06699605,0.017927589,0.0050717727,-0.04255403,-0.004551219,-0.05171085,0.012161166,0.053212155,-0.009751421,-0.015367788,-0.07203861,0.051314652,0.02300997,0.0326249,-0.01674318,0.030370086,-0.049233917,0.014130314,0.00037956718,0.014260588,-0.014540732,-0.0048821806,0.003976412,-0.031859037,0.014035793,-0.05500396,-0.022451237,0.026168246,-0.033529397,-0.01930602,0.010877168,-0.04806217,0.047967065,0.0037182323,-0.024611078,-0.00299909,0.037565496,0.05268781,0.029504756,0.02249399,0.012661746,0.004626437,-0.0042653,0.020774543,-0.009494663,-0.0142285945,-0.06472143,0.028928068,0.03350403,-0.044652943,-0.003252153,-0.012738119,0.037745453,0.04345825,0.013135246,0.03801473,-0.013413192,0.028440678,-0.069541946,-0.04653229,0.01982341,-0.022306697,-0.10105111,0.022784272,-0.032837637,0.03719993,-0.03988415,0.024776302,0.0016480756,-0.041684456,-0.013038147,0.008876793,-0.019598968,-0.062486883,0.023103658,-0.07005763,-0.060260285,0.008083736,-0.009026882,0.013368702,-0.006708459,0.0031891738,-0.02509123,-0.052363664,0.0017992432,-0.03791385,-0.06317647,0.010585278,0.031680703,0.004695592,-0.011512774,0.0073910975,0.044698633,0.044340447,0.03664313,0.0653514,0.010035105,-0.0025954684,0.074316025,0.0370905,0.05815842,-0.03238834,0.0042449944,0.031514708,0.032298625,-0.00426207,-0.025100568,0.019391619,-0.024487877,-0.010206059,-0.014154535,-0.013236175,0.0025974028,-0.08456823,-0.011750823,-0.07519858,0.009913633,0.025045054,0.025587052,-0.025332833,0.010869287,0.06740074,-0.0023024639,-0.028136592,0.012644724,-0.0010737033,-0.03682173,0.026570695,-0.007943646,0.021875791,-0.030493429,0.022241209,0.04110627,-0.009276403,0.07539892,0.043714095,0.026439574,0.049331907,0.021065364,-0.0151869375,0.028831495,-0.021709152,-0.018395858,-0.0071105254,0.0020224997,0.008469397,0.006168224,0.0026992017,0.10691502,-0.02876249,0.05049767,-0.019253109,-0.003391017,0.003519195,0.001699832,0.063447066,-0.012407021,-0.025470503,0.021031635,0.0015047782,0.02981394,-0.01590705,-0.012656139,0.045315217,0.07022351,0.0024201607,0.011510525,-0.0052961227,0.018208664,0.03221414,-0.025391107,0.0035697496,-0.025062883,-0.0272283,0.012605096,-0.03850928,-0.031604514,-0.062028013,-0.019215152,0.01100722,-0.0036446545,-0.05388239,0.045763284,-0.04787665,-0.047111794,-0.0356481,0.014817938,-0.023779923,0.00870788,0.06520471,0.093452774,-0.016704775,0.056518953,0.005658874,-0.014445467,-0.012236077,0.03016297,-0.05233061,-0.047687344,0.02614441,-0.043951195,-0.0012940239,0.019693758,0.050785627,-0.0064282967,0.023497328,0.017393664,0.040307906,-0.045444127,-0.024601704,-0.007914234,-0.040098336,-0.046500176,-0.016960114,0.0032016376,0.013346219,0.04072886,0.0039938963,0.012289577,0.022212273,-0.012034677,0.056817032,-0.026016984,0.015326082,-0.03868331,-0.026763996,-0.025888098,0.046897627,-0.004796751,0.022253897,0.031482697,0.012479615,0.05479993,0.008559596,0.022533795,-0.041828282,0.036582038,-0.033616435,0.008349086,0.03701414,0.0407385,-0.017213678,0.029045576,0.014372043,-0.0023947877,-0.04558726,0.007972106,0.00043569875,0.017235283,-0.010432008,-0.06038722,-0.04733101,0.024897851,0.039935134,0.041613005,0.030209187,-0.005903461,0.0101020085,-0.06855438,0.06835781,-0.035243437,0.022300508,-0.00024846246,-0.03505341,0.007884922,0.020307932,-0.006686383,-0.024939945,0.029057553,0.049679946,0.03792273,-0.052894983,-0.00048731585,0.0014628533,0.007873249,-0.039192896,-0.007912244,-0.03150768,-0.019578455,-0.00936963,0.043115612,-0.005625304,-0.027540034,-0.001426401,-0.06554231,-0.014783519,-0.056181844,0.012806492,0.06551426,-0.0052929227,-0.024673432,-0.04907734,-0.037622772,0.032254525,0.011911556,-0.045145065,0.01569562,0.023643399,0.018423993,-0.03188622,-0.030529618,0.039040785,-0.010565189,-0.0027712344,-0.046325076,0.0341851,0.053135578,-0.0028868327,-0.0020974819,-0.015236572,-0.016235093,-0.010659342,0.034203935,0.011493916,-0.01476452,-0.00049176306,0.052791193,-0.015816415,-0.038234092,0.015491537,-0.031516008,-0.025748862,0.025176194,0.010951622,-0.023929352,-0.0020173767,-0.017861145,0.014359709,0.0534725,0.05589219,0.05437161,0.003537641,0.025237609,0.064538,0.016687002,0.014982725,0.02350645,0.024364049,0.052106153,-0.011096746,0.017722948,0.02626595,0.010574708,0.023982305,0.020892804,-0.03458885,0.021236477,0.009256869,-0.0118664745,0.02161985,-0.013089398,0.02662344,0.014821196,0.0015778723,0.0076702335,-0.02248251,-0.011037393,0.041680742,0.031508397,-0.0137097305,-0.014897791,-0.06963853,0.0064592566,0.006375885,0.09799272,-0.029945957,0.0026776346,0.023987778,-0.040996347,0.0041125156,0.0046137515,0.003072981,-0.03395035,-0.019712586,-0.02984518,0.056004792,0.021044172,0.043346263,0.06472889,0.07752205,0.017832384,0.06037747,-0.025320698,0.026289824,-0.010162884,0.011242274,-0.029969899,0.017707024,-0.025932008,-0.048699666,-0.035984892,0.030496126,-0.004579969,-0.018197844,-0.007993478,0.0045676534,0.048969887,-0.0009600681,0.0078962995,0.031545408,-0.0038393603,-0.045192454,-0.057382964,-0.030759733,-0.027988676,0.033079773,0.037365437,-0.037588414,0.042554867,-0.069553636,0.025713379,-0.07346382,-0.039683398,-0.058918796,-0.029213792,0.00061838696,-0.005188465,-0.016258284,0.006747499,0.02071475,-0.03191469,0.0068464326,0.023337195,0.005993419,0.02116742,-4.9819014e-06,-0.00856014,0.015982823,0.0019575946,0.02729093,-0.00033594467,0.010912229,0.0065460694,-0.0076361634,0.03755148,0.08331912,-0.045092713,-0.06649746,-0.07442439,0.060263447,0.034440994,-0.017412798,0.03950794,0.06506297,-0.02037842,0.039449014,-0.0019763731,0.017860183,0.06651378,-0.037491463,-0.0038089398,-0.05021615,-0.039673187,-0.045071818,0.050292913,0.0045337183,-0.0035695143,-0.001251081,-0.020346735,-0.040536713,0.041917782,-0.026972149,-0.033558317,-0.021972539,6.880397e-05,-0.004295022,-0.07137588,-0.023961455,-0.0450605,0.0028908225,-0.0003684438,-0.021724064,-0.017932303,-0.014227207,3.536773e-05,0.008820941,0.0350456,0.017881583,-0.064697176,0.04810308,-0.01177808,0.046880536,0.0366942,0.0016228029,-0.022815539,0.016291263,0.014072202,-0.018110046,0.006007268,-0.05361728,0.029514153,-0.016735317,0.05256474,0.003728822,0.035757955,0.009480135,-0.012569209,-0.03230621,-0.02617185,-0.045613393,-0.033531282,0.020813277,-0.001828326,0.035621785,-0.009030023,-0.024916671,0.016328983,-0.010234513,0.048374787,0.08925004,0.011691056,0.014350397,-0.0020534075,0.045900412,0.030360313,-0.004408365,0.08515703,0.024279203,0.02091857,0.044997726,0.04629058,0.012183221,0.033115145,-0.0149302585,-0.013795583,-0.0275031,0.0064926343,-0.0030186167,-0.028533606,-0.058525473,0.014808796,0.0023034639,0.041930642,0.002970557,-0.023209406,-0.028971333,0.008428645,0.025193948,-0.04785119,-0.0598143,-0.010912067,-0.0015637624,0.050387252,0.0045638867,-0.025419718,-0.01783001,-0.021773055,-0.028112933,-0.02859477,0.0142915845,0.01812169,0.005560915,-0.010101613,0.06569727,0.047744483,-0.020645542,0.031711943,-0.054745927,0.030920174,0.024463156,-0.03049279,-0.04949093,0.005855318,-0.008231174,-0.012885892]\n",
    "len(lst)"
   ]
  }
 ],
 "metadata": {
  "kernelspec": {
   "display_name": "docAna",
   "language": "python",
   "name": "python3"
  },
  "language_info": {
   "codemirror_mode": {
    "name": "ipython",
    "version": 3
   },
   "file_extension": ".py",
   "mimetype": "text/x-python",
   "name": "python",
   "nbconvert_exporter": "python",
   "pygments_lexer": "ipython3",
   "version": "3.9.19"
  }
 },
 "nbformat": 4,
 "nbformat_minor": 5
}
