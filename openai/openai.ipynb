{
 "cells": [
  {
   "cell_type": "code",
   "execution_count": 1,
   "metadata": {},
   "outputs": [],
   "source": [
    "from dotenv import load_dotenv\n",
    "import os\n",
    "load_dotenv()\n",
    "azure_api_key = os.getenv('AZURE_API_KEY')\n",
    "azure_endpoint= os.getenv('AZURE_ENDPOINT_4O')\n",
    "openai_api_key = os.getenv('OPENAI_API_KEY')\n",
    "import re"
   ]
  },
  {
   "cell_type": "code",
   "execution_count": 2,
   "metadata": {},
   "outputs": [],
   "source": [
    "import requests\n",
    "import json"
   ]
  },
  {
   "cell_type": "code",
   "execution_count": 3,
   "metadata": {},
   "outputs": [],
   "source": [
    "from openai import AzureOpenAI, OpenAI"
   ]
  },
  {
   "cell_type": "code",
   "execution_count": 7,
   "metadata": {},
   "outputs": [
    {
     "name": "stdout",
     "output_type": "stream",
     "text": [
      "6\n"
     ]
    }
   ],
   "source": [
    "# OpenAI stream\n",
    "stream=True\n",
    "openai_client = OpenAI(api_key=openai_api_key)\n",
    "completion = openai_client.chat.completions.create(\n",
    "    model='gpt-4o',\n",
    "    temperature=0.1,\n",
    "    # presence_penalty=presence_penalty,\n",
    "    messages=[\n",
    "      { 'role': 'system', 'content': 'You are a helpful assistant.' },\n",
    "      { 'role': 'user', 'content': 'Hello, who are you? Answer with 5 words only.' },\n",
    "    ],\n",
    "    stream=stream,\n",
    "    stream_options={\"include_usage\": True}\n",
    ")\n",
    "for chunk in completion:\n",
    "    # print(chunk.usage)\n",
    "    # if chunk.usage:\n",
    "    #     print(chunk.usage.completion_tokens)\n",
    "\n",
    "    # if not chunk.choices:\n",
    "    #     print(chunk)\n",
    "\n",
    "    if chunk.choices:\n",
    "        content = chunk.choices[0].delta.content or \"\"\n",
    "        # print(content)\n",
    "    else:\n",
    "        # infos = {\n",
    "        #     \"completionTokens\": chunk.usage.completion_tokens,\n",
    "        #     \"promptTokens\": chunk.usage.prompt_tokens\n",
    "        # }\n",
    "        # print(chunk.usage.completion_tokens)\n",
    "        chunk_tokens = getattr(chunk.usage, 'completion_tokens', None)\n",
    "        print(chunk_tokens)"
   ]
  },
  {
   "cell_type": "code",
   "execution_count": 9,
   "metadata": {},
   "outputs": [
    {
     "name": "stdout",
     "output_type": "stream",
     "text": [
      "I'm your helpful AI assistant.\n"
     ]
    }
   ],
   "source": [
    "# OpenAI no stream\n",
    "# OpenAI\n",
    "stream=False\n",
    "openai_client = OpenAI(api_key=openai_api_key)\n",
    "completion = openai_client.chat.completions.create(\n",
    "    model='gpt-4o',\n",
    "    temperature=0.1,\n",
    "    # presence_penalty=presence_penalty,\n",
    "    messages=[\n",
    "      { 'role': 'system', 'content': 'You are a helpful assistant.' },\n",
    "      { 'role': 'user', 'content': 'Hello, who are you? Answer with 5 words only.' },\n",
    "    ],\n",
    "    stream=stream,\n",
    "    stream_options={\"include_usage\": True} if stream else None\n",
    ")\n",
    "print(completion.choices[0].message.content)"
   ]
  },
  {
   "cell_type": "code",
   "execution_count": 12,
   "metadata": {},
   "outputs": [
    {
     "name": "stdout",
     "output_type": "stream",
     "text": [
      "azure_endpoint:  https://ideta-gpt4.openai.azure.com/openai/deployments/gpt-4o/chat/completions?api-version=2024-05-01-preview\n",
      "{'completionTokens': 0, 'promptTokens': 0}\n"
     ]
    }
   ],
   "source": [
    "# Azure\n",
    "infos = {\n",
    "    \"completionTokens\": 0,\n",
    "    \"promptTokens\": 0\n",
    "}\n",
    "print('azure_endpoint: ', azure_endpoint)\n",
    "azure_client = AzureOpenAI(api_version='2024-05-01-preview', api_key=azure_api_key, azure_endpoint=azure_endpoint)\n",
    "stream=True\n",
    "completion = azure_client.chat.completions.create(\n",
    "    model='gpt-4o',\n",
    "    temperature=0.1,\n",
    "    # presence_penalty=presence_penalty,\n",
    "    messages=[\n",
    "      { 'role': 'system', 'content': 'You are a helpful assistant.' },\n",
    "      { 'role': 'user', 'content': 'Hello, who are you? Answer with 5 words only.' },\n",
    "    ],\n",
    "    stream=stream,\n",
    "    # stream_options={\"include_usage\": True} if stream else None\n",
    "    stream_options={\"include_usage\": True}\n",
    ")\n",
    "for chunk in completion:\n",
    "    # print(chunk)\n",
    "    # print(chunk.usage)\n",
    "\n",
    "    if chunk.choices:\n",
    "        content = chunk.choices[0].delta.content or \"\"\n",
    "        # print(content)\n",
    "    else:\n",
    "        completion_tokens = getattr(chunk.usage, 'completion_tokens', infos.get('completionTokens', 0))\n",
    "        prompt_tokens = getattr(chunk.usage, 'prompt_tokens', infos.get('promptTokens', 0))\n",
    "        infos = {\n",
    "            \"completionTokens\": completion_tokens,\n",
    "            \"promptTokens\": prompt_tokens\n",
    "        }\n",
    "        print(infos)"
   ]
  },
  {
   "cell_type": "code",
   "execution_count": 4,
   "metadata": {},
   "outputs": [
    {
     "name": "stdout",
     "output_type": "stream",
     "text": [
      "azure_endpoint:  https://ideta-gpt4.openai.azure.com/openai/deployments/gpt-4o/chat/completions?api-version=2024-05-01-preview\n",
      "Quyển sách bạn đọc ở trường Giồng Ông Tố là \"Quẳng gánh lo đi và vui sống\" của Dale Carnegie.\n"
     ]
    }
   ],
   "source": [
    "# azure no stream\n",
    "print('azure_endpoint: ', azure_endpoint)\n",
    "azure_client = AzureOpenAI(api_version='2024-02-15-preview', api_key=azure_api_key, azure_endpoint=azure_endpoint)\n",
    "stream=False\n",
    "completion = azure_client.chat.completions.create(\n",
    "    model='gpt-4',\n",
    "    temperature=0.1,\n",
    "    presence_penalty=0.3,\n",
    "    messages=[{'role': 'system', 'content': 'You are an AI Assistant from Ideta Company.\\nHere is the information you must base your answer upon :\\n\\n\\n - link: https://v1.dinhanhthi.com/reading/quang-ganh-lo-di-va-vui-song/\\n   Toggle navigation Anh-Thi DINH(/) Explore(javascript:void(0)) Blog(/blog) Sketch(/sketch) Read(/reading) Status(/status) Projects(javascript:void(0)) Math2IT(http://math2it.com) Tôi Tự Học(https://toituhoc.xyz) About Me(/aboutme) (/) Đây là quyển sách tôi được tặng bởi cô giáo hướng dẫn thực tập sư phạm năm thứ 4, cô Ngọc. Hồi ấy tôi thực tập ở trường Giồng Ông Tố, Quận 2, Tp.HCM với nhiều áp lực và lo lắng. Có lẽ vì thế mà trong một lễ hội sách tổ chức cùng thời điểm ấy, cô Ngọc đã mua quyển sách và tặng cho tôi kèm dòng ghi chú “ Cô chúc em luôn mạnh khỏe và thành công trong cuộc sống lẫn sự nghiệp giáo dục của mình. ” Chính người ngoài cuộc như cô đã nhận thấy trong tôi chất chứa quá nhiều lo lắng và suy nghĩ. Cô đã tặng nó cho tôi vào quý 2-3 năm 2012 mà đến tận năm 2017, khi đã sang Pháp tôi mới chịu lấy ra đọc khi mà mình đủ chính chắn để nhận ra quyển sách thật sự cần thiết lúc này. Sách được viết bởi Dale Carnegie (1888-1955), tác giả của quyển Đắc Nhân Tâm ( How to win friends\\n - link: https://v1.dinhanhthi.com/reading/quang-ganh-lo-di-va-vui-song/\\n    , hay Sức mạnh thói quen(/suc-manh-cua-thoi-quen) là tác giả lồng ghép rất rất nhiều các câu chuyện và con người thực tế vào trong quyển sách. Cái tài tình của họ là ở chỗ họ đã đọc rất nhiều, biết rất rộng, tiếp xúc và nói chuyện với rất nhiều người. Sau đó họ tổng kết lại tất cả các câu chuyện liên quan đế n chủ đề quyển sách, sắp xếp lại chúng thành một tổng thể thống nhất có tính trước sau và vô cùng thuyết phục. Quyển QGLĐVVS sẽ cho bạn những ví dụ và phương pháp tuyệt vời giúp bạn giảm bớt và “quẳng” đi gánh lo của mình. Nó không phải là những lý thuyết sáo rỗng hay những lời nói mang tính giáo điều, nó là tập hợp những việc thật, người thật đã thành công trong việc chế ngự nỗi lo lắng của họ và có một cuộc sống hoàn toàn khác, vui vẻ hơn, yêu đời hơn và thành công hơn. Nói về phương pháp được nêu trong sách thì có lẽ không có quá nhiều điều mới nếu không muốn nói toàn là những phương pháp bạn đã từng biết hoặc từng cố gắng áp dụng để chế ngự nỗi lo lắng. Cái hay của sách là làm\\n - link: https://v1.dinhanhthi.com/reading/quang-ganh-lo-di-va-vui-song/\\n   g của họ và có một cuộc sống hoàn toàn khác, vui vẻ hơn, yêu đời hơn và thành công hơn. Nói về phương pháp được nêu trong sách thì có lẽ không có quá nhiều điều mới nếu không muốn nói toàn là những phương pháp bạn đã từng biết hoặc từng cố gắng áp dụng để chế ngự nỗi lo lắng. Cái hay của sách là làm nổi bậc chúng lên, sắp xếp lại một cách “ngăn nắp” và tạo cho bạn một cảm giác tin tưởng và có động lực thực hiện. Việc tóm tắt tác phẩm là không khó vì cuối mỗi chương, mỗi mục tác giả đều ghi lại rõ ràng, bằng một font chữ to và đóng khung phương pháp được nêu ra trong chương đấy. Tuy nhiên cái thần, cái cảm giác tin tưởng và động lực áp dụng các phương pháp ấy cho chính bản thân ta thì cần phải đọc nội dung của từng chương. Nếu là một người đang bế tắc trong cuộc sống, cần một động lực, niềm tin cũng như phương pháp để vượt qua tất cả chúng, hãy đọc QGLĐVVS của Dale Canergie. Xem tóm tắt Mục lục Những tóm tắt cuối chương trong sách(#nhng-tm-tt-cui-chng-trong-sch) Các nguyên tắc cơ bản để\\n - link: https://v1.dinhanhthi.com/reading/quang-ganh-lo-di-va-vui-song/\\n   i đọc nội dung của từng chương. Nếu là một người đang bế tắc trong cuộc sống, cần một động lực, niềm tin cũng như phương pháp để vượt qua tất cả chúng, hãy đọc QGLĐVVS của Dale Canergie. Xem tóm tắt Mục lục Những tóm tắt cuối chương trong sách(#nhng-tm-tt-cui-chng-trong-sch) Các nguyên tắc cơ bản để loại bỏ sự lo lắng.(#cc-nguyn-tc-c-bn--loi-b-s-lo-lng) Phương pháp phân tích và giải quyết sự lo lắng(#phng-php-phn-tch-v-gii-quyt-s-lo-lng) Phá bỏ thói quen lo lắng trước khi sự lo lắng tàn phá chúng ta(#ph-b-thi-quen-lo-lng-trc-khi-s-lo-lng-tn-ph-chng-ta) 7 cách luyện tinh thần để sống thanh thản và hạnh phúc(#cch-luyn-tinh-thn--sng-thanh-thn-v-hnh-phc) Gạt bỏ nỗi lo bị chỉ trích(#gt-b-ni-lo-b-ch-trch) Sáu cách tránh mệt mỏi và lo lắng, đồng thời nâng cao tinh thần và sức lực(#su-cch-trnh-mt-mi-v-lo-lng-ng-thi-nng-cao-tinh-thn-v-sc-lc) Những highlights của tôi(#nhng-highlights-ca-ti) Các nguyên tắc cơ bản để loại bỏ sự lo lắng.(#cc-nguyn-tc-c-bn--loi-b-s-lo-lng-1) Phương pháp phân tích và\\n - link: https://v1.dinhanhthi.com/reading/quang-ganh-lo-di-va-vui-song/\\n   u lo lắng và suy nghĩ. Cô đã tặng nó cho tôi vào quý 2-3 năm 2012 mà đến tận năm 2017, khi đã sang Pháp tôi mới chịu lấy ra đọc khi mà mình đủ chính chắn để nhận ra quyển sách thật sự cần thiết lúc này. Sách được viết bởi Dale Carnegie (1888-1955), tác giả của quyển Đắc Nhân Tâm ( How to win friends and influence people ) vốn rất nổi tiếng từ xưa đến nay. Ông là một nhà văn, người viết sách, giảng dạy các lớp học về kỹ năng mềm rất nổi tiếng ở Mỹ thời của ông. Quyển Quẳng gánh lo đi và vui sống này, với tên gốc là “ How to stop worrying and start living ” cũng được viết với cùng phong cách ấy. Có một điểm chung khi tôi đọc các sách phong cách truyền cảm hứng như quyển này, quyển Đắc nhân tâm , hay Sức mạnh thói quen(/suc-manh-cua-thoi-quen) là tác giả lồng ghép rất rất nhiều các câu chuyện và con người thực tế vào trong quyển sách. Cái tài tình của họ là ở chỗ họ đã đọc rất nhiều, biết rất rộng, tiếp xúc và nói chuyện với rất nhiều người. Sau đó họ tổng kết lại tất cả các câu chuyện li'}, {'role': 'user', 'content': 'quyển sách tôi đọc ở trường giồng ông tố là gì?'}],\n",
    "    stream=False,\n",
    "    stream_options=None # with this, some endpoint makes server stuck\n",
    ")\n",
    "# print(completion)\n",
    "print(completion.choices[0].message.content)\n",
    "# print(completion.usage.completion_tokens)"
   ]
  },
  {
   "cell_type": "code",
   "execution_count": null,
   "metadata": {},
   "outputs": [],
   "source": [
    "quyển sách tôi đọc ở trường giồng ông tố là gì?"
   ]
  }
 ],
 "metadata": {
  "kernelspec": {
   "display_name": "docAna",
   "language": "python",
   "name": "python3"
  },
  "language_info": {
   "codemirror_mode": {
    "name": "ipython",
    "version": 3
   },
   "file_extension": ".py",
   "mimetype": "text/x-python",
   "name": "python",
   "nbconvert_exporter": "python",
   "pygments_lexer": "ipython3",
   "version": "3.9.19"
  }
 },
 "nbformat": 4,
 "nbformat_minor": 2
}
