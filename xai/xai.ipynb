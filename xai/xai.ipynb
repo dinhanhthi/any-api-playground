{
 "cells": [
  {
   "cell_type": "code",
   "execution_count": 1,
   "metadata": {},
   "outputs": [],
   "source": [
    "from dotenv import load_dotenv\n",
    "import os\n",
    "load_dotenv()\n",
    "xai_base_url = os.getenv('XAI_BASE_URL')\n",
    "xai_api_key= os.getenv('XAI_API_KEY')\n",
    "import re"
   ]
  },
  {
   "cell_type": "code",
   "execution_count": 3,
   "metadata": {},
   "outputs": [],
   "source": [
    "import requests\n",
    "import json"
   ]
  },
  {
   "cell_type": "code",
   "execution_count": 2,
   "metadata": {},
   "outputs": [],
   "source": [
    "from openai import OpenAI"
   ]
  },
  {
   "cell_type": "code",
   "execution_count": 6,
   "metadata": {},
   "outputs": [
    {
     "name": "stdout",
     "output_type": "stream",
     "text": [
      "ChatCompletionChunk(id='b720951d-9976-bdef-8169-9a02e786f018_us-east-1', choices=[Choice(delta=ChoiceDelta(content=\"I'm\", function_call=None, refusal=None, role='assistant', tool_calls=None), finish_reason=None, index=0, logprobs=None)], created=1755270444, model='grok-3', object='chat.completion.chunk', service_tier=None, system_fingerprint='fp_0d42a4eb3d', usage=None)\n",
      "ChatCompletionChunk(id='b720951d-9976-bdef-8169-9a02e786f018_us-east-1', choices=[Choice(delta=ChoiceDelta(content=' Gro', function_call=None, refusal=None, role=None, tool_calls=None), finish_reason=None, index=0, logprobs=None)], created=1755270444, model='grok-3', object='chat.completion.chunk', service_tier=None, system_fingerprint='fp_0d42a4eb3d', usage=None)\n",
      "ChatCompletionChunk(id='b720951d-9976-bdef-8169-9a02e786f018_us-east-1', choices=[Choice(delta=ChoiceDelta(content='k', function_call=None, refusal=None, role=None, tool_calls=None), finish_reason=None, index=0, logprobs=None)], created=1755270444, model='grok-3', object='chat.completion.chunk', service_tier=None, system_fingerprint='fp_0d42a4eb3d', usage=None)\n",
      "ChatCompletionChunk(id='b720951d-9976-bdef-8169-9a02e786f018_us-east-1', choices=[Choice(delta=ChoiceDelta(content=',', function_call=None, refusal=None, role=None, tool_calls=None), finish_reason=None, index=0, logprobs=None)], created=1755270444, model='grok-3', object='chat.completion.chunk', service_tier=None, system_fingerprint='fp_0d42a4eb3d', usage=None)\n",
      "ChatCompletionChunk(id='b720951d-9976-bdef-8169-9a02e786f018_us-east-1', choices=[Choice(delta=ChoiceDelta(content=' your', function_call=None, refusal=None, role=None, tool_calls=None), finish_reason=None, index=0, logprobs=None)], created=1755270444, model='grok-3', object='chat.completion.chunk', service_tier=None, system_fingerprint='fp_0d42a4eb3d', usage=None)\n",
      "ChatCompletionChunk(id='b720951d-9976-bdef-8169-9a02e786f018_us-east-1', choices=[Choice(delta=ChoiceDelta(content=' helpful', function_call=None, refusal=None, role=None, tool_calls=None), finish_reason=None, index=0, logprobs=None)], created=1755270444, model='grok-3', object='chat.completion.chunk', service_tier=None, system_fingerprint='fp_0d42a4eb3d', usage=None)\n",
      "ChatCompletionChunk(id='b720951d-9976-bdef-8169-9a02e786f018_us-east-1', choices=[Choice(delta=ChoiceDelta(content=' assistant', function_call=None, refusal=None, role=None, tool_calls=None), finish_reason=None, index=0, logprobs=None)], created=1755270444, model='grok-3', object='chat.completion.chunk', service_tier=None, system_fingerprint='fp_0d42a4eb3d', usage=None)\n",
      "ChatCompletionChunk(id='b720951d-9976-bdef-8169-9a02e786f018_us-east-1', choices=[Choice(delta=ChoiceDelta(content='!', function_call=None, refusal=None, role=None, tool_calls=None), finish_reason=None, index=0, logprobs=None)], created=1755270444, model='grok-3', object='chat.completion.chunk', service_tier=None, system_fingerprint='fp_0d42a4eb3d', usage=None)\n",
      "ChatCompletionChunk(id='b720951d-9976-bdef-8169-9a02e786f018_us-east-1', choices=[Choice(delta=ChoiceDelta(content=None, function_call=None, refusal=None, role=None, tool_calls=None), finish_reason='stop', index=0, logprobs=None)], created=1755270444, model='grok-3', object='chat.completion.chunk', service_tier=None, system_fingerprint='fp_0d42a4eb3d', usage=None)\n"
     ]
    },
    {
     "ename": "IndexError",
     "evalue": "list index out of range",
     "output_type": "error",
     "traceback": [
      "\u001b[0;31m---------------------------------------------------------------------------\u001b[0m",
      "\u001b[0;31mIndexError\u001b[0m                                Traceback (most recent call last)",
      "Cell \u001b[0;32mIn[6], line 26\u001b[0m\n\u001b[1;32m      4\u001b[0m completion \u001b[38;5;241m=\u001b[39m openai_client\u001b[38;5;241m.\u001b[39mchat\u001b[38;5;241m.\u001b[39mcompletions\u001b[38;5;241m.\u001b[39mcreate(\n\u001b[1;32m      5\u001b[0m     model\u001b[38;5;241m=\u001b[39m\u001b[38;5;124m'\u001b[39m\u001b[38;5;124mgrok-3\u001b[39m\u001b[38;5;124m'\u001b[39m,\n\u001b[1;32m      6\u001b[0m     temperature\u001b[38;5;241m=\u001b[39m\u001b[38;5;241m0.1\u001b[39m,\n\u001b[0;32m   (...)\u001b[0m\n\u001b[1;32m     14\u001b[0m     stream_options\u001b[38;5;241m=\u001b[39m{\u001b[38;5;124m\"\u001b[39m\u001b[38;5;124minclude_usage\u001b[39m\u001b[38;5;124m\"\u001b[39m: \u001b[38;5;28;01mTrue\u001b[39;00m} \u001b[38;5;28;01mif\u001b[39;00m stream \u001b[38;5;28;01melse\u001b[39;00m \u001b[38;5;28;01mNone\u001b[39;00m\n\u001b[1;32m     15\u001b[0m )\n\u001b[1;32m     16\u001b[0m \u001b[38;5;28;01mfor\u001b[39;00m chunk \u001b[38;5;129;01min\u001b[39;00m completion:\n\u001b[1;32m     17\u001b[0m     \u001b[38;5;66;03m# print(chunk.usage)\u001b[39;00m\n\u001b[1;32m     18\u001b[0m     \u001b[38;5;66;03m# if chunk.usage:\u001b[39;00m\n\u001b[0;32m   (...)\u001b[0m\n\u001b[1;32m     23\u001b[0m \n\u001b[1;32m     24\u001b[0m     \u001b[38;5;66;03m# print(chunk.choices[0].finish_reason)\u001b[39;00m\n\u001b[0;32m---> 26\u001b[0m     \u001b[38;5;28;01mif\u001b[39;00m \u001b[43mchunk\u001b[49m\u001b[38;5;241;43m.\u001b[39;49m\u001b[43mchoices\u001b[49m\u001b[43m[\u001b[49m\u001b[38;5;241;43m0\u001b[39;49m\u001b[43m]\u001b[49m\u001b[38;5;241m.\u001b[39mfinish_reason \u001b[38;5;241m!=\u001b[39m \u001b[38;5;124m\"\u001b[39m\u001b[38;5;124mstop\u001b[39m\u001b[38;5;124m\"\u001b[39m:\n\u001b[1;32m     27\u001b[0m         content \u001b[38;5;241m=\u001b[39m chunk\u001b[38;5;241m.\u001b[39mchoices[\u001b[38;5;241m0\u001b[39m]\u001b[38;5;241m.\u001b[39mdelta\u001b[38;5;241m.\u001b[39mcontent \u001b[38;5;129;01mor\u001b[39;00m \u001b[38;5;124m\"\u001b[39m\u001b[38;5;124m\"\u001b[39m\n\u001b[1;32m     28\u001b[0m         \u001b[38;5;66;03m# print(content)\u001b[39;00m\n",
      "\u001b[0;31mIndexError\u001b[0m: list index out of range"
     ]
    }
   ],
   "source": [
    "stream=True\n",
    "\n",
    "openai_client = OpenAI(api_key=xai_api_key, base_url=xai_base_url)\n",
    "completion = openai_client.chat.completions.create(\n",
    "    model='grok-3',\n",
    "    temperature=0.1,\n",
    "    # presence_penalty=presence_penalty,\n",
    "    messages=[\n",
    "      { 'role': 'system', 'content': 'You are a helpful assistant.' },\n",
    "      { 'role': 'user', 'content': 'Hello, who are you? Answer with 5 words only.' },\n",
    "    #   { 'role': 'user', 'content': 'Count from 1 to 30, separated by commas.' },\n",
    "    ],\n",
    "    stream=stream,\n",
    "    stream_options={\"include_usage\": True} if stream else None\n",
    ")\n",
    "for chunk in completion:\n",
    "    # print(chunk.usage)\n",
    "    # if chunk.usage:\n",
    "    #     print(chunk.usage.completion_tokens)\n",
    "\n",
    "    # if not chunk.choices:\n",
    "    #     print(chunk)\n",
    "\n",
    "    # print(chunk.choices[0].finish_reason)\n",
    "\n",
    "    if chunk.choices[0].finish_reason != \"stop\":\n",
    "        content = chunk.choices[0].delta.content or \"\"\n",
    "        # print(content)\n",
    "        print(chunk)\n",
    "    else:\n",
    "        # infos = {\n",
    "        #     \"completionTokens\": chunk.usage.completion_tokens,\n",
    "        #     \"promptTokens\": chunk.usage.prompt_tokens\n",
    "        # }\n",
    "        print(chunk)\n",
    "        # print(chunk.usage.completion_tokens)\n",
    "        # print(chunk.usage.prompt_tokens)\n",
    "        # chunk_tokens = getattr(chunk.usage, 'completion_tokens', None)\n",
    "        # print(chunk_tokens)\n",
    "        pass"
   ]
  },
  {
   "cell_type": "code",
   "execution_count": 10,
   "metadata": {},
   "outputs": [
    {
     "name": "stdout",
     "output_type": "stream",
     "text": [
      "Why\n",
      " don't\n",
      " skeletons\n",
      " fight\n",
      "?\n",
      " They\n",
      " don't\n",
      " have\n",
      " guts\n",
      "!\n",
      "chunk.usage.completion_tokens: 10\n",
      "chunk.usage.prompt_tokens: 26\n"
     ]
    }
   ],
   "source": [
    "import os\n",
    "from openai import OpenAI\n",
    "\n",
    "# Initialize the client with Grok API\n",
    "client = OpenAI(\n",
    "    api_key=xai_api_key,\n",
    "    base_url=xai_base_url\n",
    ")\n",
    "\n",
    "# Make a streaming API call\n",
    "response = client.chat.completions.create(\n",
    "    model=\"grok-3\",\n",
    "    messages=[\n",
    "        {\"role\": \"system\", \"content\": \"You are a helpful assistant.\"},\n",
    "        {\"role\": \"user\", \"content\": \"Tell me a joke with maximum 10 words.\"}\n",
    "    ],\n",
    "    stream=True,\n",
    "    stream_options={\"include_usage\": True}\n",
    ")\n",
    "\n",
    "# Process the stream\n",
    "for chunk in response:\n",
    "    if chunk.choices and chunk.choices[0].delta.content is not None:\n",
    "        print(chunk.choices[0].delta.content, end=\"\\n\")  # Print streamed content\n",
    "    elif chunk.usage:\n",
    "        # print(\"\\n\\nToken Usage:\", chunk.usage)  # Print usage from the final chunk\n",
    "        print(f'chunk.usage.completion_tokens: {chunk.usage.completion_tokens}')\n",
    "        print(f'chunk.usage.prompt_tokens: {chunk.usage.prompt_tokens}')"
   ]
  },
  {
   "cell_type": "code",
   "execution_count": 3,
   "metadata": {},
   "outputs": [
    {
     "name": "stdout",
     "output_type": "stream",
     "text": [
      "completion.choices[0].message.content: I'm Grok, your helpful assistant.\n",
      "completion.usage.prompt_tokens: 29\n",
      "completion.usage.completion_tokens: 8\n"
     ]
    }
   ],
   "source": [
    "# OpenAI no stream\n",
    "# OpenAI\n",
    "stream=False\n",
    "openai_client = OpenAI(api_key=xai_api_key, base_url=xai_base_url)\n",
    "completion = openai_client.chat.completions.create(\n",
    "    model='grok-3',\n",
    "    temperature=0.1,\n",
    "    # presence_penalty=presence_penalty,\n",
    "    messages=[\n",
    "      { 'role': 'system', 'content': 'You are a helpful assistant.' },\n",
    "      { 'role': 'user', 'content': 'Hello, who are you? Answer with 5 words only.' },\n",
    "    ],\n",
    "    stream=stream,\n",
    "    stream_options={\"include_usage\": True} if stream else None\n",
    ")\n",
    "print(f\"completion.choices[0].message.content: {completion.choices[0].message.content}\")\n",
    "print(f\"completion.usage.prompt_tokens: {completion.usage.prompt_tokens}\")\n",
    "print(f\"completion.usage.completion_tokens: {completion.usage.completion_tokens}\")"
   ]
  },
  {
   "cell_type": "code",
   "execution_count": null,
   "metadata": {},
   "outputs": [],
   "source": []
  }
 ],
 "metadata": {
  "kernelspec": {
   "display_name": "docAna",
   "language": "python",
   "name": "python3"
  },
  "language_info": {
   "codemirror_mode": {
    "name": "ipython",
    "version": 3
   },
   "file_extension": ".py",
   "mimetype": "text/x-python",
   "name": "python",
   "nbconvert_exporter": "python",
   "pygments_lexer": "ipython3",
   "version": "3.9.19"
  }
 },
 "nbformat": 4,
 "nbformat_minor": 2
}
