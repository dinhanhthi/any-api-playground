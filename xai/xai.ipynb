{
 "cells": [
  {
   "cell_type": "code",
   "execution_count": 2,
   "metadata": {},
   "outputs": [],
   "source": [
    "from dotenv import load_dotenv\n",
    "import os\n",
    "load_dotenv()\n",
    "xai_base_url = os.getenv('XAI_BASE_URL')\n",
    "xai_api_key= os.getenv('XAI_API_KEY')\n",
    "import re"
   ]
  },
  {
   "cell_type": "code",
   "execution_count": 3,
   "metadata": {},
   "outputs": [],
   "source": [
    "import requests\n",
    "import json"
   ]
  },
  {
   "cell_type": "code",
   "execution_count": 4,
   "metadata": {},
   "outputs": [],
   "source": [
    "from openai import OpenAI"
   ]
  },
  {
   "cell_type": "code",
   "execution_count": 19,
   "metadata": {},
   "outputs": [
    {
     "name": "stdout",
     "output_type": "stream",
     "text": [
      "I\n",
      " am\n",
      " your\n",
      " helpful\n",
      " assistant\n",
      ".\n",
      "7\n",
      "29\n"
     ]
    }
   ],
   "source": [
    "stream=True\n",
    "openai_client = OpenAI(api_key=xai_api_key, base_url=xai_base_url)\n",
    "completion = openai_client.chat.completions.create(\n",
    "    model='grok-beta',\n",
    "    temperature=0.1,\n",
    "    # presence_penalty=presence_penalty,\n",
    "    messages=[\n",
    "      { 'role': 'system', 'content': 'You are a helpful assistant.' },\n",
    "      { 'role': 'user', 'content': 'Hello, who are you? Answer with 5 words only.' },\n",
    "    #   { 'role': 'user', 'content': 'Count from 1 to 30, separated by commas.' },\n",
    "    ],\n",
    "    stream=stream,\n",
    "    stream_options={\"include_usage\": True}\n",
    ")\n",
    "for chunk in completion:\n",
    "    # print(chunk.usage)\n",
    "    # if chunk.usage:\n",
    "    #     print(chunk.usage.completion_tokens)\n",
    "\n",
    "    # if not chunk.choices:\n",
    "    #     print(chunk)\n",
    "\n",
    "    # print(chunk.choices[0].finish_reason)\n",
    "\n",
    "    if chunk.choices[0].finish_reason != \"stop\":\n",
    "        content = chunk.choices[0].delta.content or \"\"\n",
    "        print(content)\n",
    "    else:\n",
    "        # infos = {\n",
    "        #     \"completionTokens\": chunk.usage.completion_tokens,\n",
    "        #     \"promptTokens\": chunk.usage.prompt_tokens\n",
    "        # }\n",
    "        print(chunk.usage.completion_tokens)\n",
    "        print(chunk.usage.prompt_tokens)\n",
    "        # chunk_tokens = getattr(chunk.usage, 'completion_tokens', None)\n",
    "        # print(chunk_tokens)\n",
    "        pass"
   ]
  },
  {
   "cell_type": "code",
   "execution_count": 8,
   "metadata": {},
   "outputs": [
    {
     "name": "stdout",
     "output_type": "stream",
     "text": [
      "ChatCompletion(id='63e7a03e-05d8-46e4-a4f0-2eb03cb4c2d0', choices=[Choice(finish_reason='stop', index=0, logprobs=None, message=ChatCompletionMessage(content='I am your helpful assistant.', refusal=None, role='assistant', function_call=None, tool_calls=None))], created=1730144070, model='grok-beta', object='chat.completion', service_tier=None, system_fingerprint='fp_15c3499eda', usage=CompletionUsage(completion_tokens=7, prompt_tokens=29, total_tokens=36))\n"
     ]
    }
   ],
   "source": [
    "# OpenAI no stream\n",
    "# OpenAI\n",
    "stream=False\n",
    "openai_client = OpenAI(api_key=xai_api_key, base_url=xai_base_url)\n",
    "completion = openai_client.chat.completions.create(\n",
    "    model='grok-beta',\n",
    "    temperature=0.1,\n",
    "    # presence_penalty=presence_penalty,\n",
    "    messages=[\n",
    "      { 'role': 'system', 'content': 'You are a helpful assistant.' },\n",
    "      { 'role': 'user', 'content': 'Hello, who are you? Answer with 5 words only.' },\n",
    "    ],\n",
    "    stream=stream,\n",
    "    stream_options={\"include_usage\": True} if stream else None\n",
    ")\n",
    "# print(completion.choices[0].message.content)\n",
    "print(completion)"
   ]
  },
  {
   "cell_type": "code",
   "execution_count": null,
   "metadata": {},
   "outputs": [],
   "source": []
  }
 ],
 "metadata": {
  "kernelspec": {
   "display_name": "docAna",
   "language": "python",
   "name": "python3"
  },
  "language_info": {
   "codemirror_mode": {
    "name": "ipython",
    "version": 3
   },
   "file_extension": ".py",
   "mimetype": "text/x-python",
   "name": "python",
   "nbconvert_exporter": "python",
   "pygments_lexer": "ipython3",
   "version": "3.9.19"
  }
 },
 "nbformat": 4,
 "nbformat_minor": 2
}
