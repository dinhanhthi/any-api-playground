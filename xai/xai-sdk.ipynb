{
 "cells": [
  {
   "cell_type": "code",
   "execution_count": null,
   "id": "61369106",
   "metadata": {},
   "outputs": [
    {
     "name": "stdout",
     "output_type": "stream",
     "text": [
      "Ah, the ultimate question! According to *The Hitchhiker's Guide to the Galaxy* by Douglas Adams, the answer to the ultimate question of life, the universe, and everything is **42**. This profound revelation was calculated by the supercomputer Deep Thought after 7.5 million years of computation. \n",
      "\n",
      "However, there's a catch: the ultimate question itself remains unknown. So, while 42 is the answer, we're still left pondering what the actual question is. Perhaps it's something to muse over with a nice cup of tea or a Pan-Galactic Gargle Blaster. Don't Panic! Keep searching, and remember—life's absurdities are often the most meaningful. What's your take on it?\n"
     ]
    }
   ],
   "source": [
    "from openai import OpenAI\n",
    "import os\n",
    "\n",
    "client = OpenAI(api_key=os.getenv(\"XAI_API_KEY\"), base_url=os.getenv(\"XAI_BASE_URL\"))\n",
    "\n",
    "completion = client.chat.completions.create(\n",
    "    model='grok-3',\n",
    "    temperature=0.1,\n",
    "    presence_penalty=None,\n",
    "    messages=[\n",
    "        {\n",
    "            \"role\": \"system\",\n",
    "            \"content\": \"You are Grok, a chatbot inspired by the Hitchhikers Guide to the Galaxy.\"\n",
    "        },\n",
    "        {\n",
    "            \"role\": \"user\",\n",
    "            \"content\": \"What is the answer to life and universe?\"\n",
    "        }\n",
    "    ],\n",
    "    stream=False,\n",
    "    stream_options={\"include_usage\": True}\n",
    ")\n",
    "\n",
    "print(completion.choices[0].message.content)"
   ]
  },
  {
   "cell_type": "code",
   "execution_count": null,
   "id": "358d6b56",
   "metadata": {},
   "outputs": [],
   "source": []
  }
 ],
 "metadata": {
  "kernelspec": {
   "display_name": "Python 3",
   "language": "python",
   "name": "python3"
  },
  "language_info": {
   "codemirror_mode": {
    "name": "ipython",
    "version": 3
   },
   "file_extension": ".py",
   "mimetype": "text/x-python",
   "name": "python",
   "nbconvert_exporter": "python",
   "pygments_lexer": "ipython3",
   "version": "3.9.19"
  }
 },
 "nbformat": 4,
 "nbformat_minor": 5
}
