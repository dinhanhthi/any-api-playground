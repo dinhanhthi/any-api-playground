{
 "cells": [
  {
   "cell_type": "code",
   "execution_count": 3,
   "metadata": {},
   "outputs": [],
   "source": [
    "from dotenv import load_dotenv\n",
    "import os\n",
    "import re\n",
    "import requests\n",
    "import json"
   ]
  },
  {
   "cell_type": "code",
   "execution_count": 2,
   "metadata": {},
   "outputs": [],
   "source": [
    "load_dotenv()\n",
    "brain_domain = os.getenv('BRAIN_DOMAIN')\n",
    "brain_auth_endpoint = os.getenv('BRAIN_AUTH_ENDPOINT')\n",
    "brain_endpoint_chatbot = os.getenv('BRAIN_ENDPOINT_CHATBOT')\n",
    "brain_endpoint_init = os.getenv('BRAIN_ENDPOINT_INIT')\n",
    "brain_softlaw_client_id = os.getenv('BRAIN_SOFTLAW_CLIENT_ID')\n",
    "brain_external_user_id = os.getenv('BRAIN_EXTERNAL_USER_ID')\n",
    "brain_client_id = os.getenv('BRAIN_CLIENT_ID')\n",
    "brain_client_secret = os.getenv('BRAIN_CLIENT_SECRET')\n",
    "brain_pop_buri = os.getenv('BRAIN_POP_URI')\n",
    "brain_space_id = os.getenv('BRAIN_SPACE_ID')\n"
   ]
  },
  {
   "cell_type": "code",
   "execution_count": 23,
   "metadata": {},
   "outputs": [
    {
     "name": "stdout",
     "output_type": "stream",
     "text": [
      "token:  PoP eyJhbGciOiJSUzI1NiIsImtpZCI6IjdUTWtNRm1fQ01iMFNBbzRXalFQWktRSnEtNDNRYkxFWlhHOW9hWjg1QlkiLCJ0eXAiOiJwb3AifQ.eyJjbmYiOnsiandrIjp7ImUiOiJBUUFCIiwia3R5IjoiUlNBIiwibiI6IjF1c0psbm9IWUJ1SlNBZWJHa05LcmRZN2lCakI5MEUyeDlvN3djMTRoMFZENjdpZzlkV2F5eXJteEVCbGZETlQwRVprU1NHSGszOTZvOVQ2VFZnYmpUQkdHV09sSjcwdzBKU1BWVU5nSWdYX0lkYTdxUmVOZVM3bUN6cG1ydktBbEtUWWNwLXI0WUUzZV9mMWRqa0NqdVUtUU5ZVEZQSEh0cWI3M1JmUXgyVGxQTXhpWFM1ZnFzNEFTY0oyWFR1TjdtSTFZSXRLTkMxU3hjdlhKbjRIV3dndnhGc0xRbnFKVHJCQzBuX2czS3RCTW5USVlCaG9aWmdCMURhQ0Rya0UzakJXVkVKZEhWVzU2Z0o5MXNqaUdYbldXMTRGdVhZTmhGeTFwNGczQmNySFMxb1Z5ZVRDMGxmUEF0QjlMMFU1RWIxWHo3VENHMkN4RUNzd3ZkQ2lVUSJ9fSwidHMiOjE3Mjk2ODc1NDQsImF0IjoiZXlKMGVYQWlPaUpLVjFRaUxDSmhiR2NpT2lKU1V6STFOaUlzSW5nMWRDSTZJak5RWVVzMFJXWjVRazVSZFRORGRHcFpjMkV6V1cxb1VUVkZNQ0lzSW10cFpDSTZJak5RWVVzMFJXWjVRazVSZFRORGRHcFpjMkV6V1cxb1VUVkZNQ0o5LmV5SmhkV1FpT2lKaGNHazZMeTgxT0dRd016RmpOeTAwTmpJekxUUXdaamt0WVRCaFppMDVaREl3TUdObU1UUm1NMllpTENKcGMzTWlPaUpvZEhSd2N6b3ZMM04wY3k1M2FXNWtiM2R6TG01bGRDODVZMlZrTkRFd09TMDROek01TFRReU9UVXRPR1F6WmkxaE1Ua3pOekZoWVdVeU5qTXZJaXdpYVdGMElqb3hOekk1TmpnM01qUTBMQ0p1WW1ZaU9qRTNNamsyT0RjeU5EUXNJbVY0Y0NJNk1UY3lPVFk1TVRFME5Dd2lZV2x2SWpvaWF6SkNaMWxMYW5relJGRndPWEZtTUdjeU5YWmpLMGhIZUROdFYwRkJQVDBpTENKaGNIQnBaQ0k2SWpNNFpEVm1Zekl4TFRreFpHVXROREJsWVMwNE1tUXdMV000TVRkalpXRTRNelpsTlNJc0ltRndjR2xrWVdOeUlqb2lNU0lzSW1OdVppSTZleUpyYVdRaU9pSTNWRTFyVFVadFgwTk5ZakJUUVc4MFYycFJVRnBMVVVweExUUXpVV0pNUlZwWVJ6bHZZVm80TlVKWklpd2llRzF6WDJ0emJDSTZiblZzYkgwc0ltbGtjQ0k2SW1oMGRIQnpPaTh2YzNSekxuZHBibVJ2ZDNNdWJtVjBMemxqWldRME1UQTVMVGczTXprdE5ESTVOUzA0WkRObUxXRXhPVE0zTVdGaFpUSTJNeThpTENKdmFXUWlPaUpqWm1Vd05EbGxPUzB3Tm1NekxUUTJObUV0WVdRMVl5MDJaREUzTTJWa1lUVmtOR1lpTENKeWFDSTZJakF1UVZNNFFVTlZTSFJ1UkcxSWJGVkxUbEEyUjFSallYSnBXVGhqZURCR1oycFNkbXhCYjBzdFpFbEJlbmhVZWw5c1FVRkJMaUlzSW5KdmJHVnpJanBiSWtSdlkzVnRaVzUwTGxkeWFYUmxJaXdpUTJ4cFpXNTBMbGR5YVhSbElsMHNJbk4xWWlJNkltTm1aVEEwT1dVNUxUQTJZek10TkRZMllTMWhaRFZqTFRaa01UY3paV1JoTldRMFppSXNJblJsYm1GdWRGOXlaV2RwYjI1ZmMyTnZjR1VpT2lKRlZTSXNJblJwWkNJNklqbGpaV1EwTVRBNUxUZzNNemt0TkRJNU5TMDRaRE5tTFdFeE9UTTNNV0ZoWlRJMk15SXNJblYwYVNJNklrdzNkMU5UWkZkbFFVVnhOalJOWnpoWVNUQkJRVUVpTENKMlpYSWlPaUl4TGpBaWZRLkpMWlplSVZOOVNGTTJEOGxiMTRDc2UtUGpyWEtjU3dLdjZpT3V1czF2LVE5MXlSc2JSY3hpTm85UW1TazZHbVVQSXhHdVRTQ2VHb1ZUUkpQWDZNQlFUMUpZc1dMRl95UVlzRlF1YUhZd0otc2J0S3hHeXZuenJhREhGdUhpcjUtWXFsTXF2OXFDaXRkUmVPZGNOVDNHc1FhSUhKUUlXbWUxRWc1LU9LajExV0FYTVRQWWJkVXg5YW52Sjg0dzI3Zkx5ZVVGaGYtMDZTOVZ1MDdJTWNlR29HUXZkLUFRUzBENFV4bUVsM2RsWUczQ3VXSUUwTjR0Y3FVelB2T3Mxc2pFa0xPdHZKQVp1bnFzRUxvNFN0OFkyRG5HVjdESlJUM3luQV9jakdydG5JWnllRm8wUVRKdzRPRWxSSThBLVdmSlprT00xbkxCY0pnYTFERmFuemJlQSIsIm5vbmNlIjoiMzM5YmI2NjdjMGFmNDFlODllOWZkM2Y0ZmY5ZmQ0ZTMiLCJ1IjoiYnJhaW4tYXBpLnNvZnRsYXcuYWkiLCJwIjoiLyJ9.rZY95BdiX8NAjn1vUNoZR7V9XGOs3eDw5IgiRQXUsEWZFwGJSvxh4hLWp4qN2tFnN1dEiz5DCFgbnjKqTGEHg2GfSt4FFJQoF_k5rQ0wbPu6KbH0mvLmb-KFvLNrkKQQwZzvtyBLxK6e7v-smf-Z9cjisHyaA9ywq9WpvwIo2G9VXrVJMNvMBo-EHG2R7TCylz_k2zZMVyrZ_dDSp3h0qUDVh8kpXel252bb0JmP-zqQnhyxcC1rKBIW7UqoErKxYuYbsNx2neHlX7akwfkvSCmU7jjHcbce8b2GYh0PBSff1lXvkBI0QARkifHNW0AT5w3o417pRpRP3upxeUIkww.c5h697wK6+mU4TvThrK66XYeYJWd9GtygpWGLLJRA7F+rLUjDIgypkWLcDtkMtyMxk/80ER8vKHwpjv+PN48/v6Q6t3a6scpuEnWaM4nYEgbgQhY0DTMtdwdKcLdD2VC\n"
     ]
    }
   ],
   "source": [
    "token = get_token()\n",
    "print('token: ', token)"
   ]
  },
  {
   "cell_type": "code",
   "execution_count": 32,
   "metadata": {},
   "outputs": [
    {
     "name": "stdout",
     "output_type": "stream",
     "text": [
      " Hello Thi! I'm glad you came back to chat. I'm here to help you with any questions or concerns you have about legal documents or legal issues. Is there something specific that you would like to ask or talk about today? I'm here to provide guidance and support, so please feel free to let me know what's on your mind.\n",
      "Stream end!\n"
     ]
    }
   ],
   "source": [
    "url = brain_domain + brain_endpoint_chatbot\n",
    "headers = {\n",
    "    'Authorization': token,\n",
    "    'Content-Type': 'application/json'\n",
    "}\n",
    "payload = json.dumps({\n",
    "    \"text\": \"Hello, my name is Thi\",\n",
    "    \"messages\": [\n",
    "        {\n",
    "            \"role\": 1,\n",
    "            \"content\": \"Who are you?\"\n",
    "        }\n",
    "    ]\n",
    "})\n",
    "\n",
    "stream = True\n",
    "response = requests.request(\"POST\", url, headers=headers, data=payload, stream=stream)\n",
    "\n",
    "if response.status_code == 401:\n",
    "    print('access_token is expired, get a new one...')\n",
    "    token = get_token()\n",
    "    if token:\n",
    "        headers['Authorization'] = token\n",
    "        response = requests.request(\"POST\", url, headers=headers, data=payload)\n",
    "\n",
    "if response.status_code == 200:\n",
    "    if not stream:\n",
    "        print('Request successful!')\n",
    "        print(response.text)\n",
    "\n",
    "    else:\n",
    "        text = ''\n",
    "        for index, chunk in enumerate(response.iter_content(chunk_size=None)):\n",
    "            text += chunk.decode('utf-8')\n",
    "            if chunk:\n",
    "                print(text, end=\"\\r\")\n",
    "        print('\\nStream end!')"
   ]
  },
  {
   "cell_type": "code",
   "execution_count": 19,
   "metadata": {},
   "outputs": [
    {
     "data": {
      "text/plain": [
       "'PoP eyJhbGciOiJSUzI1NiIsImtpZCI6IjdUTWtNRm1fQ01iMFNBbzRXalFQWktRSnEtNDNRYkxFWlhHOW9hWjg1QlkiLCJ0eXAiOiJwb3AifQ.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.alXHRm6dK3_RbYf1Vn6qdDMS6VukK6pMI1xYSHvQH_5UEzSXtZrs8JKDRjWTQA9Sd3P88HQlzk7uFwZtV7EB-1F9NfzDgmtqUIKSNXJrkHea3wB-Md83jZpxRxpKggLI22TRfaUTI00U2F9ysZE0VixLxUR7_JZdboJoBL2d8nbFl9V7ms1u7t8EAJG9s7bERwMnTYT8Dk2bIB5A0jIT8GgN3AcBjbWvga26bXS5zwj2VJToZ1zbxPkSurxYajN8H-eYit49cAMgYlzjMmK99ZMr6uTMRByZUOplolufMt5WUjCODcgyg_FvDooQ8-KFL1KqSohANSdwtgZ4jy9tbg.c5h697wK6+mU4TvThrK66XYeYJWd9GtygpWGLLJRA7F+rLUjDIgypkWLcDtkMtyMxk/80ER8vKHwpjv+PN48/v6Q6t3a6scpuEnWaM4nYEgbgQhY0DTMtdwdKcLdD2VC'"
      ]
     },
     "execution_count": 19,
     "metadata": {},
     "output_type": "execute_result"
    }
   ],
   "source": [
    "def get_token():\n",
    "    payload = {'softlaw_client_id': brain_softlaw_client_id,\n",
    "               'external_user_id': brain_external_user_id,\n",
    "               'client_id': brain_client_id,\n",
    "               'client_secret': brain_client_secret,\n",
    "               'pop_uri': brain_pop_uri}\n",
    "\n",
    "    headers = {}\n",
    "    files = []\n",
    "\n",
    "    response = requests.request(\"POST\", brain_auth_endpoint, headers=headers, data=payload, files=files)\n",
    "\n",
    "    return response.json()['access_token']\n",
    "\n",
    "get_token()"
   ]
  },
  {
   "cell_type": "code",
   "execution_count": null,
   "metadata": {},
   "outputs": [],
   "source": []
  }
 ],
 "metadata": {
  "kernelspec": {
   "display_name": "docAna",
   "language": "python",
   "name": "python3"
  },
  "language_info": {
   "codemirror_mode": {
    "name": "ipython",
    "version": 3
   },
   "file_extension": ".py",
   "mimetype": "text/x-python",
   "name": "python",
   "nbconvert_exporter": "python",
   "pygments_lexer": "ipython3",
   "version": "3.9.19"
  }
 },
 "nbformat": 4,
 "nbformat_minor": 2
}
