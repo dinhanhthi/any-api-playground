{
 "cells": [
  {
   "cell_type": "code",
   "execution_count": 1,
   "metadata": {},
   "outputs": [],
   "source": [
    "from dotenv import load_dotenv\n",
    "import os\n",
    "import re\n",
    "import requests\n",
    "import json"
   ]
  },
  {
   "cell_type": "code",
   "execution_count": 2,
   "metadata": {},
   "outputs": [],
   "source": [
    "load_dotenv()\n",
    "brain_domain = os.getenv('BRAIN_DOMAIN')\n",
    "brain_auth_endpoint = os.getenv('BRAIN_AUTH_ENDPOINT')\n",
    "brain_endpoint_chatbot = os.getenv('BRAIN_ENDPOINT_CHATBOT')\n",
    "brain_endpoint_init = os.getenv('BRAIN_ENDPOINT_INIT')\n",
    "brain_softlaw_client_id = os.getenv('BRAIN_SOFTLAW_CLIENT_ID')\n",
    "brain_external_user_id = os.getenv('BRAIN_EXTERNAL_USER_ID')\n",
    "brain_client_id = os.getenv('BRAIN_CLIENT_ID')\n",
    "brain_client_secret = os.getenv('BRAIN_CLIENT_SECRET')\n",
    "brain_pop_uri = os.getenv('BRAIN_POP_URI')\n",
    "brain_space_id = os.getenv('BRAIN_SPACE_ID')\n"
   ]
  },
  {
   "cell_type": "code",
   "execution_count": 4,
   "metadata": {},
   "outputs": [
    {
     "name": "stdout",
     "output_type": "stream",
     "text": [
      "Get token successful!\n"
     ]
    },
    {
     "data": {
      "text/plain": [
       "'PoP eyJhbGciOiJSUzI1NiIsImtpZCI6IldhTUZCdXFJVURiVXFUQ1pYNmJMUFdHdllDLXdHdVVtdktkQUl2bEVlTlkiLCJ0eXAiOiJwb3AifQ.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.WjqHmjY1XSqlWVQrig-MQpBlYU6ps74o-09pZHJLgK95iFaPTzzRpyE5DgQtRV51-Hwi4-aBm8gp1IbHWNE0qN1dwM7wiMlCZ8DgO5r2MYYMDMxnW1mu4-OO7f516ye9HddidyqkDZrzy0xkuzgJ80-T8aQig26aDyyRrZZNtQ7rVQ-KybZLtwC4TZYpKPdNuQfBhUnROhTGXqlsY1Jc9qTvMdRlPWp29PDiVOMnprEpfPoNe0eqRGmY_5FJkWfHyRdTy-rcVNMaQ0opOMrWPwjQrMVN72I3NpKQwpq11AC0cScwInV8Z2HeHrHRf6DWt9dfpSmKxZEA1OqTqkm3wg.c5h697wK6+mU4TvThrK66XYeYJWd9GtygpWGLLJRA7F+rLUjDIgypkWLcDtkMtyMxk/80ER8vKHwpjv+PN48/v6Q6t3a6scpuEnWaM4nYEgbgQhY0DTMtdwdKcLdD2VC'"
      ]
     },
     "execution_count": 4,
     "metadata": {},
     "output_type": "execute_result"
    }
   ],
   "source": [
    "def get_token():\n",
    "    payload = {'softlaw_client_id': brain_softlaw_client_id,\n",
    "               'external_user_id': brain_external_user_id,\n",
    "               'client_id': brain_client_id,\n",
    "               'client_secret': brain_client_secret,\n",
    "            #    'client_secret': 'x',\n",
    "               'pop_uri': brain_pop_uri}\n",
    "\n",
    "    response = requests.post(brain_auth_endpoint, headers={}, data=payload, files=[])\n",
    "    if response.status_code == 200:\n",
    "        print('Get token successful!')\n",
    "        return response.json()['access_token']\n",
    "    else:\n",
    "        print('Get token failed!')\n",
    "        return None\n",
    "\n",
    "get_token()\n"
   ]
  },
  {
   "cell_type": "code",
   "execution_count": 5,
   "metadata": {},
   "outputs": [
    {
     "name": "stdout",
     "output_type": "stream",
     "text": [
      "Get token successful!\n",
      "token:  PoP eyJhbGciOiJSUzI1NiIsImtpZCI6IldhTUZCdXFJVURiVXFUQ1pYNmJMUFdHdllDLXdHdVVtdktkQUl2bEVlTlkiLCJ0eXAiOiJwb3AifQ.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.CimLjfo8aE2xYnvEVWg3xOshDaV3Xd_x9JPeuSKNCeTA6Zn258qzdAulTu6WqpmOw4N866AtVhR3LVs8Fyb36OgC3W_7BQxVwcYq4nxek0f41dDx43slkBK4BqevdsKmAsbI7fhnrOFBVd7lDq1C3Eb993duUIUZJRI-9a6KIbTYNQBS72oq4FPyK4JJ5HfVC3lFl9bF6wV9tFi78zZEiIjEIJ3UoHCePoHWAcJsLM5ghGHkkkSCTj6Z-uIaokY3wPDk_GImNYNyQbjlBMQr4selLwBhhlrWvWO0DaMrv6lyjXsxCKXL1xmsDHL8CTyzrtuOnfk2iYLhvIwisLGKEw.c5h697wK6+mU4TvThrK66XYeYJWd9GtygpWGLLJRA7F+rLUjDIgypkWLcDtkMtyMxk/80ER8vKHwpjv+PN48/v6Q6t3a6scpuEnWaM4nYEgbgQhY0DTMtdwdKcLdD2VC\n"
     ]
    }
   ],
   "source": [
    "token = get_token()\n",
    "print('token: ', token)"
   ]
  },
  {
   "cell_type": "code",
   "execution_count": 8,
   "metadata": {},
   "outputs": [
    {
     "name": "stdout",
     "output_type": "stream",
     "text": [
      "Bonjour Thi ! Comment puis-je vous être utile aujourd'hui ? Si vous avez des questions ou si vous avez besoin d'aide sur un sujet particulier, n'hésitez pas à me le faire savoir. Je suis là pour vous aider avec ce dont vous avez besoin, que ce soit des informations, des explications ou tout autre assistance. ��\n",
      "Stream end!\n"
     ]
    }
   ],
   "source": [
    "url = brain_domain + brain_endpoint_chatbot\n",
    "headers = {\n",
    "    'Authorization': token,\n",
    "    'Content-Type': 'application/json'\n",
    "}\n",
    "payload = json.dumps({\n",
    "    \"text\": \"Hello, my name is Thi\",\n",
    "    \"messages\": [\n",
    "        {\n",
    "            \"role\": 1,\n",
    "            \"content\": \"Who are you?\"\n",
    "        }\n",
    "    ]\n",
    "})\n",
    "\n",
    "stream = True\n",
    "response = requests.request(\"POST\", url, headers=headers, data=payload, stream=stream)\n",
    "\n",
    "if response.status_code == 401:\n",
    "    print('access_token is expired, get a new one...')\n",
    "    token = get_token()\n",
    "    if token:\n",
    "        headers['Authorization'] = token\n",
    "        response = requests.request(\"POST\", url, headers=headers, data=payload)\n",
    "\n",
    "if response.status_code == 200:\n",
    "    if not stream:\n",
    "        print('Request successful!')\n",
    "        print(response.text)\n",
    "        # print(response.json()) # fail\n",
    "\n",
    "    else:\n",
    "        text = ''\n",
    "        for index, chunk in enumerate(response.iter_content(chunk_size=None)):\n",
    "            if chunk:\n",
    "                text += chunk.decode('utf-8')\n",
    "                print(text, end=\"\\r\")\n",
    "        print('\\nStream end!')"
   ]
  },
  {
   "cell_type": "code",
   "execution_count": 6,
   "metadata": {},
   "outputs": [],
   "source": [
    "# NEW BRAIN API\n",
    "\n",
    "import json\n",
    "import requests\n",
    "\n",
    "\n",
    "# token = \"PoP eyJhbGciOiJSUzI1NiIsImtpZCI6IjdwLXVfUTQyMThIRTE1N3ZSeGdzRE05WTBKWUp2U1V3LWhIWnQ5UllxS28iLCJ0eXAiOiJwb3AifQ.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.vurI73DyPSd-zCeJxJYvn69r3LJO31Qb_EvhaJG0DDB74hkAcYP1lhOZHNs0t9dGvyA0WjHwyvBjVQkCGcZMYaplj0Wg2r-cc94D1GBpS9hYZhUmAczGYzAqAQnuL_6nYAABv83O47KR3XcmvrdGfMpwZcswlrImGAJ7ksybJ_1RlOv75-fQhOjfk8sdVmWTiwjkOiwOZ1sISVW6Tt7TAkyVkUSniTHnCnN9T8I8jFqNKtKnWdCPzDq20UudJwBQeM3y4QOQqy1c-FGnuzZ1even8RdR46PRTXCJDrpJWeXXpaeH1EynjYBTUwoFs3f70DRcw2ffU7waVw-m5CDNlg.c5h697wK6+mU4TvThrK66XYeYJWd9GtygpWGLLJRA7F+rLUjDIgypkWLcDtkMtyMxk/80ER8vKHwpjv+PN48/v6Q6t3a6scpuEnWaM4nYEgbgQhY0DTMtdwdKcLdD2VC\"\n",
    "# spaceId = \"56773c04-006c-4875-addd-0b42b2b68746\"\n",
    "# headers = {\n",
    "#     'Authorization': token,\n",
    "#     'Content-Type': 'application/json; charset=utf-8',\n",
    "#     'spaceId': spaceId\n",
    "# }\n",
    "stream = True\n",
    "url = \"https://brain-api.softlaw.ai/v1/chat/completions\"\n",
    "# data = json.dumps({\n",
    "#     \"model\": \"mistral-small-24b\",\n",
    "#     \"messages\": [\n",
    "#         {\n",
    "#             \"role\": \"user\",\n",
    "#             \"content\": \"Count from 1 to 10\"\n",
    "#         }\n",
    "#     ],\n",
    "#     \"stream\": stream,\n",
    "#     # \"messages\": [\n",
    "#     #     {\n",
    "#     #         \"role\": \"user\",\n",
    "#     #         \"content\": \"What's the weather like in Boston today?\"\n",
    "#     #     }\n",
    "#     # ],\n",
    "#     # \"tools\": [\n",
    "#     #     {\n",
    "#     #         \"type\": \"function\",\n",
    "#     #         \"function\": {\n",
    "#     #             \"name\": \"get_current_weather\",\n",
    "#     #             \"description\": \"Get the current weather in a given location\",\n",
    "#     #             \"parameters\": {\n",
    "#     #                 \"type\": \"object\",\n",
    "#     #                 \"properties\": {\n",
    "#     #                     \"location\": {\n",
    "#     #                         \"type\": \"string\",\n",
    "#     #                         \"description\": \"The city and state, e.g. San Francisco, CA\"\n",
    "#     #                     },\n",
    "#     #                     \"unit\": {\n",
    "#     #                         \"type\": \"string\",\n",
    "#     #                         \"enum\": [\n",
    "#     #                             \"celsius\",\n",
    "#     #                             \"fahrenheit\"\n",
    "#     #                         ]\n",
    "#     #                     }\n",
    "#     #                 },\n",
    "#     #                 \"required\": [\n",
    "#     #                     \"location\"\n",
    "#     #                 ]\n",
    "#     #             }\n",
    "#     #         }\n",
    "#     #     }\n",
    "#     # ]\n",
    "# })\n",
    "\n",
    "headers = {'Authorization': 'PoP eyJhbGciOiJSUzI1NiIsImtpZCI6IkFrbmU4dmtlTmMxYmZzVEpYeFFhQTBIeHRLdFFvZTlfVkl5YjlFWnFoYmMiLCJ0eXAiOiJwb3AifQ.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.AFe7Qqor7ecaxTb-J7KyJnXdFPrZk4BjdXJbEcAG_OOrR6e5zRpn5YlVmrB6ys-bQaZqxvvW8X5yu_T9C936Z0sV8sRw0Y1Ew2BVY4jLuRBsgcraDIW4hn11M1fprrb5zXaQ5AVGahTyBvw16B7gR76DkPAMiYzr-gIYHsrrvcm7OoMGQnKRqTPN39OQ0RVSOwXrY_RF6L19ZBCL2WF0kv16Wyka4l6GcPCIxFsjMUGhVDkQ2yiRYNjyVZybzfTj6RGDDK-yystIdNFpCU-ZHPmLYyJB-HlL8FQK0uYPYHUhX6lEi9KC4dF4pdMeipD85TjnYyZ4e_2Ky_vTd3oR8g.c5h697wK6+mU4TvThrK66XYeYJWd9GtygpWGLLJRA7F+rLUjDIgypkWLcDtkMtyMxk/80ER8vKHwpjv+PN48/v6Q6t3a6scpuEnWaM4nYEgbgQhY0DTMtdwdKcLdD2VC', 'Content-Type': 'application/json; charset=utf-8', 'spaceId': 'c9718310-395d-4db1-bfc8-54dd021ea686'}\n",
    "\n",
    "payload = {'model': 'phi-4', 'stream': stream, 'messages': [{'role': 'system', 'content': 'You are an AI assistant from Ideta. Your name is BRAIN.\\nHere is the information you must base your answer upon :\\n\\n\\n - 21/09/2023, 17:12 Hi! I\\'m Thi\\nhttps://dinhanhthi.com 1/3\\nHi! I\\'m Thi\\nI am a guy with a curious mind. I would like to learn something new every day. I\\nalso have a PhD in Applied Mathematics and currently work as a Data Scientist\\nand Full Stack Developer at Ideta. On this page, you can find the notes I made\\nwhen I discovered something new in the fields of Data Science and Web\\nDevelopment.\\n \\n \\nCONTACT 📋 MY CV 🎨 MY SKETCHES\\n📚 READING LIST 🍲 I COOK\\nLatest blog posts\\nBuild a\\nwebsite with\\nWordpressBuild a\\nwebsite\\nwith\\nWordpressA workflow\\nfor\\ncreating a\\nDocker\\nHome About\\ue831Blog Note s /search posts21/09/2023, 17:12 Hi! I\\'m Thi\\nhttps://dinhanhthi.com 2/3 GCP AIO Notes • updated\\n Fresh MacOS installation\\n TypeScript discrete notes •\\n Creating a Chrome extension • †\\n Github •\\n JS discrete notes\\n Git\\n Yarn •\\n Zelda: BOTW •and Gatsby\\n2and\\nGatsby 1image  with\\nsuppo rt for\\nTensorFlow,\\nPyTorch,\\nand GPU\"Blog\" vs\\n\"Notes\" on\\nthis site?\\nWorking\\nwith image s\\nin\\nmarkdown\\nfiles and\\nstatic sites\\n(11ty)\\nRecently\\n - link: https://v1.dinhanhthi.com/reading/quang-ganh-lo-di-va-vui-song/\\n   Toggle navigation Anh-Thi DINH(/) Explore(javascript:void(0)) Blog(/blog) Sketch(/sketch) Read(/reading) Status(/status) Projects(javascript:void(0)) Math2IT(http://math2it.com) Tôi Tự Học(https://toituhoc.xyz) About Me(/aboutme) (/) Đây là quyển sách tôi được tặng bởi cô giáo hướng dẫn thực tập sư phạm năm thứ 4, cô Ngọc. Hồi ấy tôi thực tập ở trường Giồng Ông Tố, Quận 2, Tp.HCM với nhiều áp lực và lo lắng. Có lẽ vì thế mà trong một lễ hội sách tổ chức cùng thời điểm ấy, cô Ngọc đã mua quyển sách và tặng cho tôi kèm dòng ghi chú “ Cô chúc em luôn mạnh khỏe và thành công trong cuộc sống lẫn sự nghiệp giáo dục của mình. ” Chính người ngoài cuộc như cô đã nhận thấy trong tôi chất chứa quá nhiều lo lắng và suy nghĩ. Cô đã tặng nó cho tôi vào quý 2-3 năm 2012 mà đến tận năm 2017, khi đã sang Pháp tôi mới chịu lấy ra đọc khi mà mình đủ chính chắn để nhận ra quyển sách thật sự cần thiết lúc này. Sách được viết bởi Dale Carnegie (1888-1955), tác giả của quyển Đắc Nhân Tâm ( How to win friends\\n - link: https://v1.dinhanhthi.com/reading/quang-ganh-lo-di-va-vui-song/\\n   rsall Smith. Sai lầm của những người đến xin việc là học không phải là chính mình. Thay vì cư xử tự nhiện và nói chuyện thẳng thắn, họ thường cố đưa ra những câu trả lời mà họ nghĩ là tôi muốn nghe. Hạnh phúc không chỉ đơn giản là sự hài lòng mà là cảm giác chiến thắng. Điều quan trọng nhất trong cuộc sống không pahỉ là thu lợi từ những cái mình đang có. Người khờ dại đến mấy cũng làm được như thế. Điều thực sự quan trọng là phải biết thu lợi từ chính những cái đã mất. Việc đó đòi hỏi sự thông minh; và chính nó tạo ra sự khác biệt giữa người khôn và kẻ ngốc. - Nhà văn William Bolitho. Triết gia Nietzche có một tiêu chí xác định đâu là người xuất chúng như sau: Đó là những người không những có đủ nghị lực để chịu đựng khó khăn mà còn phải yêu thích chúng nữa. Milton đã viết được những vần thơ hay như thế là do ông bị mù và Beethoven có thể soạn những bản nhạc bất hủ là vì ông bị điếc (năm ông 49 tuổi, 8 năm sau ông mất). Charles Darwin, người đã làm thay đổi hoàn toàn những quan điểm kh\\n - link: https://v1.dinhanhthi.com/reading/quang-ganh-lo-di-va-vui-song/\\n   in lành người Mỹ. Hãy để tâm tới các rắc rối của mình nhưng chớ nên lo lắng vì chúng. Mọi nguyên nhân đều bắt nguồn từ suy nghĩ của chúng ta và mọi kết quả đều là những hiện tượng tinh thần. - Mary Baker Eddy, người sáng lập ra Christian Science (Khoa học Cơ đốc), đây là tôn giáo duy nhất do một người phụ nữ sáng lập. Hoàng đế Napoleon “Cả đời tôi chưa có lấy 6 ngày sống trong hạnh phúc”, thế mà Helen Keller, người phụ nữa mù lòa và câm điếc bẩm sinh lại thốt lên “Cuộc đời này tươi đẹp biết bao!” Nếu tôi có thể rút ra được điều gì sau gần nửa thế kỷ sống trên đời, hẳn đó là “Không gì có thể mang lại sự bình yên cho bạn ngoại trừ chính bản thân bạn”. William James đã chỉ ra không phải cứ hạ quyết tâm là có thể ngay lập tức thay đổi cảm xúc, thay vào đó, chúng ta nên thay đổi hành động và khi hành động đã thay đổi, cảm xúc sẽ tự biến đổi theo. Không thể có chuyện bạn vẫn tiếp tục thấy buồn chán và thất vọng khi đang hành động như thể mình là người vô cùng hạnh phúc. Tôi sẽ viết ra những \\n - link: https://v1.dinhanhthi.com/reading/quang-ganh-lo-di-va-vui-song/\\n    không phải là những rắc rối. Đừng bắt chước người khác, hãy khám phá bản thân và tự tin là chính mình. Chấp nhận và biến đổi khó khăn thành cơ hội Hãy quên đi bản thân và mang niềm vui, hạnh phúc đến cho người khác. Gạt bỏ nỗi lo bị chỉ trích Một lời chỉ trích bất công thường là những lời ca ngợi bị biến hình vì ghen tỵ. Hãy nhớ, không ai thèm soi mói vì một kẻ tầm thường. Hãy làm tốt nhất những gì có thể, rồi bật chiếc dù của bạn lên để cơn mưa nhận xét không làm ướt gáy bạn. Ghi nhận và phân tích những điểm yếu của bản thân. Sáu cách tránh mệt mỏi và lo lắng, đồng thời nâng cao tinh thần và sức lực Nghỉ ngơi trước khi mệt. Học cách thư giãn khi đang làm việc. Học cách thư giãn khi đang ở nhà. Áp dụng thói quen tốt trong lúc làm việc Dọn sạch tất cả giấy tờ trên bàn, trừ những thứ liên quan đến vấn đề đang giải quyết. Xử lý mọi việc theo thứ tự quan trọng Khi gặp vấn đề nảy sinh, hãy giải quyết luôn nếu thấy có đầy đủ các yếu tố cần thiết để đưa ra quyết định. Học cách tổ chức, ủy qu'}, {\n",
    "    'role': 'user', 'content': 'who are you?'}], 'temperature': 0.5, 'presence_penalty': 0.4}\n",
    "\n",
    "data = json.dumps(payload)\n",
    "\n",
    "response = requests.post(url, data=data, headers=headers, stream=stream)\n",
    "\n",
    "try:\n",
    "    if not stream:\n",
    "        response = response.json()\n",
    "        # print(\"👉👉👉 response: \", response)  # ///Thi\n",
    "        # print(\"text: \", response['choices'][0]['message']['content'])\n",
    "        print(response[\"usage\"][\"prompt_tokens\"])\n",
    "        print(response[\"usage\"][\"completion_tokens\"])\n",
    "    else:\n",
    "        # for line in response.iter_lines():\n",
    "        #     if line:\n",
    "        #         line = line.decode('utf-8')\n",
    "        #         if line.startswith('data: '):\n",
    "        #             json_str = line[6:]  # Remove 'data: ' prefix\n",
    "        #             if json_str == '[DONE]':\n",
    "        #                 break\n",
    "        #             try:\n",
    "        #                 chunk = json.loads(json_str)\n",
    "        #                 if 'choices' in chunk and chunk['choices']:\n",
    "        #                     delta = chunk['choices'][0]['delta']\n",
    "        #                     if 'content' in delta:\n",
    "        #                         print(delta['content'], end='', flush=True)\n",
    "        #             except json.JSONDecodeError:\n",
    "        #                 continue\n",
    "\n",
    "        for line in response.iter_lines():\n",
    "            if line:\n",
    "                line = line.decode('utf-8')\n",
    "                if line.startswith('data: '):\n",
    "                    json_str = line[6:]  # Remove 'data: ' prefix\n",
    "                    if json_str == '[DONE]':\n",
    "                        break\n",
    "                    chunk = json.loads(json_str)\n",
    "                    if 'choices' in chunk and chunk['choices']:\n",
    "                        delta = chunk['choices'][0]['delta']\n",
    "                        if 'content' in delta:\n",
    "                            chunk = delta['content']\n",
    "                            print(chunk, end=\"\", flush=True)\n",
    "except Exception as e:\n",
    "    print(\"👉👉👉 error!\")  # ///Thi\n",
    "    print(e)"
   ]
  },
  {
   "cell_type": "code",
   "execution_count": null,
   "metadata": {},
   "outputs": [],
   "source": []
  },
  {
   "cell_type": "code",
   "execution_count": 41,
   "metadata": {},
   "outputs": [
    {
     "ename": "AttributeError",
     "evalue": "'str' object has no attribute 'get'",
     "output_type": "error",
     "traceback": [
      "\u001b[0;31m---------------------------------------------------------------------------\u001b[0m",
      "\u001b[0;31mAttributeError\u001b[0m                            Traceback (most recent call last)",
      "Cell \u001b[0;32mIn[41], line 8\u001b[0m\n\u001b[1;32m      3\u001b[0m dct \u001b[38;5;241m=\u001b[39m {}\n\u001b[1;32m      5\u001b[0m \u001b[38;5;66;03m# dct['choices'][0]['message']['content']\u001b[39;00m\n\u001b[1;32m      6\u001b[0m \n\u001b[1;32m      7\u001b[0m \u001b[38;5;66;03m# use .get() to avoid KeyError\u001b[39;00m\n\u001b[0;32m----> 8\u001b[0m \u001b[43mdct\u001b[49m\u001b[38;5;241;43m.\u001b[39;49m\u001b[43mget\u001b[49m\u001b[43m(\u001b[49m\u001b[38;5;124;43m'\u001b[39;49m\u001b[38;5;124;43mchoices\u001b[39;49m\u001b[38;5;124;43m'\u001b[39;49m\u001b[43m,\u001b[49m\u001b[43m \u001b[49m\u001b[38;5;124;43m'\u001b[39;49m\u001b[38;5;124;43mError: No choices found\u001b[39;49m\u001b[38;5;124;43m'\u001b[39;49m\u001b[43m)\u001b[49m\u001b[43m[\u001b[49m\u001b[38;5;241;43m0\u001b[39;49m\u001b[43m]\u001b[49m\u001b[38;5;241;43m.\u001b[39;49m\u001b[43mget\u001b[49m(\u001b[38;5;124m'\u001b[39m\u001b[38;5;124mmessage\u001b[39m\u001b[38;5;124m'\u001b[39m)\u001b[38;5;241m.\u001b[39mget(\u001b[38;5;124m'\u001b[39m\u001b[38;5;124mcontent\u001b[39m\u001b[38;5;124m'\u001b[39m)\n",
      "\u001b[0;31mAttributeError\u001b[0m: 'str' object has no attribute 'get'"
     ]
    }
   ],
   "source": [
    "# dct = {'id': 'chatcmpl-9a7bd40957884f9f8567c4e203429e56', 'object': 'chat.completion', 'model': 'mistral-small-24b', 'system_fingerprint': None, 'choices': [{'index': 0, 'message': {'role': 'assistant', 'content': 'Sure, here is the count from 1 to 10:\\n\\n1, 2, 3, 4, 5, 6, 7, 8, 9, 10.', 'tool_calls': None}, 'delta': None, 'finish_reason': 'stop', 'logprobs': None, 'tool_calls': None}], 'created': 1748655478, 'usage': {'prompt_tokens': 11, 'total_tokens': 56, 'completion_tokens': 45}}\n",
    "\n",
    "dct = {}\n",
    "\n",
    "# dct['choices'][0]['message']['content']\n",
    "\n",
    "# use .get() to avoid KeyError\n",
    "dct.get('choices', 'Error: No choices found')[0].get('message').get('content')\n"
   ]
  },
  {
   "cell_type": "code",
   "execution_count": null,
   "metadata": {},
   "outputs": [],
   "source": []
  },
  {
   "cell_type": "code",
   "execution_count": null,
   "metadata": {},
   "outputs": [],
   "source": []
  },
  {
   "cell_type": "code",
   "execution_count": null,
   "metadata": {},
   "outputs": [],
   "source": []
  }
 ],
 "metadata": {
  "kernelspec": {
   "display_name": "Python 3",
   "language": "python",
   "name": "python3"
  },
  "language_info": {
   "codemirror_mode": {
    "name": "ipython",
    "version": 3
   },
   "file_extension": ".py",
   "mimetype": "text/x-python",
   "name": "python",
   "nbconvert_exporter": "python",
   "pygments_lexer": "ipython3",
   "version": "3.9.19"
  }
 },
 "nbformat": 4,
 "nbformat_minor": 2
}
