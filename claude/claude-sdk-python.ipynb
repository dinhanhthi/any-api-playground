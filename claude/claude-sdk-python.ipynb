{
 "cells": [
  {
   "cell_type": "code",
   "execution_count": 1,
   "metadata": {},
   "outputs": [],
   "source": [
    "import anthropic\n",
    "from dotenv import load_dotenv\n",
    "import os\n",
    "load_dotenv()\n",
    "api_key = os.getenv('CLAUDE_API_KEY')"
   ]
  },
  {
   "cell_type": "code",
   "execution_count": 2,
   "metadata": {},
   "outputs": [],
   "source": [
    "client = anthropic.Anthropic(\n",
    "    api_key=api_key,\n",
    ")"
   ]
  },
  {
   "cell_type": "code",
   "execution_count": 5,
   "metadata": {},
   "outputs": [
    {
     "data": {
      "text/plain": [
       "[TextBlock(text='Yes, you told me that your name is Lala.', type='text')]"
      ]
     },
     "execution_count": 5,
     "metadata": {},
     "output_type": "execute_result"
    }
   ],
   "source": [
    "message = client.messages.create(\n",
    "    model=\"claude-3-5-sonnet-20240620\",\n",
    "    # max_tokens=1024,\n",
    "    messages=[\n",
    "        {\n",
    "            \"role\": \"user\",\n",
    "            \"content\": \"Hello, my name is Lala. Who are you?\"\n",
    "        },\n",
    "        {\n",
    "            \"role\": \"assistant\",\n",
    "            \"content\": \"I am an AI assistant called Claude created by Anthropic to be helpful, harmless, and honest. I don't have a physical body or image.\"\n",
    "        },\n",
    "        {\n",
    "            \"role\": \"user\",\n",
    "            \"content\": \"Do you know my name?\"\n",
    "        }\n",
    "    ]\n",
    ")\n",
    "message.content\n",
    "# message\n"
   ]
  },
  {
   "cell_type": "code",
   "execution_count": 9,
   "metadata": {},
   "outputs": [
    {
     "data": {
      "text/plain": [
       "'Yes, you told me that your name is Lala.'"
      ]
     },
     "execution_count": 9,
     "metadata": {},
     "output_type": "execute_result"
    }
   ],
   "source": [
    "message.content[0].text"
   ]
  },
  {
   "cell_type": "code",
   "execution_count": 12,
   "metadata": {},
   "outputs": [
    {
     "name": "stdout",
     "output_type": "stream",
     "text": [
      "Hello! How can I assist you today? Feel free to ask any questions or let me know if you need help with anything.\n",
      "Input tokens: 8\n",
      "Output tokens: 29\n"
     ]
    }
   ],
   "source": [
    "with client.messages.stream(\n",
    "    max_tokens=1024,\n",
    "    messages=[{\"role\": \"user\", \"content\": \"Hello\"}],\n",
    "    model=\"claude-3-5-sonnet-20240620\",\n",
    ") as stream:\n",
    "  for text in stream.text_stream:\n",
    "      print(text, end=\"\", flush=True)\n",
    "\n",
    "final_message = stream.get_final_message()\n",
    "input_tokens = final_message.usage.input_tokens\n",
    "output_tokens = final_message.usage.output_tokens\n",
    "\n",
    "print(f\"\\nInput tokens: {input_tokens}\")\n",
    "print(f\"Output tokens: {output_tokens}\")\n"
   ]
  },
  {
   "cell_type": "code",
   "execution_count": 10,
   "metadata": {},
   "outputs": [
    {
     "name": "stdout",
     "output_type": "stream",
     "text": [
      "START RawMessageStartEvent(message=Message(id='msg_01SazQNG3QDpMUhKovNQmaK7', content=[], model='claude-3-5-sonnet-20240620', role='assistant', stop_reason=None, stop_sequence=None, type='message', usage=Usage(input_tokens=64, output_tokens=1)), type='message_start')\n",
      "START2 RawContentBlockStartEvent(content_block=TextBlock(text='', type='text'), index=0, type='content_block_start')\n",
      "Yes\n",
      ", you tol\n",
      "d me your name is\n",
      " Lala when you\n",
      " introduce\n",
      "d yourself.\n",
      "END2 RawContentBlockStopEvent(index=0, type='content_block_stop')\n",
      "CONTENT?END RawMessageDeltaEvent(delta=Delta(stop_reason='end_turn', stop_sequence=None), type='message_delta', usage=MessageDeltaUsage(output_tokens=19))\n",
      "END1 RawMessageStopEvent(type='message_stop')\n"
     ]
    }
   ],
   "source": [
    "message = client.messages.create(\n",
    "    model=\"claude-3-5-sonnet-20240620\",\n",
    "    max_tokens=1024,\n",
    "    messages=[\n",
    "        {\n",
    "            \"role\": \"user\",\n",
    "            \"content\": \"Hello, my name is Lala. Who are you?\"\n",
    "        },\n",
    "        {\n",
    "            \"role\": \"assistant\",\n",
    "            \"content\": \"I am an AI assistant called Claude created by Anthropic to be helpful, harmless, and honest. I don't have a physical body or image.\"\n",
    "        },\n",
    "        {\n",
    "            \"role\": \"user\",\n",
    "            \"content\": \"Do you know my name?\"\n",
    "        }\n",
    "    ],\n",
    "    stream=True\n",
    ")\n",
    "for chunk in message:\n",
    "    if chunk.type == \"message_start\":\n",
    "        print(\"START\", chunk)\n",
    "    elif chunk.type == \"content_block_start\":\n",
    "        print(\"START2\", chunk)\n",
    "    elif chunk.type == \"content_block_delta\":\n",
    "        # print(\"CONTENT?\", chunk)\n",
    "        content = chunk.delta.text\n",
    "        print(content)\n",
    "    elif chunk.type == \"message_delta\":\n",
    "        print(\"CONTENT?END\", chunk)\n",
    "    elif chunk.type == \"message_stop\":\n",
    "        print(\"END1\", chunk)\n",
    "    elif chunk.type == \"content_block_stop\":\n",
    "        print(\"END2\", chunk)\n",
    "    else:\n",
    "        print(\"OTHER\", chunk)"
   ]
  },
  {
   "cell_type": "code",
   "execution_count": null,
   "metadata": {},
   "outputs": [],
   "source": []
  }
 ],
 "metadata": {
  "kernelspec": {
   "display_name": "docAna",
   "language": "python",
   "name": "python3"
  },
  "language_info": {
   "codemirror_mode": {
    "name": "ipython",
    "version": 3
   },
   "file_extension": ".py",
   "mimetype": "text/x-python",
   "name": "python",
   "nbconvert_exporter": "python",
   "pygments_lexer": "ipython3",
   "version": "3.9.19"
  }
 },
 "nbformat": 4,
 "nbformat_minor": 2
}
